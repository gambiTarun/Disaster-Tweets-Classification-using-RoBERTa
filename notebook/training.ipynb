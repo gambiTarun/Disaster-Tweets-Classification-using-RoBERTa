{
 "cells": [
  {
   "cell_type": "markdown",
   "id": "94f3c5e3",
   "metadata": {},
   "source": [
    "# Disaster Tweets Classification using RoBERTa"
   ]
  },
  {
   "cell_type": "code",
   "execution_count": 26,
   "id": "fadf63ba",
   "metadata": {
    "execution": {
     "iopub.execute_input": "2023-06-03T21:36:26.629612Z",
     "iopub.status.busy": "2023-06-03T21:36:26.629296Z",
     "iopub.status.idle": "2023-06-03T21:36:50.316540Z",
     "shell.execute_reply": "2023-06-03T21:36:50.315325Z"
    },
    "papermill": {
     "duration": 23.696664,
     "end_time": "2023-06-03T21:36:50.319004",
     "exception": false,
     "start_time": "2023-06-03T21:36:26.622340",
     "status": "completed"
    },
    "tags": []
   },
   "outputs": [
    {
     "name": "stdout",
     "output_type": "stream",
     "text": [
      "Requirement already satisfied: accelerate in /Users/tarunbirgambhir/miniforge3/envs/tensorflow/lib/python3.10/site-packages (0.19.0)\n",
      "Requirement already satisfied: numpy>=1.17 in /Users/tarunbirgambhir/miniforge3/envs/tensorflow/lib/python3.10/site-packages (from accelerate) (1.23.5)\n",
      "Requirement already satisfied: packaging>=20.0 in /Users/tarunbirgambhir/miniforge3/envs/tensorflow/lib/python3.10/site-packages (from accelerate) (23.1)\n",
      "Requirement already satisfied: psutil in /Users/tarunbirgambhir/miniforge3/envs/tensorflow/lib/python3.10/site-packages (from accelerate) (5.9.5)\n",
      "Requirement already satisfied: pyyaml in /Users/tarunbirgambhir/miniforge3/envs/tensorflow/lib/python3.10/site-packages (from accelerate) (6.0)\n",
      "Requirement already satisfied: torch>=1.6.0 in /Users/tarunbirgambhir/miniforge3/envs/tensorflow/lib/python3.10/site-packages (from accelerate) (2.0.1)\n",
      "Requirement already satisfied: filelock in /Users/tarunbirgambhir/miniforge3/envs/tensorflow/lib/python3.10/site-packages (from torch>=1.6.0->accelerate) (3.12.0)\n",
      "Requirement already satisfied: typing-extensions in /Users/tarunbirgambhir/miniforge3/envs/tensorflow/lib/python3.10/site-packages (from torch>=1.6.0->accelerate) (4.5.0)\n",
      "Requirement already satisfied: sympy in /Users/tarunbirgambhir/miniforge3/envs/tensorflow/lib/python3.10/site-packages (from torch>=1.6.0->accelerate) (1.12)\n",
      "Requirement already satisfied: networkx in /Users/tarunbirgambhir/miniforge3/envs/tensorflow/lib/python3.10/site-packages (from torch>=1.6.0->accelerate) (3.1)\n",
      "Requirement already satisfied: jinja2 in /Users/tarunbirgambhir/miniforge3/envs/tensorflow/lib/python3.10/site-packages (from torch>=1.6.0->accelerate) (3.1.2)\n",
      "Requirement already satisfied: MarkupSafe>=2.0 in /Users/tarunbirgambhir/miniforge3/envs/tensorflow/lib/python3.10/site-packages (from jinja2->torch>=1.6.0->accelerate) (2.1.2)\n",
      "Requirement already satisfied: mpmath>=0.19 in /Users/tarunbirgambhir/miniforge3/envs/tensorflow/lib/python3.10/site-packages (from sympy->torch>=1.6.0->accelerate) (1.3.0)\n",
      "Note: you may need to restart the kernel to use updated packages.\n",
      "Requirement already satisfied: transformers in /Users/tarunbirgambhir/miniforge3/envs/tensorflow/lib/python3.10/site-packages (4.29.2)\n",
      "Requirement already satisfied: filelock in /Users/tarunbirgambhir/miniforge3/envs/tensorflow/lib/python3.10/site-packages (from transformers) (3.12.0)\n",
      "Requirement already satisfied: huggingface-hub<1.0,>=0.14.1 in /Users/tarunbirgambhir/miniforge3/envs/tensorflow/lib/python3.10/site-packages (from transformers) (0.15.1)\n",
      "Requirement already satisfied: numpy>=1.17 in /Users/tarunbirgambhir/miniforge3/envs/tensorflow/lib/python3.10/site-packages (from transformers) (1.23.5)\n",
      "Requirement already satisfied: packaging>=20.0 in /Users/tarunbirgambhir/miniforge3/envs/tensorflow/lib/python3.10/site-packages (from transformers) (23.1)\n",
      "Requirement already satisfied: pyyaml>=5.1 in /Users/tarunbirgambhir/miniforge3/envs/tensorflow/lib/python3.10/site-packages (from transformers) (6.0)\n",
      "Requirement already satisfied: regex!=2019.12.17 in /Users/tarunbirgambhir/miniforge3/envs/tensorflow/lib/python3.10/site-packages (from transformers) (2023.6.3)\n",
      "Requirement already satisfied: requests in /Users/tarunbirgambhir/miniforge3/envs/tensorflow/lib/python3.10/site-packages (from transformers) (2.29.0)\n",
      "Requirement already satisfied: tokenizers!=0.11.3,<0.14,>=0.11.1 in /Users/tarunbirgambhir/miniforge3/envs/tensorflow/lib/python3.10/site-packages (from transformers) (0.13.3)\n",
      "Requirement already satisfied: tqdm>=4.27 in /Users/tarunbirgambhir/miniforge3/envs/tensorflow/lib/python3.10/site-packages (from transformers) (4.65.0)\n",
      "Requirement already satisfied: fsspec in /Users/tarunbirgambhir/miniforge3/envs/tensorflow/lib/python3.10/site-packages (from huggingface-hub<1.0,>=0.14.1->transformers) (2023.5.0)\n",
      "Requirement already satisfied: typing-extensions>=3.7.4.3 in /Users/tarunbirgambhir/miniforge3/envs/tensorflow/lib/python3.10/site-packages (from huggingface-hub<1.0,>=0.14.1->transformers) (4.5.0)\n",
      "Requirement already satisfied: charset-normalizer<4,>=2 in /Users/tarunbirgambhir/miniforge3/envs/tensorflow/lib/python3.10/site-packages (from requests->transformers) (3.1.0)\n",
      "Requirement already satisfied: idna<4,>=2.5 in /Users/tarunbirgambhir/miniforge3/envs/tensorflow/lib/python3.10/site-packages (from requests->transformers) (3.4)\n",
      "Requirement already satisfied: urllib3<1.27,>=1.21.1 in /Users/tarunbirgambhir/miniforge3/envs/tensorflow/lib/python3.10/site-packages (from requests->transformers) (1.26.15)\n",
      "Requirement already satisfied: certifi>=2017.4.17 in /Users/tarunbirgambhir/miniforge3/envs/tensorflow/lib/python3.10/site-packages (from requests->transformers) (2022.12.7)\n",
      "Note: you may need to restart the kernel to use updated packages.\n",
      "zsh:1: no matches found: transformers[torch]\n",
      "Note: you may need to restart the kernel to use updated packages.\n",
      "Requirement already satisfied: spacy in /Users/tarunbirgambhir/miniforge3/envs/tensorflow/lib/python3.10/site-packages (3.5.3)\n",
      "Requirement already satisfied: spacy-legacy<3.1.0,>=3.0.11 in /Users/tarunbirgambhir/miniforge3/envs/tensorflow/lib/python3.10/site-packages (from spacy) (3.0.12)\n",
      "Requirement already satisfied: spacy-loggers<2.0.0,>=1.0.0 in /Users/tarunbirgambhir/miniforge3/envs/tensorflow/lib/python3.10/site-packages (from spacy) (1.0.4)\n",
      "Requirement already satisfied: murmurhash<1.1.0,>=0.28.0 in /Users/tarunbirgambhir/miniforge3/envs/tensorflow/lib/python3.10/site-packages (from spacy) (1.0.9)\n",
      "Requirement already satisfied: cymem<2.1.0,>=2.0.2 in /Users/tarunbirgambhir/miniforge3/envs/tensorflow/lib/python3.10/site-packages (from spacy) (2.0.7)\n",
      "Requirement already satisfied: preshed<3.1.0,>=3.0.2 in /Users/tarunbirgambhir/miniforge3/envs/tensorflow/lib/python3.10/site-packages (from spacy) (3.0.8)\n",
      "Requirement already satisfied: thinc<8.2.0,>=8.1.8 in /Users/tarunbirgambhir/miniforge3/envs/tensorflow/lib/python3.10/site-packages (from spacy) (8.1.10)\n",
      "Requirement already satisfied: wasabi<1.2.0,>=0.9.1 in /Users/tarunbirgambhir/miniforge3/envs/tensorflow/lib/python3.10/site-packages (from spacy) (1.1.1)\n",
      "Requirement already satisfied: srsly<3.0.0,>=2.4.3 in /Users/tarunbirgambhir/miniforge3/envs/tensorflow/lib/python3.10/site-packages (from spacy) (2.4.6)\n",
      "Requirement already satisfied: catalogue<2.1.0,>=2.0.6 in /Users/tarunbirgambhir/miniforge3/envs/tensorflow/lib/python3.10/site-packages (from spacy) (2.0.8)\n",
      "Requirement already satisfied: typer<0.8.0,>=0.3.0 in /Users/tarunbirgambhir/miniforge3/envs/tensorflow/lib/python3.10/site-packages (from spacy) (0.7.0)\n",
      "Requirement already satisfied: pathy>=0.10.0 in /Users/tarunbirgambhir/miniforge3/envs/tensorflow/lib/python3.10/site-packages (from spacy) (0.10.1)\n",
      "Requirement already satisfied: smart-open<7.0.0,>=5.2.1 in /Users/tarunbirgambhir/miniforge3/envs/tensorflow/lib/python3.10/site-packages (from spacy) (6.3.0)\n",
      "Requirement already satisfied: tqdm<5.0.0,>=4.38.0 in /Users/tarunbirgambhir/miniforge3/envs/tensorflow/lib/python3.10/site-packages (from spacy) (4.65.0)\n",
      "Requirement already satisfied: numpy>=1.15.0 in /Users/tarunbirgambhir/miniforge3/envs/tensorflow/lib/python3.10/site-packages (from spacy) (1.23.5)\n",
      "Requirement already satisfied: requests<3.0.0,>=2.13.0 in /Users/tarunbirgambhir/miniforge3/envs/tensorflow/lib/python3.10/site-packages (from spacy) (2.29.0)\n",
      "Requirement already satisfied: pydantic!=1.8,!=1.8.1,<1.11.0,>=1.7.4 in /Users/tarunbirgambhir/miniforge3/envs/tensorflow/lib/python3.10/site-packages (from spacy) (1.10.8)\n",
      "Requirement already satisfied: jinja2 in /Users/tarunbirgambhir/miniforge3/envs/tensorflow/lib/python3.10/site-packages (from spacy) (3.1.2)\n",
      "Requirement already satisfied: setuptools in /Users/tarunbirgambhir/miniforge3/envs/tensorflow/lib/python3.10/site-packages (from spacy) (67.7.2)\n",
      "Requirement already satisfied: packaging>=20.0 in /Users/tarunbirgambhir/miniforge3/envs/tensorflow/lib/python3.10/site-packages (from spacy) (23.1)\n",
      "Requirement already satisfied: langcodes<4.0.0,>=3.2.0 in /Users/tarunbirgambhir/miniforge3/envs/tensorflow/lib/python3.10/site-packages (from spacy) (3.3.0)\n",
      "Requirement already satisfied: typing-extensions>=4.2.0 in /Users/tarunbirgambhir/miniforge3/envs/tensorflow/lib/python3.10/site-packages (from pydantic!=1.8,!=1.8.1,<1.11.0,>=1.7.4->spacy) (4.5.0)\n",
      "Requirement already satisfied: charset-normalizer<4,>=2 in /Users/tarunbirgambhir/miniforge3/envs/tensorflow/lib/python3.10/site-packages (from requests<3.0.0,>=2.13.0->spacy) (3.1.0)\n",
      "Requirement already satisfied: idna<4,>=2.5 in /Users/tarunbirgambhir/miniforge3/envs/tensorflow/lib/python3.10/site-packages (from requests<3.0.0,>=2.13.0->spacy) (3.4)\n",
      "Requirement already satisfied: urllib3<1.27,>=1.21.1 in /Users/tarunbirgambhir/miniforge3/envs/tensorflow/lib/python3.10/site-packages (from requests<3.0.0,>=2.13.0->spacy) (1.26.15)\n",
      "Requirement already satisfied: certifi>=2017.4.17 in /Users/tarunbirgambhir/miniforge3/envs/tensorflow/lib/python3.10/site-packages (from requests<3.0.0,>=2.13.0->spacy) (2022.12.7)\n",
      "Requirement already satisfied: blis<0.8.0,>=0.7.8 in /Users/tarunbirgambhir/miniforge3/envs/tensorflow/lib/python3.10/site-packages (from thinc<8.2.0,>=8.1.8->spacy) (0.7.9)\n",
      "Requirement already satisfied: confection<1.0.0,>=0.0.1 in /Users/tarunbirgambhir/miniforge3/envs/tensorflow/lib/python3.10/site-packages (from thinc<8.2.0,>=8.1.8->spacy) (0.0.4)\n",
      "Requirement already satisfied: click<9.0.0,>=7.1.1 in /Users/tarunbirgambhir/miniforge3/envs/tensorflow/lib/python3.10/site-packages (from typer<0.8.0,>=0.3.0->spacy) (8.1.3)\n",
      "Requirement already satisfied: MarkupSafe>=2.0 in /Users/tarunbirgambhir/miniforge3/envs/tensorflow/lib/python3.10/site-packages (from jinja2->spacy) (2.1.2)\n",
      "Note: you may need to restart the kernel to use updated packages.\n",
      "Requirement already satisfied: unidecode in /Users/tarunbirgambhir/miniforge3/envs/tensorflow/lib/python3.10/site-packages (1.3.6)\n",
      "Note: you may need to restart the kernel to use updated packages.\n",
      "Requirement already satisfied: datasets in /Users/tarunbirgambhir/miniforge3/envs/tensorflow/lib/python3.10/site-packages (2.12.0)\n",
      "Requirement already satisfied: numpy>=1.17 in /Users/tarunbirgambhir/miniforge3/envs/tensorflow/lib/python3.10/site-packages (from datasets) (1.23.5)\n",
      "Requirement already satisfied: pyarrow>=8.0.0 in /Users/tarunbirgambhir/miniforge3/envs/tensorflow/lib/python3.10/site-packages (from datasets) (12.0.0)\n",
      "Requirement already satisfied: dill<0.3.7,>=0.3.0 in /Users/tarunbirgambhir/miniforge3/envs/tensorflow/lib/python3.10/site-packages (from datasets) (0.3.6)\n",
      "Requirement already satisfied: pandas in /Users/tarunbirgambhir/miniforge3/envs/tensorflow/lib/python3.10/site-packages (from datasets) (2.0.1)\n",
      "Requirement already satisfied: requests>=2.19.0 in /Users/tarunbirgambhir/miniforge3/envs/tensorflow/lib/python3.10/site-packages (from datasets) (2.29.0)\n",
      "Requirement already satisfied: tqdm>=4.62.1 in /Users/tarunbirgambhir/miniforge3/envs/tensorflow/lib/python3.10/site-packages (from datasets) (4.65.0)\n",
      "Requirement already satisfied: xxhash in /Users/tarunbirgambhir/miniforge3/envs/tensorflow/lib/python3.10/site-packages (from datasets) (3.2.0)\n",
      "Requirement already satisfied: multiprocess in /Users/tarunbirgambhir/miniforge3/envs/tensorflow/lib/python3.10/site-packages (from datasets) (0.70.14)\n",
      "Requirement already satisfied: fsspec[http]>=2021.11.1 in /Users/tarunbirgambhir/miniforge3/envs/tensorflow/lib/python3.10/site-packages (from datasets) (2023.5.0)\n",
      "Requirement already satisfied: aiohttp in /Users/tarunbirgambhir/miniforge3/envs/tensorflow/lib/python3.10/site-packages (from datasets) (3.8.4)\n",
      "Requirement already satisfied: huggingface-hub<1.0.0,>=0.11.0 in /Users/tarunbirgambhir/miniforge3/envs/tensorflow/lib/python3.10/site-packages (from datasets) (0.15.1)\n",
      "Requirement already satisfied: packaging in /Users/tarunbirgambhir/miniforge3/envs/tensorflow/lib/python3.10/site-packages (from datasets) (23.1)\n",
      "Requirement already satisfied: responses<0.19 in /Users/tarunbirgambhir/miniforge3/envs/tensorflow/lib/python3.10/site-packages (from datasets) (0.18.0)\n",
      "Requirement already satisfied: pyyaml>=5.1 in /Users/tarunbirgambhir/miniforge3/envs/tensorflow/lib/python3.10/site-packages (from datasets) (6.0)\n",
      "Requirement already satisfied: attrs>=17.3.0 in /Users/tarunbirgambhir/miniforge3/envs/tensorflow/lib/python3.10/site-packages (from aiohttp->datasets) (22.2.0)\n",
      "Requirement already satisfied: charset-normalizer<4.0,>=2.0 in /Users/tarunbirgambhir/miniforge3/envs/tensorflow/lib/python3.10/site-packages (from aiohttp->datasets) (3.1.0)\n",
      "Requirement already satisfied: multidict<7.0,>=4.5 in /Users/tarunbirgambhir/miniforge3/envs/tensorflow/lib/python3.10/site-packages (from aiohttp->datasets) (6.0.4)\n",
      "Requirement already satisfied: async-timeout<5.0,>=4.0.0a3 in /Users/tarunbirgambhir/miniforge3/envs/tensorflow/lib/python3.10/site-packages (from aiohttp->datasets) (4.0.2)\n",
      "Requirement already satisfied: yarl<2.0,>=1.0 in /Users/tarunbirgambhir/miniforge3/envs/tensorflow/lib/python3.10/site-packages (from aiohttp->datasets) (1.9.2)\n",
      "Requirement already satisfied: frozenlist>=1.1.1 in /Users/tarunbirgambhir/miniforge3/envs/tensorflow/lib/python3.10/site-packages (from aiohttp->datasets) (1.3.3)\n",
      "Requirement already satisfied: aiosignal>=1.1.2 in /Users/tarunbirgambhir/miniforge3/envs/tensorflow/lib/python3.10/site-packages (from aiohttp->datasets) (1.3.1)\n",
      "Requirement already satisfied: filelock in /Users/tarunbirgambhir/miniforge3/envs/tensorflow/lib/python3.10/site-packages (from huggingface-hub<1.0.0,>=0.11.0->datasets) (3.12.0)\n",
      "Requirement already satisfied: typing-extensions>=3.7.4.3 in /Users/tarunbirgambhir/miniforge3/envs/tensorflow/lib/python3.10/site-packages (from huggingface-hub<1.0.0,>=0.11.0->datasets) (4.5.0)\n",
      "Requirement already satisfied: idna<4,>=2.5 in /Users/tarunbirgambhir/miniforge3/envs/tensorflow/lib/python3.10/site-packages (from requests>=2.19.0->datasets) (3.4)\n",
      "Requirement already satisfied: urllib3<1.27,>=1.21.1 in /Users/tarunbirgambhir/miniforge3/envs/tensorflow/lib/python3.10/site-packages (from requests>=2.19.0->datasets) (1.26.15)\n",
      "Requirement already satisfied: certifi>=2017.4.17 in /Users/tarunbirgambhir/miniforge3/envs/tensorflow/lib/python3.10/site-packages (from requests>=2.19.0->datasets) (2022.12.7)\n",
      "Requirement already satisfied: python-dateutil>=2.8.2 in /Users/tarunbirgambhir/miniforge3/envs/tensorflow/lib/python3.10/site-packages (from pandas->datasets) (2.8.2)\n",
      "Requirement already satisfied: pytz>=2020.1 in /Users/tarunbirgambhir/miniforge3/envs/tensorflow/lib/python3.10/site-packages (from pandas->datasets) (2023.3)\n",
      "Requirement already satisfied: tzdata>=2022.1 in /Users/tarunbirgambhir/miniforge3/envs/tensorflow/lib/python3.10/site-packages (from pandas->datasets) (2023.3)\n",
      "Requirement already satisfied: six>=1.5 in /Users/tarunbirgambhir/miniforge3/envs/tensorflow/lib/python3.10/site-packages (from python-dateutil>=2.8.2->pandas->datasets) (1.16.0)\n",
      "Note: you may need to restart the kernel to use updated packages.\n",
      "Requirement already satisfied: wandb in /Users/tarunbirgambhir/miniforge3/envs/tensorflow/lib/python3.10/site-packages (0.15.3)\n",
      "Requirement already satisfied: Click!=8.0.0,>=7.0 in /Users/tarunbirgambhir/miniforge3/envs/tensorflow/lib/python3.10/site-packages (from wandb) (8.1.3)\n",
      "Requirement already satisfied: GitPython!=3.1.29,>=1.0.0 in /Users/tarunbirgambhir/miniforge3/envs/tensorflow/lib/python3.10/site-packages (from wandb) (3.1.31)\n",
      "Requirement already satisfied: requests<3,>=2.0.0 in /Users/tarunbirgambhir/miniforge3/envs/tensorflow/lib/python3.10/site-packages (from wandb) (2.29.0)\n",
      "Requirement already satisfied: psutil>=5.0.0 in /Users/tarunbirgambhir/miniforge3/envs/tensorflow/lib/python3.10/site-packages (from wandb) (5.9.5)\n",
      "Requirement already satisfied: sentry-sdk>=1.0.0 in /Users/tarunbirgambhir/miniforge3/envs/tensorflow/lib/python3.10/site-packages (from wandb) (1.25.0)\n",
      "Requirement already satisfied: docker-pycreds>=0.4.0 in /Users/tarunbirgambhir/miniforge3/envs/tensorflow/lib/python3.10/site-packages (from wandb) (0.4.0)\n",
      "Requirement already satisfied: PyYAML in /Users/tarunbirgambhir/miniforge3/envs/tensorflow/lib/python3.10/site-packages (from wandb) (6.0)\n",
      "Requirement already satisfied: pathtools in /Users/tarunbirgambhir/miniforge3/envs/tensorflow/lib/python3.10/site-packages (from wandb) (0.1.2)\n",
      "Requirement already satisfied: setproctitle in /Users/tarunbirgambhir/miniforge3/envs/tensorflow/lib/python3.10/site-packages (from wandb) (1.3.2)\n",
      "Requirement already satisfied: setuptools in /Users/tarunbirgambhir/miniforge3/envs/tensorflow/lib/python3.10/site-packages (from wandb) (67.7.2)\n",
      "Requirement already satisfied: appdirs>=1.4.3 in /Users/tarunbirgambhir/miniforge3/envs/tensorflow/lib/python3.10/site-packages (from wandb) (1.4.4)\n",
      "Requirement already satisfied: protobuf!=4.21.0,<5,>=3.19.0 in /Users/tarunbirgambhir/miniforge3/envs/tensorflow/lib/python3.10/site-packages (from wandb) (4.22.3)\n",
      "Requirement already satisfied: six>=1.4.0 in /Users/tarunbirgambhir/miniforge3/envs/tensorflow/lib/python3.10/site-packages (from docker-pycreds>=0.4.0->wandb) (1.16.0)\n",
      "Requirement already satisfied: gitdb<5,>=4.0.1 in /Users/tarunbirgambhir/miniforge3/envs/tensorflow/lib/python3.10/site-packages (from GitPython!=3.1.29,>=1.0.0->wandb) (4.0.10)\n",
      "Requirement already satisfied: charset-normalizer<4,>=2 in /Users/tarunbirgambhir/miniforge3/envs/tensorflow/lib/python3.10/site-packages (from requests<3,>=2.0.0->wandb) (3.1.0)\n",
      "Requirement already satisfied: idna<4,>=2.5 in /Users/tarunbirgambhir/miniforge3/envs/tensorflow/lib/python3.10/site-packages (from requests<3,>=2.0.0->wandb) (3.4)\n",
      "Requirement already satisfied: urllib3<1.27,>=1.21.1 in /Users/tarunbirgambhir/miniforge3/envs/tensorflow/lib/python3.10/site-packages (from requests<3,>=2.0.0->wandb) (1.26.15)\n",
      "Requirement already satisfied: certifi>=2017.4.17 in /Users/tarunbirgambhir/miniforge3/envs/tensorflow/lib/python3.10/site-packages (from requests<3,>=2.0.0->wandb) (2022.12.7)\n",
      "Requirement already satisfied: smmap<6,>=3.0.1 in /Users/tarunbirgambhir/miniforge3/envs/tensorflow/lib/python3.10/site-packages (from gitdb<5,>=4.0.1->GitPython!=3.1.29,>=1.0.0->wandb) (5.0.0)\n",
      "Note: you may need to restart the kernel to use updated packages.\n",
      "Collecting seaborn\n",
      "  Using cached seaborn-0.12.2-py3-none-any.whl (293 kB)\n",
      "Requirement already satisfied: numpy!=1.24.0,>=1.17 in /Users/tarunbirgambhir/miniforge3/envs/tensorflow/lib/python3.10/site-packages (from seaborn) (1.23.5)\n",
      "Requirement already satisfied: pandas>=0.25 in /Users/tarunbirgambhir/miniforge3/envs/tensorflow/lib/python3.10/site-packages (from seaborn) (2.0.1)\n",
      "Requirement already satisfied: matplotlib!=3.6.1,>=3.1 in /Users/tarunbirgambhir/miniforge3/envs/tensorflow/lib/python3.10/site-packages (from seaborn) (3.7.1)\n",
      "Requirement already satisfied: contourpy>=1.0.1 in /Users/tarunbirgambhir/miniforge3/envs/tensorflow/lib/python3.10/site-packages (from matplotlib!=3.6.1,>=3.1->seaborn) (1.0.7)\n",
      "Requirement already satisfied: cycler>=0.10 in /Users/tarunbirgambhir/miniforge3/envs/tensorflow/lib/python3.10/site-packages (from matplotlib!=3.6.1,>=3.1->seaborn) (0.11.0)\n",
      "Requirement already satisfied: fonttools>=4.22.0 in /Users/tarunbirgambhir/miniforge3/envs/tensorflow/lib/python3.10/site-packages (from matplotlib!=3.6.1,>=3.1->seaborn) (4.39.3)\n",
      "Requirement already satisfied: kiwisolver>=1.0.1 in /Users/tarunbirgambhir/miniforge3/envs/tensorflow/lib/python3.10/site-packages (from matplotlib!=3.6.1,>=3.1->seaborn) (1.4.4)\n",
      "Requirement already satisfied: packaging>=20.0 in /Users/tarunbirgambhir/miniforge3/envs/tensorflow/lib/python3.10/site-packages (from matplotlib!=3.6.1,>=3.1->seaborn) (23.1)\n",
      "Requirement already satisfied: pillow>=6.2.0 in /Users/tarunbirgambhir/miniforge3/envs/tensorflow/lib/python3.10/site-packages (from matplotlib!=3.6.1,>=3.1->seaborn) (9.5.0)\n",
      "Requirement already satisfied: pyparsing>=2.3.1 in /Users/tarunbirgambhir/miniforge3/envs/tensorflow/lib/python3.10/site-packages (from matplotlib!=3.6.1,>=3.1->seaborn) (3.0.9)\n",
      "Requirement already satisfied: python-dateutil>=2.7 in /Users/tarunbirgambhir/miniforge3/envs/tensorflow/lib/python3.10/site-packages (from matplotlib!=3.6.1,>=3.1->seaborn) (2.8.2)\n",
      "Requirement already satisfied: pytz>=2020.1 in /Users/tarunbirgambhir/miniforge3/envs/tensorflow/lib/python3.10/site-packages (from pandas>=0.25->seaborn) (2023.3)\n",
      "Requirement already satisfied: tzdata>=2022.1 in /Users/tarunbirgambhir/miniforge3/envs/tensorflow/lib/python3.10/site-packages (from pandas>=0.25->seaborn) (2023.3)\n",
      "Requirement already satisfied: six>=1.5 in /Users/tarunbirgambhir/miniforge3/envs/tensorflow/lib/python3.10/site-packages (from python-dateutil>=2.7->matplotlib!=3.6.1,>=3.1->seaborn) (1.16.0)\n",
      "Installing collected packages: seaborn\n",
      "Successfully installed seaborn-0.12.2\n",
      "Note: you may need to restart the kernel to use updated packages.\n",
      "Collecting en-core-web-sm==3.5.0\n",
      "  Downloading https://github.com/explosion/spacy-models/releases/download/en_core_web_sm-3.5.0/en_core_web_sm-3.5.0-py3-none-any.whl (12.8 MB)\n",
      "\u001b[2K     \u001b[90m━━━━━━━━━━━━━━━━━━━━━━━━━━━━━━━━━━━━━━━━\u001b[0m \u001b[32m12.8/12.8 MB\u001b[0m \u001b[31m9.0 MB/s\u001b[0m eta \u001b[36m0:00:00\u001b[0m00:01\u001b[0m00:01\u001b[0m\n",
      "\u001b[?25hRequirement already satisfied: spacy<3.6.0,>=3.5.0 in /Users/tarunbirgambhir/miniforge3/envs/tensorflow/lib/python3.10/site-packages (from en-core-web-sm==3.5.0) (3.5.3)\n",
      "Requirement already satisfied: spacy-legacy<3.1.0,>=3.0.11 in /Users/tarunbirgambhir/miniforge3/envs/tensorflow/lib/python3.10/site-packages (from spacy<3.6.0,>=3.5.0->en-core-web-sm==3.5.0) (3.0.12)\n",
      "Requirement already satisfied: spacy-loggers<2.0.0,>=1.0.0 in /Users/tarunbirgambhir/miniforge3/envs/tensorflow/lib/python3.10/site-packages (from spacy<3.6.0,>=3.5.0->en-core-web-sm==3.5.0) (1.0.4)\n",
      "Requirement already satisfied: murmurhash<1.1.0,>=0.28.0 in /Users/tarunbirgambhir/miniforge3/envs/tensorflow/lib/python3.10/site-packages (from spacy<3.6.0,>=3.5.0->en-core-web-sm==3.5.0) (1.0.9)\n",
      "Requirement already satisfied: cymem<2.1.0,>=2.0.2 in /Users/tarunbirgambhir/miniforge3/envs/tensorflow/lib/python3.10/site-packages (from spacy<3.6.0,>=3.5.0->en-core-web-sm==3.5.0) (2.0.7)\n",
      "Requirement already satisfied: preshed<3.1.0,>=3.0.2 in /Users/tarunbirgambhir/miniforge3/envs/tensorflow/lib/python3.10/site-packages (from spacy<3.6.0,>=3.5.0->en-core-web-sm==3.5.0) (3.0.8)\n",
      "Requirement already satisfied: thinc<8.2.0,>=8.1.8 in /Users/tarunbirgambhir/miniforge3/envs/tensorflow/lib/python3.10/site-packages (from spacy<3.6.0,>=3.5.0->en-core-web-sm==3.5.0) (8.1.10)\n",
      "Requirement already satisfied: wasabi<1.2.0,>=0.9.1 in /Users/tarunbirgambhir/miniforge3/envs/tensorflow/lib/python3.10/site-packages (from spacy<3.6.0,>=3.5.0->en-core-web-sm==3.5.0) (1.1.1)\n",
      "Requirement already satisfied: srsly<3.0.0,>=2.4.3 in /Users/tarunbirgambhir/miniforge3/envs/tensorflow/lib/python3.10/site-packages (from spacy<3.6.0,>=3.5.0->en-core-web-sm==3.5.0) (2.4.6)\n",
      "Requirement already satisfied: catalogue<2.1.0,>=2.0.6 in /Users/tarunbirgambhir/miniforge3/envs/tensorflow/lib/python3.10/site-packages (from spacy<3.6.0,>=3.5.0->en-core-web-sm==3.5.0) (2.0.8)\n",
      "Requirement already satisfied: typer<0.8.0,>=0.3.0 in /Users/tarunbirgambhir/miniforge3/envs/tensorflow/lib/python3.10/site-packages (from spacy<3.6.0,>=3.5.0->en-core-web-sm==3.5.0) (0.7.0)\n",
      "Requirement already satisfied: pathy>=0.10.0 in /Users/tarunbirgambhir/miniforge3/envs/tensorflow/lib/python3.10/site-packages (from spacy<3.6.0,>=3.5.0->en-core-web-sm==3.5.0) (0.10.1)\n",
      "Requirement already satisfied: smart-open<7.0.0,>=5.2.1 in /Users/tarunbirgambhir/miniforge3/envs/tensorflow/lib/python3.10/site-packages (from spacy<3.6.0,>=3.5.0->en-core-web-sm==3.5.0) (6.3.0)\n",
      "Requirement already satisfied: tqdm<5.0.0,>=4.38.0 in /Users/tarunbirgambhir/miniforge3/envs/tensorflow/lib/python3.10/site-packages (from spacy<3.6.0,>=3.5.0->en-core-web-sm==3.5.0) (4.65.0)\n",
      "Requirement already satisfied: numpy>=1.15.0 in /Users/tarunbirgambhir/miniforge3/envs/tensorflow/lib/python3.10/site-packages (from spacy<3.6.0,>=3.5.0->en-core-web-sm==3.5.0) (1.23.5)\n",
      "Requirement already satisfied: requests<3.0.0,>=2.13.0 in /Users/tarunbirgambhir/miniforge3/envs/tensorflow/lib/python3.10/site-packages (from spacy<3.6.0,>=3.5.0->en-core-web-sm==3.5.0) (2.29.0)\n",
      "Requirement already satisfied: pydantic!=1.8,!=1.8.1,<1.11.0,>=1.7.4 in /Users/tarunbirgambhir/miniforge3/envs/tensorflow/lib/python3.10/site-packages (from spacy<3.6.0,>=3.5.0->en-core-web-sm==3.5.0) (1.10.8)\n",
      "Requirement already satisfied: jinja2 in /Users/tarunbirgambhir/miniforge3/envs/tensorflow/lib/python3.10/site-packages (from spacy<3.6.0,>=3.5.0->en-core-web-sm==3.5.0) (3.1.2)\n",
      "Requirement already satisfied: setuptools in /Users/tarunbirgambhir/miniforge3/envs/tensorflow/lib/python3.10/site-packages (from spacy<3.6.0,>=3.5.0->en-core-web-sm==3.5.0) (67.7.2)\n",
      "Requirement already satisfied: packaging>=20.0 in /Users/tarunbirgambhir/miniforge3/envs/tensorflow/lib/python3.10/site-packages (from spacy<3.6.0,>=3.5.0->en-core-web-sm==3.5.0) (23.1)\n",
      "Requirement already satisfied: langcodes<4.0.0,>=3.2.0 in /Users/tarunbirgambhir/miniforge3/envs/tensorflow/lib/python3.10/site-packages (from spacy<3.6.0,>=3.5.0->en-core-web-sm==3.5.0) (3.3.0)\n",
      "Requirement already satisfied: typing-extensions>=4.2.0 in /Users/tarunbirgambhir/miniforge3/envs/tensorflow/lib/python3.10/site-packages (from pydantic!=1.8,!=1.8.1,<1.11.0,>=1.7.4->spacy<3.6.0,>=3.5.0->en-core-web-sm==3.5.0) (4.5.0)\n",
      "Requirement already satisfied: charset-normalizer<4,>=2 in /Users/tarunbirgambhir/miniforge3/envs/tensorflow/lib/python3.10/site-packages (from requests<3.0.0,>=2.13.0->spacy<3.6.0,>=3.5.0->en-core-web-sm==3.5.0) (3.1.0)\n",
      "Requirement already satisfied: idna<4,>=2.5 in /Users/tarunbirgambhir/miniforge3/envs/tensorflow/lib/python3.10/site-packages (from requests<3.0.0,>=2.13.0->spacy<3.6.0,>=3.5.0->en-core-web-sm==3.5.0) (3.4)\n",
      "Requirement already satisfied: urllib3<1.27,>=1.21.1 in /Users/tarunbirgambhir/miniforge3/envs/tensorflow/lib/python3.10/site-packages (from requests<3.0.0,>=2.13.0->spacy<3.6.0,>=3.5.0->en-core-web-sm==3.5.0) (1.26.15)\n",
      "Requirement already satisfied: certifi>=2017.4.17 in /Users/tarunbirgambhir/miniforge3/envs/tensorflow/lib/python3.10/site-packages (from requests<3.0.0,>=2.13.0->spacy<3.6.0,>=3.5.0->en-core-web-sm==3.5.0) (2022.12.7)\n",
      "Requirement already satisfied: blis<0.8.0,>=0.7.8 in /Users/tarunbirgambhir/miniforge3/envs/tensorflow/lib/python3.10/site-packages (from thinc<8.2.0,>=8.1.8->spacy<3.6.0,>=3.5.0->en-core-web-sm==3.5.0) (0.7.9)\n",
      "Requirement already satisfied: confection<1.0.0,>=0.0.1 in /Users/tarunbirgambhir/miniforge3/envs/tensorflow/lib/python3.10/site-packages (from thinc<8.2.0,>=8.1.8->spacy<3.6.0,>=3.5.0->en-core-web-sm==3.5.0) (0.0.4)\n",
      "Requirement already satisfied: click<9.0.0,>=7.1.1 in /Users/tarunbirgambhir/miniforge3/envs/tensorflow/lib/python3.10/site-packages (from typer<0.8.0,>=0.3.0->spacy<3.6.0,>=3.5.0->en-core-web-sm==3.5.0) (8.1.3)\n",
      "Requirement already satisfied: MarkupSafe>=2.0 in /Users/tarunbirgambhir/miniforge3/envs/tensorflow/lib/python3.10/site-packages (from jinja2->spacy<3.6.0,>=3.5.0->en-core-web-sm==3.5.0) (2.1.2)\n",
      "\u001b[38;5;2m✔ Download and installation successful\u001b[0m\n",
      "You can now load the package via spacy.load('en_core_web_sm')\n"
     ]
    }
   ],
   "source": [
    "%pip install -U accelerate\n",
    "%pip install transformers\n",
    "%pip install transformers[torch]\n",
    "%pip install spacy\n",
    "%pip install unidecode\n",
    "%pip install datasets\n",
    "%pip install wandb\n",
    "%pip install seaborn\n",
    "!python -m spacy download en_core_web_sm"
   ]
  },
  {
   "cell_type": "code",
   "execution_count": 29,
   "id": "59d71487",
   "metadata": {
    "execution": {
     "iopub.execute_input": "2023-06-03T21:36:50.336606Z",
     "iopub.status.busy": "2023-06-03T21:36:50.335573Z",
     "iopub.status.idle": "2023-06-03T21:37:03.476604Z",
     "shell.execute_reply": "2023-06-03T21:37:03.475661Z"
    },
    "papermill": {
     "duration": 13.152294,
     "end_time": "2023-06-03T21:37:03.479002",
     "exception": false,
     "start_time": "2023-06-03T21:36:50.326708",
     "status": "completed"
    },
    "tags": []
   },
   "outputs": [],
   "source": [
    "import spacy\n",
    "import re\n",
    "import pandas as pd\n",
    "from unidecode import unidecode\n",
    "import wandb\n",
    "import torch\n",
    "from transformers import AutoModelForSequenceClassification, TrainingArguments, Trainer\n",
    "from transformers import AutoTokenizer\n",
    "from sklearn.model_selection import train_test_split\n",
    "from datasets import Dataset, concatenate_datasets\n",
    "import matplotlib.pyplot as plt\n",
    "import seaborn as sns"
   ]
  },
  {
   "cell_type": "code",
   "execution_count": 30,
   "id": "8796edee",
   "metadata": {
    "execution": {
     "iopub.execute_input": "2023-06-03T21:37:04.523034Z",
     "iopub.status.busy": "2023-06-03T21:37:04.522066Z",
     "iopub.status.idle": "2023-06-03T21:37:04.595954Z",
     "shell.execute_reply": "2023-06-03T21:37:04.595022Z"
    },
    "papermill": {
     "duration": 0.085292,
     "end_time": "2023-06-03T21:37:04.598481",
     "exception": false,
     "start_time": "2023-06-03T21:37:04.513189",
     "status": "completed"
    },
    "tags": []
   },
   "outputs": [
    {
     "data": {
      "text/html": [
       "<div>\n",
       "<style scoped>\n",
       "    .dataframe tbody tr th:only-of-type {\n",
       "        vertical-align: middle;\n",
       "    }\n",
       "\n",
       "    .dataframe tbody tr th {\n",
       "        vertical-align: top;\n",
       "    }\n",
       "\n",
       "    .dataframe thead th {\n",
       "        text-align: right;\n",
       "    }\n",
       "</style>\n",
       "<table border=\"1\" class=\"dataframe\">\n",
       "  <thead>\n",
       "    <tr style=\"text-align: right;\">\n",
       "      <th></th>\n",
       "      <th>id</th>\n",
       "      <th>keyword</th>\n",
       "      <th>location</th>\n",
       "      <th>text</th>\n",
       "      <th>target</th>\n",
       "    </tr>\n",
       "  </thead>\n",
       "  <tbody>\n",
       "    <tr>\n",
       "      <th>0</th>\n",
       "      <td>1</td>\n",
       "      <td>NaN</td>\n",
       "      <td>NaN</td>\n",
       "      <td>Our Deeds are the Reason of this #earthquake M...</td>\n",
       "      <td>1</td>\n",
       "    </tr>\n",
       "    <tr>\n",
       "      <th>1</th>\n",
       "      <td>4</td>\n",
       "      <td>NaN</td>\n",
       "      <td>NaN</td>\n",
       "      <td>Forest fire near La Ronge Sask. Canada</td>\n",
       "      <td>1</td>\n",
       "    </tr>\n",
       "    <tr>\n",
       "      <th>2</th>\n",
       "      <td>5</td>\n",
       "      <td>NaN</td>\n",
       "      <td>NaN</td>\n",
       "      <td>All residents asked to 'shelter in place' are ...</td>\n",
       "      <td>1</td>\n",
       "    </tr>\n",
       "    <tr>\n",
       "      <th>3</th>\n",
       "      <td>6</td>\n",
       "      <td>NaN</td>\n",
       "      <td>NaN</td>\n",
       "      <td>13,000 people receive #wildfires evacuation or...</td>\n",
       "      <td>1</td>\n",
       "    </tr>\n",
       "    <tr>\n",
       "      <th>4</th>\n",
       "      <td>7</td>\n",
       "      <td>NaN</td>\n",
       "      <td>NaN</td>\n",
       "      <td>Just got sent this photo from Ruby #Alaska as ...</td>\n",
       "      <td>1</td>\n",
       "    </tr>\n",
       "  </tbody>\n",
       "</table>\n",
       "</div>"
      ],
      "text/plain": [
       "   id keyword location                                               text   \n",
       "0   1     NaN      NaN  Our Deeds are the Reason of this #earthquake M...  \\\n",
       "1   4     NaN      NaN             Forest fire near La Ronge Sask. Canada   \n",
       "2   5     NaN      NaN  All residents asked to 'shelter in place' are ...   \n",
       "3   6     NaN      NaN  13,000 people receive #wildfires evacuation or...   \n",
       "4   7     NaN      NaN  Just got sent this photo from Ruby #Alaska as ...   \n",
       "\n",
       "   target  \n",
       "0       1  \n",
       "1       1  \n",
       "2       1  \n",
       "3       1  \n",
       "4       1  "
      ]
     },
     "execution_count": 30,
     "metadata": {},
     "output_type": "execute_result"
    }
   ],
   "source": [
    "data = pd.read_csv('../data/train.csv')\n",
    "texts = data['text'].to_list()\n",
    "data.head()"
   ]
  },
  {
   "cell_type": "code",
   "execution_count": 32,
   "id": "4d98cfb7",
   "metadata": {},
   "outputs": [
    {
     "data": {
      "text/plain": [
       "target\n",
       "0    4342\n",
       "1    3271\n",
       "Name: count, dtype: int64"
      ]
     },
     "execution_count": 32,
     "metadata": {},
     "output_type": "execute_result"
    }
   ],
   "source": [
    "data['target'].value_counts()"
   ]
  },
  {
   "cell_type": "code",
   "execution_count": 33,
   "id": "1d8a3cbe",
   "metadata": {},
   "outputs": [
    {
     "data": {
      "image/png": "[encoded data removed]",
      "text/plain": [
       "<Figure size 640x480 with 1 Axes>"
      ]
     },
     "metadata": {},
     "output_type": "display_data"
    }
   ],
   "source": [
    "plt.pie(data['target'].value_counts(), labels = ['no disaster', 'disaster'], colors = sns.color_palette('pastel')[0:5], autopct='%.0f%%')\n",
    "plt.show()"
   ]
  },
  {
   "cell_type": "code",
   "execution_count": 5,
   "id": "1f4bed06",
   "metadata": {
    "execution": {
     "iopub.execute_input": "2023-06-03T21:37:04.618060Z",
     "iopub.status.busy": "2023-06-03T21:37:04.617232Z",
     "iopub.status.idle": "2023-06-03T21:37:04.625875Z",
     "shell.execute_reply": "2023-06-03T21:37:04.624858Z"
    },
    "papermill": {
     "duration": 0.021149,
     "end_time": "2023-06-03T21:37:04.628656",
     "exception": false,
     "start_time": "2023-06-03T21:37:04.607507",
     "status": "completed"
    },
    "tags": []
   },
   "outputs": [
    {
     "data": {
      "text/plain": [
       "['Our Deeds are the Reason of this #earthquake May ALLAH Forgive us all',\n",
       " 'Forest fire near La Ronge Sask. Canada',\n",
       " \"All residents asked to 'shelter in place' are being notified by officers. No other evacuation or shelter in place orders are expected\",\n",
       " '13,000 people receive #wildfires evacuation orders in California ',\n",
       " 'Just got sent this photo from Ruby #Alaska as smoke from #wildfires pours into a school ',\n",
       " '#RockyFire Update => California Hwy. 20 closed in both directions due to Lake County fire - #CAfire #wildfires',\n",
       " '#flood #disaster Heavy rain causes flash flooding of streets in Manitou, Colorado Springs areas',\n",
       " \"I'm on top of the hill and I can see a fire in the woods...\",\n",
       " \"There's an emergency evacuation happening now in the building across the street\",\n",
       " \"I'm afraid that the tornado is coming to our area...\",\n",
       " 'Three people died from the heat wave so far',\n",
       " 'Haha South Tampa is getting flooded hah- WAIT A SECOND I LIVE IN SOUTH TAMPA WHAT AM I GONNA DO WHAT AM I GONNA DO FVCK #flooding',\n",
       " \"#raining #flooding #Florida #TampaBay #Tampa 18 or 19 days. I've lost count \",\n",
       " '#Flood in Bago Myanmar #We arrived Bago',\n",
       " 'Damage to school bus on 80 in multi car crash #BREAKING ',\n",
       " \"What's up man?\",\n",
       " 'I love fruits',\n",
       " 'Summer is lovely',\n",
       " 'My car is so fast',\n",
       " 'What a goooooooaaaaaal!!!!!!',\n",
       " 'this is ridiculous....',\n",
       " 'London is cool ;)',\n",
       " 'Love skiing',\n",
       " 'What a wonderful day!',\n",
       " 'LOOOOOOL',\n",
       " \"No way...I can't eat that shit\",\n",
       " 'Was in NYC last week!',\n",
       " 'Love my girlfriend',\n",
       " 'Cooool :)',\n",
       " 'Do you like pasta?']"
      ]
     },
     "execution_count": 5,
     "metadata": {},
     "output_type": "execute_result"
    }
   ],
   "source": [
    "texts[:30]"
   ]
  },
  {
   "cell_type": "code",
   "execution_count": 6,
   "id": "bfcd61ee",
   "metadata": {
    "execution": {
     "iopub.execute_input": "2023-06-03T21:37:04.646077Z",
     "iopub.status.busy": "2023-06-03T21:37:04.645517Z",
     "iopub.status.idle": "2023-06-03T21:37:05.819893Z",
     "shell.execute_reply": "2023-06-03T21:37:05.818887Z"
    },
    "papermill": {
     "duration": 1.185912,
     "end_time": "2023-06-03T21:37:05.822296",
     "exception": false,
     "start_time": "2023-06-03T21:37:04.636384",
     "status": "completed"
    },
    "tags": []
   },
   "outputs": [],
   "source": [
    "nlp = spacy.load('en_core_web_sm')"
   ]
  },
  {
   "cell_type": "code",
   "execution_count": 7,
   "id": "04269a6c",
   "metadata": {
    "execution": {
     "iopub.execute_input": "2023-06-03T21:37:05.840029Z",
     "iopub.status.busy": "2023-06-03T21:37:05.839710Z",
     "iopub.status.idle": "2023-06-03T21:37:25.003245Z",
     "shell.execute_reply": "2023-06-03T21:37:25.002295Z"
    },
    "papermill": {
     "duration": 19.174971,
     "end_time": "2023-06-03T21:37:25.005577",
     "exception": false,
     "start_time": "2023-06-03T21:37:05.830606",
     "status": "completed"
    },
    "tags": []
   },
   "outputs": [],
   "source": [
    "def clean_text(texts):\n",
    "    clean_texts = []\n",
    "    for text in nlp.pipe(texts):\n",
    "    #     clean_texts.append(\" \".join([token.text.strip(\"#\").lower() for token in text if not token.is_punct]))\n",
    "        sen = []\n",
    "        for t in text:\n",
    "            if t.is_punct:\n",
    "                continue\n",
    "            t = '@user' if t.text.startswith('@') and len(t) > 1 else t.text\n",
    "            t = 'http' if t.startswith('http') else t\n",
    "            sen.append(t.strip('#').lower())\n",
    "        clean_texts.append(\" \".join(sen))\n",
    "        #     print(sen)\n",
    "        #     print([(token,token.is_punct) for token in text])\n",
    "        #     clean_texts = [unidecode(re.sub(r\"http\\S+\", \"\", text).strip()) for text in clean_texts]\n",
    "    \n",
    "    return clean_texts\n",
    "\n",
    "data[\"final_text\"] = clean_text(texts)"
   ]
  },
  {
   "cell_type": "code",
   "execution_count": 8,
   "id": "bae19851",
   "metadata": {
    "execution": {
     "iopub.execute_input": "2023-06-03T21:37:25.022768Z",
     "iopub.status.busy": "2023-06-03T21:37:25.022461Z",
     "iopub.status.idle": "2023-06-03T21:37:25.041353Z",
     "shell.execute_reply": "2023-06-03T21:37:25.040353Z"
    },
    "papermill": {
     "duration": 0.030003,
     "end_time": "2023-06-03T21:37:25.043697",
     "exception": false,
     "start_time": "2023-06-03T21:37:25.013694",
     "status": "completed"
    },
    "tags": []
   },
   "outputs": [
    {
     "data": {
      "text/html": [
       "<div>\n",
       "<style scoped>\n",
       "    .dataframe tbody tr th:only-of-type {\n",
       "        vertical-align: middle;\n",
       "    }\n",
       "\n",
       "    .dataframe tbody tr th {\n",
       "        vertical-align: top;\n",
       "    }\n",
       "\n",
       "    .dataframe thead th {\n",
       "        text-align: right;\n",
       "    }\n",
       "</style>\n",
       "<table border=\"1\" class=\"dataframe\">\n",
       "  <thead>\n",
       "    <tr style=\"text-align: right;\">\n",
       "      <th></th>\n",
       "      <th>id</th>\n",
       "      <th>keyword</th>\n",
       "      <th>location</th>\n",
       "      <th>text</th>\n",
       "      <th>target</th>\n",
       "      <th>final_text</th>\n",
       "    </tr>\n",
       "  </thead>\n",
       "  <tbody>\n",
       "    <tr>\n",
       "      <th>0</th>\n",
       "      <td>1</td>\n",
       "      <td>NaN</td>\n",
       "      <td>NaN</td>\n",
       "      <td>Our Deeds are the Reason of this #earthquake M...</td>\n",
       "      <td>1</td>\n",
       "      <td>our deeds are the reason of this earthquake ma...</td>\n",
       "    </tr>\n",
       "    <tr>\n",
       "      <th>1</th>\n",
       "      <td>4</td>\n",
       "      <td>NaN</td>\n",
       "      <td>NaN</td>\n",
       "      <td>Forest fire near La Ronge Sask. Canada</td>\n",
       "      <td>1</td>\n",
       "      <td>forest fire near la ronge sask canada</td>\n",
       "    </tr>\n",
       "    <tr>\n",
       "      <th>2</th>\n",
       "      <td>5</td>\n",
       "      <td>NaN</td>\n",
       "      <td>NaN</td>\n",
       "      <td>All residents asked to 'shelter in place' are ...</td>\n",
       "      <td>1</td>\n",
       "      <td>all residents asked to shelter in place are be...</td>\n",
       "    </tr>\n",
       "    <tr>\n",
       "      <th>3</th>\n",
       "      <td>6</td>\n",
       "      <td>NaN</td>\n",
       "      <td>NaN</td>\n",
       "      <td>13,000 people receive #wildfires evacuation or...</td>\n",
       "      <td>1</td>\n",
       "      <td>13,000 people receive wildfires evacuation ord...</td>\n",
       "    </tr>\n",
       "    <tr>\n",
       "      <th>4</th>\n",
       "      <td>7</td>\n",
       "      <td>NaN</td>\n",
       "      <td>NaN</td>\n",
       "      <td>Just got sent this photo from Ruby #Alaska as ...</td>\n",
       "      <td>1</td>\n",
       "      <td>just got sent this photo from ruby alaska as s...</td>\n",
       "    </tr>\n",
       "    <tr>\n",
       "      <th>...</th>\n",
       "      <td>...</td>\n",
       "      <td>...</td>\n",
       "      <td>...</td>\n",
       "      <td>...</td>\n",
       "      <td>...</td>\n",
       "      <td>...</td>\n",
       "    </tr>\n",
       "    <tr>\n",
       "      <th>7608</th>\n",
       "      <td>10869</td>\n",
       "      <td>NaN</td>\n",
       "      <td>NaN</td>\n",
       "      <td>Two giant cranes holding a bridge collapse int...</td>\n",
       "      <td>1</td>\n",
       "      <td>two giant cranes holding a bridge collapse int...</td>\n",
       "    </tr>\n",
       "    <tr>\n",
       "      <th>7609</th>\n",
       "      <td>10870</td>\n",
       "      <td>NaN</td>\n",
       "      <td>NaN</td>\n",
       "      <td>@aria_ahrary @TheTawniest The out of control w...</td>\n",
       "      <td>1</td>\n",
       "      <td>@user @user the out of control wild fires in c...</td>\n",
       "    </tr>\n",
       "    <tr>\n",
       "      <th>7610</th>\n",
       "      <td>10871</td>\n",
       "      <td>NaN</td>\n",
       "      <td>NaN</td>\n",
       "      <td>M1.94 [01:04 UTC]?5km S of Volcano Hawaii. htt...</td>\n",
       "      <td>1</td>\n",
       "      <td>m1.94 01:04 utc]?5 km s of volcano hawaii http</td>\n",
       "    </tr>\n",
       "    <tr>\n",
       "      <th>7611</th>\n",
       "      <td>10872</td>\n",
       "      <td>NaN</td>\n",
       "      <td>NaN</td>\n",
       "      <td>Police investigating after an e-bike collided ...</td>\n",
       "      <td>1</td>\n",
       "      <td>police investigating after an e bike collided ...</td>\n",
       "    </tr>\n",
       "    <tr>\n",
       "      <th>7612</th>\n",
       "      <td>10873</td>\n",
       "      <td>NaN</td>\n",
       "      <td>NaN</td>\n",
       "      <td>The Latest: More Homes Razed by Northern Calif...</td>\n",
       "      <td>1</td>\n",
       "      <td>the latest more homes razed by northern califo...</td>\n",
       "    </tr>\n",
       "  </tbody>\n",
       "</table>\n",
       "<p>7613 rows × 6 columns</p>\n",
       "</div>"
      ],
      "text/plain": [
       "         id keyword location   \n",
       "0         1     NaN      NaN  \\\n",
       "1         4     NaN      NaN   \n",
       "2         5     NaN      NaN   \n",
       "3         6     NaN      NaN   \n",
       "4         7     NaN      NaN   \n",
       "...     ...     ...      ...   \n",
       "7608  10869     NaN      NaN   \n",
       "7609  10870     NaN      NaN   \n",
       "7610  10871     NaN      NaN   \n",
       "7611  10872     NaN      NaN   \n",
       "7612  10873     NaN      NaN   \n",
       "\n",
       "                                                   text  target   \n",
       "0     Our Deeds are the Reason of this #earthquake M...       1  \\\n",
       "1                Forest fire near La Ronge Sask. Canada       1   \n",
       "2     All residents asked to 'shelter in place' are ...       1   \n",
       "3     13,000 people receive #wildfires evacuation or...       1   \n",
       "4     Just got sent this photo from Ruby #Alaska as ...       1   \n",
       "...                                                 ...     ...   \n",
       "7608  Two giant cranes holding a bridge collapse int...       1   \n",
       "7609  @aria_ahrary @TheTawniest The out of control w...       1   \n",
       "7610  M1.94 [01:04 UTC]?5km S of Volcano Hawaii. htt...       1   \n",
       "7611  Police investigating after an e-bike collided ...       1   \n",
       "7612  The Latest: More Homes Razed by Northern Calif...       1   \n",
       "\n",
       "                                             final_text  \n",
       "0     our deeds are the reason of this earthquake ma...  \n",
       "1                 forest fire near la ronge sask canada  \n",
       "2     all residents asked to shelter in place are be...  \n",
       "3     13,000 people receive wildfires evacuation ord...  \n",
       "4     just got sent this photo from ruby alaska as s...  \n",
       "...                                                 ...  \n",
       "7608  two giant cranes holding a bridge collapse int...  \n",
       "7609  @user @user the out of control wild fires in c...  \n",
       "7610     m1.94 01:04 utc]?5 km s of volcano hawaii http  \n",
       "7611  police investigating after an e bike collided ...  \n",
       "7612  the latest more homes razed by northern califo...  \n",
       "\n",
       "[7613 rows x 6 columns]"
      ]
     },
     "execution_count": 8,
     "metadata": {},
     "output_type": "execute_result"
    }
   ],
   "source": [
    "data"
   ]
  },
  {
   "cell_type": "code",
   "execution_count": 9,
   "id": "c34b9a3a",
   "metadata": {
    "execution": {
     "iopub.execute_input": "2023-06-03T21:37:25.061160Z",
     "iopub.status.busy": "2023-06-03T21:37:25.060839Z",
     "iopub.status.idle": "2023-06-03T21:37:33.545354Z",
     "shell.execute_reply": "2023-06-03T21:37:33.544418Z"
    },
    "papermill": {
     "duration": 8.495829,
     "end_time": "2023-06-03T21:37:33.547612",
     "exception": false,
     "start_time": "2023-06-03T21:37:25.051783",
     "status": "completed"
    },
    "tags": []
   },
   "outputs": [
    {
     "name": "stderr",
     "output_type": "stream",
     "text": [
      "Some weights of RobertaForSequenceClassification were not initialized from the model checkpoint at cardiffnlp/twitter-roberta-base-sentiment and are newly initialized because the shapes did not match:\n",
      "- classifier.out_proj.weight: found shape torch.Size([3, 768]) in the checkpoint and torch.Size([2, 768]) in the model instantiated\n",
      "- classifier.out_proj.bias: found shape torch.Size([3]) in the checkpoint and torch.Size([2]) in the model instantiated\n",
      "You should probably TRAIN this model on a down-stream task to be able to use it for predictions and inference.\n"
     ]
    },
    {
     "data": {
      "text/plain": [
       "RobertaForSequenceClassification(\n",
       "  (roberta): RobertaModel(\n",
       "    (embeddings): RobertaEmbeddings(\n",
       "      (word_embeddings): Embedding(50265, 768, padding_idx=1)\n",
       "      (position_embeddings): Embedding(514, 768, padding_idx=1)\n",
       "      (token_type_embeddings): Embedding(1, 768)\n",
       "      (LayerNorm): LayerNorm((768,), eps=1e-05, elementwise_affine=True)\n",
       "      (dropout): Dropout(p=0.1, inplace=False)\n",
       "    )\n",
       "    (encoder): RobertaEncoder(\n",
       "      (layer): ModuleList(\n",
       "        (0-11): 12 x RobertaLayer(\n",
       "          (attention): RobertaAttention(\n",
       "            (self): RobertaSelfAttention(\n",
       "              (query): Linear(in_features=768, out_features=768, bias=True)\n",
       "              (key): Linear(in_features=768, out_features=768, bias=True)\n",
       "              (value): Linear(in_features=768, out_features=768, bias=True)\n",
       "              (dropout): Dropout(p=0.1, inplace=False)\n",
       "            )\n",
       "            (output): RobertaSelfOutput(\n",
       "              (dense): Linear(in_features=768, out_features=768, bias=True)\n",
       "              (LayerNorm): LayerNorm((768,), eps=1e-05, elementwise_affine=True)\n",
       "              (dropout): Dropout(p=0.1, inplace=False)\n",
       "            )\n",
       "          )\n",
       "          (intermediate): RobertaIntermediate(\n",
       "            (dense): Linear(in_features=768, out_features=3072, bias=True)\n",
       "            (intermediate_act_fn): GELUActivation()\n",
       "          )\n",
       "          (output): RobertaOutput(\n",
       "            (dense): Linear(in_features=3072, out_features=768, bias=True)\n",
       "            (LayerNorm): LayerNorm((768,), eps=1e-05, elementwise_affine=True)\n",
       "            (dropout): Dropout(p=0.1, inplace=False)\n",
       "          )\n",
       "        )\n",
       "      )\n",
       "    )\n",
       "  )\n",
       "  (classifier): RobertaClassificationHead(\n",
       "    (dense): Linear(in_features=768, out_features=768, bias=True)\n",
       "    (dropout): Dropout(p=0.1, inplace=False)\n",
       "    (out_proj): Linear(in_features=768, out_features=2, bias=True)\n",
       "  )\n",
       ")"
      ]
     },
     "execution_count": 9,
     "metadata": {},
     "output_type": "execute_result"
    }
   ],
   "source": [
    "# Loading the Hugging Face pretrained sequence classification model\n",
    "model_name='cardiffnlp/twitter-roberta-base-sentiment'\n",
    "tokenizer = AutoTokenizer.from_pretrained(model_name)\n",
    "model = AutoModelForSequenceClassification.from_pretrained(model_name, num_labels=2, ignore_mismatched_sizes=True)\n",
    "\n",
    "device = torch.device(\"mps\") if torch.backends.mps.is_available() else torch.device(\"cpu\")\n",
    "model.to(device)"
   ]
  },
  {
   "cell_type": "code",
   "execution_count": 10,
   "id": "9b65533c",
   "metadata": {
    "execution": {
     "iopub.execute_input": "2023-06-03T21:37:33.568000Z",
     "iopub.status.busy": "2023-06-03T21:37:33.567286Z",
     "iopub.status.idle": "2023-06-03T21:37:33.575532Z",
     "shell.execute_reply": "2023-06-03T21:37:33.574529Z"
    },
    "papermill": {
     "duration": 0.020444,
     "end_time": "2023-06-03T21:37:33.577719",
     "exception": false,
     "start_time": "2023-06-03T21:37:33.557275",
     "status": "completed"
    },
    "tags": []
   },
   "outputs": [],
   "source": [
    "df = pd.DataFrame()\n",
    "df['labels'] = data['target']\n",
    "df['text'] = data['final_text']"
   ]
  },
  {
   "cell_type": "code",
   "execution_count": 11,
   "id": "1f04e3c0",
   "metadata": {
    "execution": {
     "iopub.execute_input": "2023-06-03T21:37:33.597047Z",
     "iopub.status.busy": "2023-06-03T21:37:33.596747Z",
     "iopub.status.idle": "2023-06-03T21:37:33.603809Z",
     "shell.execute_reply": "2023-06-03T21:37:33.602982Z"
    },
    "papermill": {
     "duration": 0.019077,
     "end_time": "2023-06-03T21:37:33.605784",
     "exception": false,
     "start_time": "2023-06-03T21:37:33.586707",
     "status": "completed"
    },
    "tags": []
   },
   "outputs": [],
   "source": [
    "df_train, df_val = train_test_split(df, test_size=0.2)"
   ]
  },
  {
   "cell_type": "code",
   "execution_count": 12,
   "id": "76cd45c4",
   "metadata": {
    "execution": {
     "iopub.execute_input": "2023-06-03T21:37:33.625275Z",
     "iopub.status.busy": "2023-06-03T21:37:33.624974Z",
     "iopub.status.idle": "2023-06-03T21:37:33.647040Z",
     "shell.execute_reply": "2023-06-03T21:37:33.646150Z"
    },
    "papermill": {
     "duration": 0.034248,
     "end_time": "2023-06-03T21:37:33.649183",
     "exception": false,
     "start_time": "2023-06-03T21:37:33.614935",
     "status": "completed"
    },
    "tags": []
   },
   "outputs": [],
   "source": [
    "train_ds = Dataset.from_pandas(df_train, split='train')\n",
    "val_ds = Dataset.from_pandas(df_val, split='test')"
   ]
  },
  {
   "cell_type": "code",
   "execution_count": 13,
   "id": "9ebb3205",
   "metadata": {
    "execution": {
     "iopub.execute_input": "2023-06-03T21:37:33.668722Z",
     "iopub.status.busy": "2023-06-03T21:37:33.668394Z",
     "iopub.status.idle": "2023-06-03T21:37:33.673038Z",
     "shell.execute_reply": "2023-06-03T21:37:33.672012Z"
    },
    "papermill": {
     "duration": 0.017068,
     "end_time": "2023-06-03T21:37:33.675348",
     "exception": false,
     "start_time": "2023-06-03T21:37:33.658280",
     "status": "completed"
    },
    "tags": []
   },
   "outputs": [],
   "source": [
    "from transformers import DataCollatorWithPadding\n",
    "\n",
    "data_collator = DataCollatorWithPadding(tokenizer=tokenizer)"
   ]
  },
  {
   "cell_type": "code",
   "execution_count": 14,
   "id": "29cd1d10",
   "metadata": {
    "execution": {
     "iopub.execute_input": "2023-06-03T21:37:33.695465Z",
     "iopub.status.busy": "2023-06-03T21:37:33.695118Z",
     "iopub.status.idle": "2023-06-03T21:37:33.699783Z",
     "shell.execute_reply": "2023-06-03T21:37:33.698819Z"
    },
    "papermill": {
     "duration": 0.016753,
     "end_time": "2023-06-03T21:37:33.701953",
     "exception": false,
     "start_time": "2023-06-03T21:37:33.685200",
     "status": "completed"
    },
    "tags": []
   },
   "outputs": [],
   "source": [
    "def preprocess_function(inp):\n",
    "    return tokenizer(inp['text'], truncation=True)"
   ]
  },
  {
   "cell_type": "code",
   "execution_count": 15,
   "id": "1f4ca66b",
   "metadata": {
    "execution": {
     "iopub.execute_input": "2023-06-03T21:37:33.720981Z",
     "iopub.status.busy": "2023-06-03T21:37:33.720683Z",
     "iopub.status.idle": "2023-06-03T21:37:34.388309Z",
     "shell.execute_reply": "2023-06-03T21:37:34.387635Z"
    },
    "papermill": {
     "duration": 0.679432,
     "end_time": "2023-06-03T21:37:34.390246",
     "exception": false,
     "start_time": "2023-06-03T21:37:33.710814",
     "status": "completed"
    },
    "tags": []
   },
   "outputs": [
    {
     "data": {
      "application/vnd.jupyter.widget-view+json": {
       "model_id": "7a26ed047be3486798afaea3575f44db",
       "version_major": 2,
       "version_minor": 0
      },
      "text/plain": [
       "Map:   0%|          | 0/6090 [00:00<?, ? examples/s]"
      ]
     },
     "metadata": {},
     "output_type": "display_data"
    },
    {
     "name": "stderr",
     "output_type": "stream",
     "text": [
      "Asking to truncate to max_length but no maximum length is provided and the model has no predefined maximum length. Default to no truncation.\n"
     ]
    },
    {
     "data": {
      "application/vnd.jupyter.widget-view+json": {
       "model_id": "b91b784164184629bc6473c91833dc6e",
       "version_major": 2,
       "version_minor": 0
      },
      "text/plain": [
       "Map:   0%|          | 0/1523 [00:00<?, ? examples/s]"
      ]
     },
     "metadata": {},
     "output_type": "display_data"
    }
   ],
   "source": [
    "train_ds_tk = train_ds.map(preprocess_function, batched=True)\n",
    "val_ds_tk = val_ds.map(preprocess_function, batched=True)"
   ]
  },
  {
   "cell_type": "code",
   "execution_count": 16,
   "id": "c4acd2fc",
   "metadata": {
    "execution": {
     "iopub.execute_input": "2023-06-03T21:37:34.411509Z",
     "iopub.status.busy": "2023-06-03T21:37:34.411132Z",
     "iopub.status.idle": "2023-06-03T21:37:34.416915Z",
     "shell.execute_reply": "2023-06-03T21:37:34.416014Z"
    },
    "papermill": {
     "duration": 0.018733,
     "end_time": "2023-06-03T21:37:34.418884",
     "exception": false,
     "start_time": "2023-06-03T21:37:34.400151",
     "status": "completed"
    },
    "tags": []
   },
   "outputs": [],
   "source": [
    "from sklearn.metrics import precision_recall_fscore_support, accuracy_score\n",
    "\n",
    "def compute_metrics(pred):\n",
    "    label = pred.label_ids\n",
    "    preds = pred.predictions.argmax(-1)\n",
    "    prec, rec, f1, _ = precision_recall_fscore_support(label, preds, average='binary')\n",
    "    acc = accuracy_score(label, preds)\n",
    "    return {\n",
    "        'accuracy': acc,\n",
    "        'f1': f1,\n",
    "        'precision': prec,\n",
    "        'recall': rec\n",
    "    }"
   ]
  },
  {
   "cell_type": "code",
   "execution_count": 17,
   "id": "80023a85",
   "metadata": {
    "execution": {
     "iopub.execute_input": "2023-06-03T21:37:34.440177Z",
     "iopub.status.busy": "2023-06-03T21:37:34.439287Z",
     "iopub.status.idle": "2023-06-03T21:45:25.086457Z",
     "shell.execute_reply": "2023-06-03T21:45:25.085544Z"
    },
    "papermill": {
     "duration": 470.660088,
     "end_time": "2023-06-03T21:45:25.088495",
     "exception": false,
     "start_time": "2023-06-03T21:37:34.428407",
     "status": "completed"
    },
    "tags": []
   },
   "outputs": [
    {
     "name": "stdout",
     "output_type": "stream",
     "text": [
      "env: WANDB_LOG_MODEL=true\n"
     ]
    },
    {
     "name": "stderr",
     "output_type": "stream",
     "text": [
      "/Users/tarunbirgambhir/miniforge3/envs/tensorflow/lib/python3.10/site-packages/transformers/optimization.py:407: FutureWarning: This implementation of AdamW is deprecated and will be removed in a future version. Use the PyTorch implementation torch.optim.AdamW instead, or set `no_deprecation_warning=True` to disable this warning\n",
      "  warnings.warn(\n",
      "Failed to detect the name of this notebook, you can set it manually with the WANDB_NOTEBOOK_NAME environment variable to enable code saving.\n"
     ]
    },
    {
     "name": "stdout",
     "output_type": "stream",
     "text": [
      "huggingface/tokenizers: The current process just got forked, after parallelism has already been used. Disabling parallelism to avoid deadlocks...\n",
      "To disable this warning, you can either:\n",
      "\t- Avoid using `tokenizers` before the fork if possible\n",
      "\t- Explicitly set the environment variable TOKENIZERS_PARALLELISM=(true | false)\n",
      "huggingface/tokenizers: The current process just got forked, after parallelism has already been used. Disabling parallelism to avoid deadlocks...\n",
      "To disable this warning, you can either:\n",
      "\t- Avoid using `tokenizers` before the fork if possible\n",
      "\t- Explicitly set the environment variable TOKENIZERS_PARALLELISM=(true | false)\n"
     ]
    },
    {
     "name": "stderr",
     "output_type": "stream",
     "text": [
      "\u001b[34m\u001b[1mwandb\u001b[0m: Currently logged in as: \u001b[33mtarun0131\u001b[0m. Use \u001b[1m`wandb login --relogin`\u001b[0m to force relogin\n"
     ]
    },
    {
     "name": "stdout",
     "output_type": "stream",
     "text": [
      "huggingface/tokenizers: The current process just got forked, after parallelism has already been used. Disabling parallelism to avoid deadlocks...\n",
      "To disable this warning, you can either:\n",
      "\t- Avoid using `tokenizers` before the fork if possible\n",
      "\t- Explicitly set the environment variable TOKENIZERS_PARALLELISM=(true | false)\n",
      "huggingface/tokenizers: The current process just got forked, after parallelism has already been used. Disabling parallelism to avoid deadlocks...\n",
      "To disable this warning, you can either:\n",
      "\t- Avoid using `tokenizers` before the fork if possible\n",
      "\t- Explicitly set the environment variable TOKENIZERS_PARALLELISM=(true | false)\n"
     ]
    },
    {
     "data": {
      "application/vnd.jupyter.widget-view+json": {
       "model_id": "0a6e67f3c1e54393b589125b4d1ba640",
       "version_major": 2,
       "version_minor": 0
      },
      "text/plain": [
       "VBox(children=(Label(value='Waiting for wandb.init()...\\r'), FloatProgress(value=0.01667849166939656, max=1.0)…"
      ]
     },
     "metadata": {},
     "output_type": "display_data"
    },
    {
     "data": {
      "text/html": [
       "Tracking run with wandb version 0.15.3"
      ],
      "text/plain": [
       "<IPython.core.display.HTML object>"
      ]
     },
     "metadata": {},
     "output_type": "display_data"
    },
    {
     "data": {
      "text/html": [
       "Run data is saved locally in <code>/Users/tarunbirgambhir/Downloads/Natural Language Processing with Disaster Tweets/notebook/wandb/run-20230604_220428-jw9tt2vq</code>"
      ],
      "text/plain": [
       "<IPython.core.display.HTML object>"
      ]
     },
     "metadata": {},
     "output_type": "display_data"
    },
    {
     "data": {
      "text/html": [
       "Syncing run <strong><a href='https://wandb.ai/tarun0131/huggingface/runs/jw9tt2vq' target=\"_blank\">expert-spaceship-11</a></strong> to <a href='https://wandb.ai/tarun0131/huggingface' target=\"_blank\">Weights & Biases</a> (<a href='https://wandb.me/run' target=\"_blank\">docs</a>)<br/>"
      ],
      "text/plain": [
       "<IPython.core.display.HTML object>"
      ]
     },
     "metadata": {},
     "output_type": "display_data"
    },
    {
     "data": {
      "text/html": [
       " View project at <a href='https://wandb.ai/tarun0131/huggingface' target=\"_blank\">https://wandb.ai/tarun0131/huggingface</a>"
      ],
      "text/plain": [
       "<IPython.core.display.HTML object>"
      ]
     },
     "metadata": {},
     "output_type": "display_data"
    },
    {
     "data": {
      "text/html": [
       " View run at <a href='https://wandb.ai/tarun0131/huggingface/runs/jw9tt2vq' target=\"_blank\">https://wandb.ai/tarun0131/huggingface/runs/jw9tt2vq</a>"
      ],
      "text/plain": [
       "<IPython.core.display.HTML object>"
      ]
     },
     "metadata": {},
     "output_type": "display_data"
    },
    {
     "data": {
      "application/vnd.jupyter.widget-view+json": {
       "model_id": "2befce0c6d084d0ba9ce3e32e84abdbc",
       "version_major": 2,
       "version_minor": 0
      },
      "text/plain": [
       "  0%|          | 0/3810 [00:00<?, ?it/s]"
      ]
     },
     "metadata": {},
     "output_type": "display_data"
    },
    {
     "name": "stderr",
     "output_type": "stream",
     "text": [
      "You're using a RobertaTokenizerFast tokenizer. Please note that with a fast tokenizer, using the `__call__` method is faster than using a method to encode the text followed by a call to the `pad` method to get a padded encoding.\n"
     ]
    },
    {
     "name": "stdout",
     "output_type": "stream",
     "text": [
      "{'loss': 0.5221, 'learning_rate': 9.73753280839895e-06, 'epoch': 0.26}\n"
     ]
    },
    {
     "data": {
      "application/vnd.jupyter.widget-view+json": {
       "model_id": "36800f356cfd40b1b63c171c22ca0250",
       "version_major": 2,
       "version_minor": 0
      },
      "text/plain": [
       "  0%|          | 0/96 [00:00<?, ?it/s]"
      ]
     },
     "metadata": {},
     "output_type": "display_data"
    },
    {
     "name": "stdout",
     "output_type": "stream",
     "text": [
      "{'eval_loss': 0.41366469860076904, 'eval_accuracy': 0.8181221273801708, 'eval_f1': 0.792198049512378, 'eval_precision': 0.7868852459016393, 'eval_recall': 0.797583081570997, 'eval_runtime': 21.4381, 'eval_samples_per_second': 71.042, 'eval_steps_per_second': 4.478, 'epoch': 0.26}\n",
      "{'loss': 0.407, 'learning_rate': 9.4750656167979e-06, 'epoch': 0.52}\n"
     ]
    },
    {
     "data": {
      "application/vnd.jupyter.widget-view+json": {
       "model_id": "a6b4ebae1bf5422f9800180193e1ebb2",
       "version_major": 2,
       "version_minor": 0
      },
      "text/plain": [
       "  0%|          | 0/96 [00:00<?, ?it/s]"
      ]
     },
     "metadata": {},
     "output_type": "display_data"
    },
    {
     "name": "stdout",
     "output_type": "stream",
     "text": [
      "{'eval_loss': 0.39615365862846375, 'eval_accuracy': 0.8233749179251477, 'eval_f1': 0.7796887796887797, 'eval_precision': 0.851520572450805, 'eval_recall': 0.7190332326283988, 'eval_runtime': 20.054, 'eval_samples_per_second': 75.945, 'eval_steps_per_second': 4.787, 'epoch': 0.52}\n",
      "{'loss': 0.4112, 'learning_rate': 9.212598425196852e-06, 'epoch': 0.79}\n"
     ]
    },
    {
     "data": {
      "application/vnd.jupyter.widget-view+json": {
       "model_id": "f0a9720a15d74cc48f921f0d850b0bff",
       "version_major": 2,
       "version_minor": 0
      },
      "text/plain": [
       "  0%|          | 0/96 [00:00<?, ?it/s]"
      ]
     },
     "metadata": {},
     "output_type": "display_data"
    },
    {
     "name": "stdout",
     "output_type": "stream",
     "text": [
      "{'eval_loss': 0.39116591215133667, 'eval_accuracy': 0.8332239001969797, 'eval_f1': 0.8018720748829954, 'eval_precision': 0.8290322580645161, 'eval_recall': 0.7764350453172205, 'eval_runtime': 19.9206, 'eval_samples_per_second': 76.453, 'eval_steps_per_second': 4.819, 'epoch': 0.79}\n",
      "{'loss': 0.4015, 'learning_rate': 8.9501312335958e-06, 'epoch': 1.05}\n"
     ]
    },
    {
     "data": {
      "application/vnd.jupyter.widget-view+json": {
       "model_id": "a1bc227fc497435db8697c2cdd8f62e4",
       "version_major": 2,
       "version_minor": 0
      },
      "text/plain": [
       "  0%|          | 0/96 [00:00<?, ?it/s]"
      ]
     },
     "metadata": {},
     "output_type": "display_data"
    },
    {
     "name": "stdout",
     "output_type": "stream",
     "text": [
      "{'eval_loss': 0.4279293119907379, 'eval_accuracy': 0.8365068942875903, 'eval_f1': 0.808608762490392, 'eval_precision': 0.8231611893583725, 'eval_recall': 0.7945619335347432, 'eval_runtime': 21.2773, 'eval_samples_per_second': 71.579, 'eval_steps_per_second': 4.512, 'epoch': 1.05}\n",
      "{'loss': 0.3674, 'learning_rate': 8.687664041994751e-06, 'epoch': 1.31}\n"
     ]
    },
    {
     "data": {
      "application/vnd.jupyter.widget-view+json": {
       "model_id": "ffbb256f1bac4a3f9abbe45bb90cc4b5",
       "version_major": 2,
       "version_minor": 0
      },
      "text/plain": [
       "  0%|          | 0/96 [00:00<?, ?it/s]"
      ]
     },
     "metadata": {},
     "output_type": "display_data"
    },
    {
     "name": "stdout",
     "output_type": "stream",
     "text": [
      "{'eval_loss': 0.40075284242630005, 'eval_accuracy': 0.8404464871963231, 'eval_f1': 0.8091123330714847, 'eval_precision': 0.8428805237315876, 'eval_recall': 0.7779456193353474, 'eval_runtime': 21.4671, 'eval_samples_per_second': 70.946, 'eval_steps_per_second': 4.472, 'epoch': 1.31}\n",
      "{'loss': 0.3465, 'learning_rate': 8.4251968503937e-06, 'epoch': 1.57}\n"
     ]
    },
    {
     "data": {
      "application/vnd.jupyter.widget-view+json": {
       "model_id": "0afb069cc5024e4d9b4035307f5854cf",
       "version_major": 2,
       "version_minor": 0
      },
      "text/plain": [
       "  0%|          | 0/96 [00:00<?, ?it/s]"
      ]
     },
     "metadata": {},
     "output_type": "display_data"
    },
    {
     "name": "stdout",
     "output_type": "stream",
     "text": [
      "{'eval_loss': 0.38577207922935486, 'eval_accuracy': 0.8384766907419566, 'eval_f1': 0.8072100313479623, 'eval_precision': 0.8387622149837134, 'eval_recall': 0.7779456193353474, 'eval_runtime': 21.4933, 'eval_samples_per_second': 70.859, 'eval_steps_per_second': 4.467, 'epoch': 1.57}\n",
      "{'loss': 0.3428, 'learning_rate': 8.162729658792651e-06, 'epoch': 1.84}\n"
     ]
    },
    {
     "data": {
      "application/vnd.jupyter.widget-view+json": {
       "model_id": "a01ad1aae83d42519e3f8bbb9ad95628",
       "version_major": 2,
       "version_minor": 0
      },
      "text/plain": [
       "  0%|          | 0/96 [00:00<?, ?it/s]"
      ]
     },
     "metadata": {},
     "output_type": "display_data"
    },
    {
     "name": "stdout",
     "output_type": "stream",
     "text": [
      "{'eval_loss': 0.4025358259677887, 'eval_accuracy': 0.8378200919238346, 'eval_f1': 0.8050513022888713, 'eval_precision': 0.8429752066115702, 'eval_recall': 0.770392749244713, 'eval_runtime': 21.1698, 'eval_samples_per_second': 71.942, 'eval_steps_per_second': 4.535, 'epoch': 1.84}\n",
      "{'loss': 0.32, 'learning_rate': 7.900262467191602e-06, 'epoch': 2.1}\n"
     ]
    },
    {
     "data": {
      "application/vnd.jupyter.widget-view+json": {
       "model_id": "4dfaa160def74a838480024e8d1a511b",
       "version_major": 2,
       "version_minor": 0
      },
      "text/plain": [
       "  0%|          | 0/96 [00:00<?, ?it/s]"
      ]
     },
     "metadata": {},
     "output_type": "display_data"
    },
    {
     "name": "stdout",
     "output_type": "stream",
     "text": [
      "{'eval_loss': 0.4212968647480011, 'eval_accuracy': 0.8470124753775443, 'eval_f1': 0.8178264268960125, 'eval_precision': 0.8476499189627229, 'eval_recall': 0.7900302114803626, 'eval_runtime': 21.2053, 'eval_samples_per_second': 71.822, 'eval_steps_per_second': 4.527, 'epoch': 2.1}\n",
      "{'loss': 0.2498, 'learning_rate': 7.637795275590551e-06, 'epoch': 2.36}\n"
     ]
    },
    {
     "data": {
      "application/vnd.jupyter.widget-view+json": {
       "model_id": "be0fd3168c814ff4b79b4db38317910f",
       "version_major": 2,
       "version_minor": 0
      },
      "text/plain": [
       "  0%|          | 0/96 [00:00<?, ?it/s]"
      ]
     },
     "metadata": {},
     "output_type": "display_data"
    },
    {
     "name": "stdout",
     "output_type": "stream",
     "text": [
      "{'eval_loss': 0.4581110179424286, 'eval_accuracy': 0.8476690741956664, 'eval_f1': 0.8184663536776213, 'eval_precision': 0.849025974025974, 'eval_recall': 0.7900302114803626, 'eval_runtime': 21.3708, 'eval_samples_per_second': 71.266, 'eval_steps_per_second': 4.492, 'epoch': 2.36}\n",
      "{'loss': 0.2871, 'learning_rate': 7.375328083989501e-06, 'epoch': 2.62}\n"
     ]
    },
    {
     "data": {
      "application/vnd.jupyter.widget-view+json": {
       "model_id": "00d61249d86f42fa92c2d6e3abd3e7af",
       "version_major": 2,
       "version_minor": 0
      },
      "text/plain": [
       "  0%|          | 0/96 [00:00<?, ?it/s]"
      ]
     },
     "metadata": {},
     "output_type": "display_data"
    },
    {
     "name": "stdout",
     "output_type": "stream",
     "text": [
      "{'eval_loss': 0.41780102252960205, 'eval_accuracy': 0.8463558765594222, 'eval_f1': 0.8094462540716612, 'eval_precision': 0.8780918727915195, 'eval_recall': 0.7507552870090635, 'eval_runtime': 20.8157, 'eval_samples_per_second': 73.166, 'eval_steps_per_second': 4.612, 'epoch': 2.62}\n",
      "{'loss': 0.3058, 'learning_rate': 7.112860892388452e-06, 'epoch': 2.89}\n"
     ]
    },
    {
     "data": {
      "application/vnd.jupyter.widget-view+json": {
       "model_id": "6bd3c39d07e048008ccc5ceec8a09f88",
       "version_major": 2,
       "version_minor": 0
      },
      "text/plain": [
       "  0%|          | 0/96 [00:00<?, ?it/s]"
      ]
     },
     "metadata": {},
     "output_type": "display_data"
    },
    {
     "name": "stdout",
     "output_type": "stream",
     "text": [
      "{'eval_loss': 0.40083426237106323, 'eval_accuracy': 0.8456992777413, 'eval_f1': 0.8097165991902835, 'eval_precision': 0.8726003490401396, 'eval_recall': 0.7552870090634441, 'eval_runtime': 22.2911, 'eval_samples_per_second': 68.323, 'eval_steps_per_second': 4.307, 'epoch': 2.89}\n",
      "{'loss': 0.2516, 'learning_rate': 6.850393700787402e-06, 'epoch': 3.15}\n"
     ]
    },
    {
     "data": {
      "application/vnd.jupyter.widget-view+json": {
       "model_id": "0ebd112353984a8e90eda370fda8a1f5",
       "version_major": 2,
       "version_minor": 0
      },
      "text/plain": [
       "  0%|          | 0/96 [00:00<?, ?it/s]"
      ]
     },
     "metadata": {},
     "output_type": "display_data"
    },
    {
     "name": "stdout",
     "output_type": "stream",
     "text": [
      "{'eval_loss': 0.569449245929718, 'eval_accuracy': 0.8397898883782009, 'eval_f1': 0.8134556574923547, 'eval_precision': 0.8235294117647058, 'eval_recall': 0.8036253776435045, 'eval_runtime': 22.3266, 'eval_samples_per_second': 68.215, 'eval_steps_per_second': 4.3, 'epoch': 3.15}\n",
      "{'loss': 0.2329, 'learning_rate': 6.587926509186352e-06, 'epoch': 3.41}\n"
     ]
    },
    {
     "data": {
      "application/vnd.jupyter.widget-view+json": {
       "model_id": "36c37d7d987b4bdda2bce7973715f24e",
       "version_major": 2,
       "version_minor": 0
      },
      "text/plain": [
       "  0%|          | 0/96 [00:00<?, ?it/s]"
      ]
     },
     "metadata": {},
     "output_type": "display_data"
    },
    {
     "name": "stdout",
     "output_type": "stream",
     "text": [
      "{'eval_loss': 0.4727904200553894, 'eval_accuracy': 0.8489822718319107, 'eval_f1': 0.8102310231023102, 'eval_precision': 0.8927272727272727, 'eval_recall': 0.7416918429003021, 'eval_runtime': 22.6031, 'eval_samples_per_second': 67.38, 'eval_steps_per_second': 4.247, 'epoch': 3.41}\n",
      "{'loss': 0.2764, 'learning_rate': 6.325459317585302e-06, 'epoch': 3.67}\n"
     ]
    },
    {
     "data": {
      "application/vnd.jupyter.widget-view+json": {
       "model_id": "c33e15c0ff2f4d43ba55ee1e4dc9e91b",
       "version_major": 2,
       "version_minor": 0
      },
      "text/plain": [
       "  0%|          | 0/96 [00:00<?, ?it/s]"
      ]
     },
     "metadata": {},
     "output_type": "display_data"
    },
    {
     "name": "stdout",
     "output_type": "stream",
     "text": [
      "{'eval_loss': 0.4878910779953003, 'eval_accuracy': 0.8437294812869337, 'eval_f1': 0.8114104595879557, 'eval_precision': 0.8533333333333334, 'eval_recall': 0.7734138972809668, 'eval_runtime': 22.3513, 'eval_samples_per_second': 68.139, 'eval_steps_per_second': 4.295, 'epoch': 3.67}\n",
      "{'loss': 0.2296, 'learning_rate': 6.062992125984253e-06, 'epoch': 3.94}\n"
     ]
    },
    {
     "data": {
      "application/vnd.jupyter.widget-view+json": {
       "model_id": "79f4e01502ac46fbb55f440803b5ba74",
       "version_major": 2,
       "version_minor": 0
      },
      "text/plain": [
       "  0%|          | 0/96 [00:00<?, ?it/s]"
      ]
     },
     "metadata": {},
     "output_type": "display_data"
    },
    {
     "name": "stdout",
     "output_type": "stream",
     "text": [
      "{'eval_loss': 0.5622972846031189, 'eval_accuracy': 0.8417596848325674, 'eval_f1': 0.8076616121308859, 'eval_precision': 0.856175972927242, 'eval_recall': 0.7643504531722054, 'eval_runtime': 24.2693, 'eval_samples_per_second': 62.754, 'eval_steps_per_second': 3.956, 'epoch': 3.94}\n",
      "{'loss': 0.2342, 'learning_rate': 5.800524934383203e-06, 'epoch': 4.2}\n"
     ]
    },
    {
     "data": {
      "application/vnd.jupyter.widget-view+json": {
       "model_id": "cba3500ad6fc445fbd760dc2a54de2c2",
       "version_major": 2,
       "version_minor": 0
      },
      "text/plain": [
       "  0%|          | 0/96 [00:00<?, ?it/s]"
      ]
     },
     "metadata": {},
     "output_type": "display_data"
    },
    {
     "name": "stdout",
     "output_type": "stream",
     "text": [
      "{'eval_loss': 0.5990755558013916, 'eval_accuracy': 0.8384766907419566, 'eval_f1': 0.8110599078341014, 'eval_precision': 0.825, 'eval_recall': 0.797583081570997, 'eval_runtime': 24.4425, 'eval_samples_per_second': 62.309, 'eval_steps_per_second': 3.928, 'epoch': 4.2}\n",
      "{'loss': 0.204, 'learning_rate': 5.5380577427821525e-06, 'epoch': 4.46}\n"
     ]
    },
    {
     "data": {
      "application/vnd.jupyter.widget-view+json": {
       "model_id": "fbc120ff26634c24b4102fc8f043e082",
       "version_major": 2,
       "version_minor": 0
      },
      "text/plain": [
       "  0%|          | 0/96 [00:00<?, ?it/s]"
      ]
     },
     "metadata": {},
     "output_type": "display_data"
    },
    {
     "name": "stdout",
     "output_type": "stream",
     "text": [
      "{'eval_loss': 0.5728025436401367, 'eval_accuracy': 0.8384766907419566, 'eval_f1': 0.8038277511961723, 'eval_precision': 0.8513513513513513, 'eval_recall': 0.7613293051359517, 'eval_runtime': 24.5555, 'eval_samples_per_second': 62.023, 'eval_steps_per_second': 3.91, 'epoch': 4.46}\n",
      "{'loss': 0.19, 'learning_rate': 5.2755905511811025e-06, 'epoch': 4.72}\n"
     ]
    },
    {
     "data": {
      "application/vnd.jupyter.widget-view+json": {
       "model_id": "8691b2a7713d427aa1c660a88fba590f",
       "version_major": 2,
       "version_minor": 0
      },
      "text/plain": [
       "  0%|          | 0/96 [00:00<?, ?it/s]"
      ]
     },
     "metadata": {},
     "output_type": "display_data"
    },
    {
     "name": "stdout",
     "output_type": "stream",
     "text": [
      "{'eval_loss': 0.6664562225341797, 'eval_accuracy': 0.8240315167432699, 'eval_f1': 0.803230543318649, 'eval_precision': 0.7814285714285715, 'eval_recall': 0.8262839879154078, 'eval_runtime': 24.8724, 'eval_samples_per_second': 61.233, 'eval_steps_per_second': 3.86, 'epoch': 4.72}\n",
      "{'loss': 0.1964, 'learning_rate': 5.013123359580053e-06, 'epoch': 4.99}\n"
     ]
    },
    {
     "data": {
      "application/vnd.jupyter.widget-view+json": {
       "model_id": "a9f25206c03d43c28b42440899b7d88a",
       "version_major": 2,
       "version_minor": 0
      },
      "text/plain": [
       "  0%|          | 0/96 [00:00<?, ?it/s]"
      ]
     },
     "metadata": {},
     "output_type": "display_data"
    },
    {
     "name": "stdout",
     "output_type": "stream",
     "text": [
      "{'eval_loss': 0.6594102382659912, 'eval_accuracy': 0.835193696651346, 'eval_f1': 0.8003182179793158, 'eval_precision': 0.8453781512605042, 'eval_recall': 0.7598187311178247, 'eval_runtime': 24.3968, 'eval_samples_per_second': 62.426, 'eval_steps_per_second': 3.935, 'epoch': 4.99}\n",
      "{'loss': 0.1819, 'learning_rate': 4.750656167979003e-06, 'epoch': 5.25}\n"
     ]
    },
    {
     "data": {
      "application/vnd.jupyter.widget-view+json": {
       "model_id": "6c60eaed87524749b0da6377780032e7",
       "version_major": 2,
       "version_minor": 0
      },
      "text/plain": [
       "  0%|          | 0/96 [00:00<?, ?it/s]"
      ]
     },
     "metadata": {},
     "output_type": "display_data"
    },
    {
     "name": "stdout",
     "output_type": "stream",
     "text": [
      "{'eval_loss': 0.697257936000824, 'eval_accuracy': 0.8365068942875903, 'eval_f1': 0.7980535279805352, 'eval_precision': 0.861646234676007, 'eval_recall': 0.743202416918429, 'eval_runtime': 27.6782, 'eval_samples_per_second': 55.025, 'eval_steps_per_second': 3.468, 'epoch': 5.25}\n",
      "{'loss': 0.1786, 'learning_rate': 4.488188976377953e-06, 'epoch': 5.51}\n"
     ]
    },
    {
     "data": {
      "application/vnd.jupyter.widget-view+json": {
       "model_id": "16c97aa428db425c919e5d7daa1cd321",
       "version_major": 2,
       "version_minor": 0
      },
      "text/plain": [
       "  0%|          | 0/96 [00:00<?, ?it/s]"
      ]
     },
     "metadata": {},
     "output_type": "display_data"
    },
    {
     "name": "stdout",
     "output_type": "stream",
     "text": [
      "{'eval_loss': 0.6727377772331238, 'eval_accuracy': 0.8417596848325674, 'eval_f1': 0.8100866824271078, 'eval_precision': 0.8467874794069192, 'eval_recall': 0.7764350453172205, 'eval_runtime': 24.8278, 'eval_samples_per_second': 61.343, 'eval_steps_per_second': 3.867, 'epoch': 5.51}\n",
      "{'loss': 0.185, 'learning_rate': 4.225721784776903e-06, 'epoch': 5.77}\n"
     ]
    },
    {
     "data": {
      "application/vnd.jupyter.widget-view+json": {
       "model_id": "7d4bf8d452994329b85ff570146daa72",
       "version_major": 2,
       "version_minor": 0
      },
      "text/plain": [
       "  0%|          | 0/96 [00:00<?, ?it/s]"
      ]
     },
     "metadata": {},
     "output_type": "display_data"
    },
    {
     "name": "stdout",
     "output_type": "stream",
     "text": [
      "{'eval_loss': 0.6758411526679993, 'eval_accuracy': 0.8345370978332239, 'eval_f1': 0.8049535603715171, 'eval_precision': 0.8253968253968254, 'eval_recall': 0.7854984894259819, 'eval_runtime': 24.8155, 'eval_samples_per_second': 61.373, 'eval_steps_per_second': 3.869, 'epoch': 5.77}\n",
      "{'loss': 0.1747, 'learning_rate': 3.963254593175853e-06, 'epoch': 6.04}\n"
     ]
    },
    {
     "data": {
      "application/vnd.jupyter.widget-view+json": {
       "model_id": "1f7fa15384fe4bcfb673b5d2dc2bfac4",
       "version_major": 2,
       "version_minor": 0
      },
      "text/plain": [
       "  0%|          | 0/96 [00:00<?, ?it/s]"
      ]
     },
     "metadata": {},
     "output_type": "display_data"
    },
    {
     "name": "stdout",
     "output_type": "stream",
     "text": [
      "{'eval_loss': 0.7069612145423889, 'eval_accuracy': 0.8371634931057124, 'eval_f1': 0.8056426332288401, 'eval_precision': 0.8371335504885994, 'eval_recall': 0.7764350453172205, 'eval_runtime': 28.5071, 'eval_samples_per_second': 53.425, 'eval_steps_per_second': 3.368, 'epoch': 6.04}\n",
      "{'loss': 0.1609, 'learning_rate': 3.7007874015748035e-06, 'epoch': 6.3}\n"
     ]
    },
    {
     "data": {
      "application/vnd.jupyter.widget-view+json": {
       "model_id": "befd33dad6f04fa28c561d5d6c9d6dbe",
       "version_major": 2,
       "version_minor": 0
      },
      "text/plain": [
       "  0%|          | 0/96 [00:00<?, ?it/s]"
      ]
     },
     "metadata": {},
     "output_type": "display_data"
    },
    {
     "name": "stdout",
     "output_type": "stream",
     "text": [
      "{'eval_loss': 0.7128654718399048, 'eval_accuracy': 0.835193696651346, 'eval_f1': 0.7993605115907274, 'eval_precision': 0.8488964346349746, 'eval_recall': 0.7552870090634441, 'eval_runtime': 25.6192, 'eval_samples_per_second': 59.448, 'eval_steps_per_second': 3.747, 'epoch': 6.3}\n",
      "{'loss': 0.185, 'learning_rate': 3.4383202099737534e-06, 'epoch': 6.56}\n"
     ]
    },
    {
     "data": {
      "application/vnd.jupyter.widget-view+json": {
       "model_id": "0522219cce1f4a6d897e54e0da384e53",
       "version_major": 2,
       "version_minor": 0
      },
      "text/plain": [
       "  0%|          | 0/96 [00:00<?, ?it/s]"
      ]
     },
     "metadata": {},
     "output_type": "display_data"
    },
    {
     "name": "stdout",
     "output_type": "stream",
     "text": [
      "{'eval_loss': 0.7276392579078674, 'eval_accuracy': 0.8384766907419566, 'eval_f1': 0.807511737089202, 'eval_precision': 0.8376623376623377, 'eval_recall': 0.7794561933534743, 'eval_runtime': 24.6983, 'eval_samples_per_second': 61.664, 'eval_steps_per_second': 3.887, 'epoch': 6.56}\n",
      "{'loss': 0.16, 'learning_rate': 3.175853018372704e-06, 'epoch': 6.82}\n"
     ]
    },
    {
     "data": {
      "application/vnd.jupyter.widget-view+json": {
       "model_id": "2774b8fe97b84dd5964874e9680cff5d",
       "version_major": 2,
       "version_minor": 0
      },
      "text/plain": [
       "  0%|          | 0/96 [00:00<?, ?it/s]"
      ]
     },
     "metadata": {},
     "output_type": "display_data"
    },
    {
     "name": "stdout",
     "output_type": "stream",
     "text": [
      "{'eval_loss': 0.772510290145874, 'eval_accuracy': 0.8319107025607354, 'eval_f1': 0.8036809815950919, 'eval_precision': 0.8161993769470405, 'eval_recall': 0.7915407854984894, 'eval_runtime': 25.9049, 'eval_samples_per_second': 58.792, 'eval_steps_per_second': 3.706, 'epoch': 6.82}\n",
      "{'loss': 0.1454, 'learning_rate': 2.9133858267716538e-06, 'epoch': 7.09}\n"
     ]
    },
    {
     "data": {
      "application/vnd.jupyter.widget-view+json": {
       "model_id": "669251e465a645b9b38235e9188c7dd8",
       "version_major": 2,
       "version_minor": 0
      },
      "text/plain": [
       "  0%|          | 0/96 [00:00<?, ?it/s]"
      ]
     },
     "metadata": {},
     "output_type": "display_data"
    },
    {
     "name": "stdout",
     "output_type": "stream",
     "text": [
      "{'eval_loss': 0.807817816734314, 'eval_accuracy': 0.8345370978332239, 'eval_f1': 0.8043478260869565, 'eval_precision': 0.8274760383386581, 'eval_recall': 0.7824773413897281, 'eval_runtime': 26.0187, 'eval_samples_per_second': 58.535, 'eval_steps_per_second': 3.69, 'epoch': 7.09}\n",
      "{'loss': 0.1407, 'learning_rate': 2.650918635170604e-06, 'epoch': 7.35}\n"
     ]
    },
    {
     "data": {
      "application/vnd.jupyter.widget-view+json": {
       "model_id": "f370007fb025428bb0c275d6c3c1ac5f",
       "version_major": 2,
       "version_minor": 0
      },
      "text/plain": [
       "  0%|          | 0/96 [00:00<?, ?it/s]"
      ]
     },
     "metadata": {},
     "output_type": "display_data"
    },
    {
     "name": "stdout",
     "output_type": "stream",
     "text": [
      "{'eval_loss': 0.805303692817688, 'eval_accuracy': 0.8292843072882469, 'eval_f1': 0.792332268370607, 'eval_precision': 0.8406779661016949, 'eval_recall': 0.7492447129909365, 'eval_runtime': 26.0784, 'eval_samples_per_second': 58.401, 'eval_steps_per_second': 3.681, 'epoch': 7.35}\n",
      "{'loss': 0.1515, 'learning_rate': 2.388451443569554e-06, 'epoch': 7.61}\n"
     ]
    },
    {
     "data": {
      "application/vnd.jupyter.widget-view+json": {
       "model_id": "5dbfeac2ad4c42b4b1d435e837b800a7",
       "version_major": 2,
       "version_minor": 0
      },
      "text/plain": [
       "  0%|          | 0/96 [00:00<?, ?it/s]"
      ]
     },
     "metadata": {},
     "output_type": "display_data"
    },
    {
     "name": "stdout",
     "output_type": "stream",
     "text": [
      "{'eval_loss': 0.8807396292686462, 'eval_accuracy': 0.8325673013788575, 'eval_f1': 0.8042977743668457, 'eval_precision': 0.8174726989079563, 'eval_recall': 0.7915407854984894, 'eval_runtime': 22.2744, 'eval_samples_per_second': 68.374, 'eval_steps_per_second': 4.31, 'epoch': 7.61}\n",
      "{'loss': 0.1503, 'learning_rate': 2.125984251968504e-06, 'epoch': 7.87}\n"
     ]
    },
    {
     "data": {
      "application/vnd.jupyter.widget-view+json": {
       "model_id": "ba4a678527e64739b78b52cd64e41cd5",
       "version_major": 2,
       "version_minor": 0
      },
      "text/plain": [
       "  0%|          | 0/96 [00:00<?, ?it/s]"
      ]
     },
     "metadata": {},
     "output_type": "display_data"
    },
    {
     "name": "stdout",
     "output_type": "stream",
     "text": [
      "{'eval_loss': 0.8816424012184143, 'eval_accuracy': 0.8325673013788575, 'eval_f1': 0.8033924441017734, 'eval_precision': 0.8204724409448819, 'eval_recall': 0.7870090634441088, 'eval_runtime': 24.6476, 'eval_samples_per_second': 61.791, 'eval_steps_per_second': 3.895, 'epoch': 7.87}\n",
      "{'loss': 0.1345, 'learning_rate': 1.8635170603674544e-06, 'epoch': 8.14}\n"
     ]
    },
    {
     "data": {
      "application/vnd.jupyter.widget-view+json": {
       "model_id": "c9014e46cb4f4704b77280aeecf8917b",
       "version_major": 2,
       "version_minor": 0
      },
      "text/plain": [
       "  0%|          | 0/96 [00:00<?, ?it/s]"
      ]
     },
     "metadata": {},
     "output_type": "display_data"
    },
    {
     "name": "stdout",
     "output_type": "stream",
     "text": [
      "{'eval_loss': 0.8829851746559143, 'eval_accuracy': 0.8299409061063691, 'eval_f1': 0.8003084040092521, 'eval_precision': 0.8173228346456692, 'eval_recall': 0.783987915407855, 'eval_runtime': 24.6169, 'eval_samples_per_second': 61.868, 'eval_steps_per_second': 3.9, 'epoch': 8.14}\n",
      "{'loss': 0.0981, 'learning_rate': 1.6010498687664044e-06, 'epoch': 8.4}\n"
     ]
    },
    {
     "data": {
      "application/vnd.jupyter.widget-view+json": {
       "model_id": "4d898832fe9b4431a57f49c1663a78a7",
       "version_major": 2,
       "version_minor": 0
      },
      "text/plain": [
       "  0%|          | 0/96 [00:00<?, ?it/s]"
      ]
     },
     "metadata": {},
     "output_type": "display_data"
    },
    {
     "name": "stdout",
     "output_type": "stream",
     "text": [
      "{'eval_loss': 0.9233838319778442, 'eval_accuracy': 0.8325673013788575, 'eval_f1': 0.8021722265321956, 'eval_precision': 0.8245614035087719, 'eval_recall': 0.7809667673716012, 'eval_runtime': 21.5043, 'eval_samples_per_second': 70.823, 'eval_steps_per_second': 4.464, 'epoch': 8.4}\n",
      "{'loss': 0.1319, 'learning_rate': 1.3385826771653545e-06, 'epoch': 8.66}\n"
     ]
    },
    {
     "data": {
      "application/vnd.jupyter.widget-view+json": {
       "model_id": "2d362d5edd6142d0948a0b74db1b9907",
       "version_major": 2,
       "version_minor": 0
      },
      "text/plain": [
       "  0%|          | 0/96 [00:00<?, ?it/s]"
      ]
     },
     "metadata": {},
     "output_type": "display_data"
    },
    {
     "name": "stdout",
     "output_type": "stream",
     "text": [
      "{'eval_loss': 0.9263099431991577, 'eval_accuracy': 0.8332239001969797, 'eval_f1': 0.8031007751937984, 'eval_precision': 0.8248407643312102, 'eval_recall': 0.7824773413897281, 'eval_runtime': 21.8448, 'eval_samples_per_second': 69.719, 'eval_steps_per_second': 4.395, 'epoch': 8.66}\n",
      "{'loss': 0.1353, 'learning_rate': 1.0761154855643045e-06, 'epoch': 8.92}\n"
     ]
    },
    {
     "data": {
      "application/vnd.jupyter.widget-view+json": {
       "model_id": "105f4c34f523483ea7b53f5501d4ae79",
       "version_major": 2,
       "version_minor": 0
      },
      "text/plain": [
       "  0%|          | 0/96 [00:00<?, ?it/s]"
      ]
     },
     "metadata": {},
     "output_type": "display_data"
    },
    {
     "name": "stdout",
     "output_type": "stream",
     "text": [
      "{'eval_loss': 0.9109510183334351, 'eval_accuracy': 0.8332239001969797, 'eval_f1': 0.8061068702290075, 'eval_precision': 0.8148148148148148, 'eval_recall': 0.797583081570997, 'eval_runtime': 20.2873, 'eval_samples_per_second': 75.072, 'eval_steps_per_second': 4.732, 'epoch': 8.92}\n",
      "{'loss': 0.1283, 'learning_rate': 8.136482939632546e-07, 'epoch': 9.19}\n"
     ]
    },
    {
     "data": {
      "application/vnd.jupyter.widget-view+json": {
       "model_id": "e3d2e3b9af854f83bd946a6eb63e8baf",
       "version_major": 2,
       "version_minor": 0
      },
      "text/plain": [
       "  0%|          | 0/96 [00:00<?, ?it/s]"
      ]
     },
     "metadata": {},
     "output_type": "display_data"
    },
    {
     "name": "stdout",
     "output_type": "stream",
     "text": [
      "{'eval_loss': 0.9121915102005005, 'eval_accuracy': 0.8305975049244911, 'eval_f1': 0.7996894409937888, 'eval_precision': 0.8226837060702875, 'eval_recall': 0.7779456193353474, 'eval_runtime': 21.3838, 'eval_samples_per_second': 71.222, 'eval_steps_per_second': 4.489, 'epoch': 9.19}\n",
      "{'loss': 0.114, 'learning_rate': 5.511811023622048e-07, 'epoch': 9.45}\n"
     ]
    },
    {
     "data": {
      "application/vnd.jupyter.widget-view+json": {
       "model_id": "b2cf8fd0d5c14194adef82b55c0e44f0",
       "version_major": 2,
       "version_minor": 0
      },
      "text/plain": [
       "  0%|          | 0/96 [00:00<?, ?it/s]"
      ]
     },
     "metadata": {},
     "output_type": "display_data"
    },
    {
     "name": "stdout",
     "output_type": "stream",
     "text": [
      "{'eval_loss': 0.9317999482154846, 'eval_accuracy': 0.8299409061063691, 'eval_f1': 0.8, 'eval_precision': 0.8183254344391785, 'eval_recall': 0.7824773413897281, 'eval_runtime': 20.0612, 'eval_samples_per_second': 75.918, 'eval_steps_per_second': 4.785, 'epoch': 9.45}\n",
      "{'loss': 0.1109, 'learning_rate': 2.8871391076115486e-07, 'epoch': 9.71}\n"
     ]
    },
    {
     "data": {
      "application/vnd.jupyter.widget-view+json": {
       "model_id": "81fa82814f5f4858ab688255ad5b67c9",
       "version_major": 2,
       "version_minor": 0
      },
      "text/plain": [
       "  0%|          | 0/96 [00:00<?, ?it/s]"
      ]
     },
     "metadata": {},
     "output_type": "display_data"
    },
    {
     "name": "stdout",
     "output_type": "stream",
     "text": [
      "{'eval_loss': 0.9397410154342651, 'eval_accuracy': 0.8286277084701248, 'eval_f1': 0.7987663839629915, 'eval_precision': 0.815748031496063, 'eval_recall': 0.7824773413897281, 'eval_runtime': 20.9949, 'eval_samples_per_second': 72.541, 'eval_steps_per_second': 4.573, 'epoch': 9.71}\n",
      "{'loss': 0.1082, 'learning_rate': 2.624671916010499e-08, 'epoch': 9.97}\n"
     ]
    },
    {
     "data": {
      "application/vnd.jupyter.widget-view+json": {
       "model_id": "00d5233288c74ead86ee6680493ebefc",
       "version_major": 2,
       "version_minor": 0
      },
      "text/plain": [
       "  0%|          | 0/96 [00:00<?, ?it/s]"
      ]
     },
     "metadata": {},
     "output_type": "display_data"
    },
    {
     "name": "stdout",
     "output_type": "stream",
     "text": [
      "{'eval_loss': 0.9419028759002686, 'eval_accuracy': 0.8312541037426132, 'eval_f1': 0.8024596464258262, 'eval_precision': 0.8169014084507042, 'eval_recall': 0.7885196374622356, 'eval_runtime': 21.0411, 'eval_samples_per_second': 72.382, 'eval_steps_per_second': 4.563, 'epoch': 9.97}\n",
      "{'train_runtime': 3772.6769, 'train_samples_per_second': 16.142, 'train_steps_per_second': 1.01, 'train_loss': 0.22467560874508435, 'epoch': 10.0}\n"
     ]
    },
    {
     "data": {
      "text/html": [
       "Waiting for W&B process to finish... <strong style=\"color:green\">(success).</strong>"
      ],
      "text/plain": [
       "<IPython.core.display.HTML object>"
      ]
     },
     "metadata": {},
     "output_type": "display_data"
    },
    {
     "data": {
      "text/html": [
       "<style>\n",
       "    table.wandb td:nth-child(1) { padding: 0 10px; text-align: left ; width: auto;} td:nth-child(2) {text-align: left ; width: 100%}\n",
       "    .wandb-row { display: flex; flex-direction: row; flex-wrap: wrap; justify-content: flex-start; width: 100% }\n",
       "    .wandb-col { display: flex; flex-direction: column; flex-basis: 100%; flex: 1; padding: 10px; }\n",
       "    </style>\n",
       "<div class=\"wandb-row\"><div class=\"wandb-col\"><h3>Run history:</h3><br/><table class=\"wandb\"><tr><td>eval/accuracy</td><td>▁▂▄▅▆▆▅██▇▇▆█▇▆▆▆▂▅▅▆▅▅▅▆▄▅▄▄▄▄▄▄▄▄▄▃▄</td></tr><tr><td>eval/f1</td><td>▃▁▅▆▆▆▆██▆▆▇▇▇▆▇▅▅▅▄▆▆▆▅▆▅▅▃▅▅▅▅▅▆▅▅▄▅</td></tr><tr><td>eval/loss</td><td>▁▁▁▂▁▁▁▁▂▁▁▃▂▂▃▄▃▅▄▅▅▅▅▅▅▆▆▆▇▇▇███████</td></tr><tr><td>eval/precision</td><td>▁▅▄▄▅▅▅▅▅▇▇▄█▆▆▄▅▁▅▆▅▄▅▅▅▃▄▅▃▃▃▄▄▃▄▃▃▃</td></tr><tr><td>eval/recall</td><td>▆▁▅▆▅▅▄▆▆▃▃▇▂▅▄▆▄█▄▃▅▅▅▃▅▆▅▃▆▅▅▅▅▆▅▅▅▆</td></tr><tr><td>eval/runtime</td><td>▂▁▁▂▂▂▂▂▂▂▃▃▃▃▅▅▅▅▅▇▅▅█▆▅▆▆▆▃▅▅▂▃▁▂▁▂▂</td></tr><tr><td>eval/samples_per_second</td><td>▆██▇▆▆▇▇▆▇▆▅▅▅▄▄▄▃▄▁▃▃▁▃▄▃▃▃▆▄▄▆▆█▆█▇▇</td></tr><tr><td>eval/steps_per_second</td><td>▆██▇▆▆▇▇▆▇▆▅▅▅▄▄▄▃▄▁▃▃▁▃▄▃▃▃▆▄▄▆▆█▆█▇▇</td></tr><tr><td>train/epoch</td><td>▁▁▁▁▂▂▂▂▂▃▃▃▃▃▃▄▄▄▄▄▅▅▅▅▅▆▆▆▆▆▆▇▇▇▇▇████</td></tr><tr><td>train/global_step</td><td>▁▁▁▁▂▂▂▂▂▃▃▃▃▃▃▄▄▄▄▄▅▅▅▅▅▆▆▆▆▆▆▇▇▇▇▇████</td></tr><tr><td>train/learning_rate</td><td>███▇▇▇▇▇▆▆▆▆▆▆▅▅▅▅▅▄▄▄▄▄▃▃▃▃▃▃▂▂▂▂▂▁▁▁</td></tr><tr><td>train/loss</td><td>█▆▆▆▅▅▅▅▄▄▄▄▃▄▃▃▃▃▃▂▂▂▂▂▂▂▂▂▂▂▂▁▂▂▁▁▁▁</td></tr><tr><td>train/total_flos</td><td>▁</td></tr><tr><td>train/train_loss</td><td>▁</td></tr><tr><td>train/train_runtime</td><td>▁</td></tr><tr><td>train/train_samples_per_second</td><td>▁</td></tr><tr><td>train/train_steps_per_second</td><td>▁</td></tr></table><br/></div><div class=\"wandb-col\"><h3>Run summary:</h3><br/><table class=\"wandb\"><tr><td>eval/accuracy</td><td>0.83125</td></tr><tr><td>eval/f1</td><td>0.80246</td></tr><tr><td>eval/loss</td><td>0.9419</td></tr><tr><td>eval/precision</td><td>0.8169</td></tr><tr><td>eval/recall</td><td>0.78852</td></tr><tr><td>eval/runtime</td><td>21.0411</td></tr><tr><td>eval/samples_per_second</td><td>72.382</td></tr><tr><td>eval/steps_per_second</td><td>4.563</td></tr><tr><td>train/epoch</td><td>10.0</td></tr><tr><td>train/global_step</td><td>3810</td></tr><tr><td>train/learning_rate</td><td>0.0</td></tr><tr><td>train/loss</td><td>0.1082</td></tr><tr><td>train/total_flos</td><td>1133778426428160.0</td></tr><tr><td>train/train_loss</td><td>0.22468</td></tr><tr><td>train/train_runtime</td><td>3772.6769</td></tr><tr><td>train/train_samples_per_second</td><td>16.142</td></tr><tr><td>train/train_steps_per_second</td><td>1.01</td></tr></table><br/></div></div>"
      ],
      "text/plain": [
       "<IPython.core.display.HTML object>"
      ]
     },
     "metadata": {},
     "output_type": "display_data"
    },
    {
     "data": {
      "text/html": [
       " View run <strong style=\"color:#cdcd00\">expert-spaceship-11</strong> at: <a href='https://wandb.ai/tarun0131/huggingface/runs/jw9tt2vq' target=\"_blank\">https://wandb.ai/tarun0131/huggingface/runs/jw9tt2vq</a><br/>Synced 6 W&B file(s), 0 media file(s), 8 artifact file(s) and 0 other file(s)"
      ],
      "text/plain": [
       "<IPython.core.display.HTML object>"
      ]
     },
     "metadata": {},
     "output_type": "display_data"
    },
    {
     "data": {
      "text/html": [
       "Find logs at: <code>./wandb/run-20230604_220428-jw9tt2vq/logs</code>"
      ],
      "text/plain": [
       "<IPython.core.display.HTML object>"
      ]
     },
     "metadata": {},
     "output_type": "display_data"
    }
   ],
   "source": [
    "# Model training on Train dataset and performance on Validation dataset\n",
    "training_args = TrainingArguments(\n",
    "    output_dir=\"./results\",         # set output directory\n",
    "    learning_rate=1e-5,             # we can customize learning rate\n",
    "    per_device_train_batch_size=16,\n",
    "    per_device_eval_batch_size=16,\n",
    "    num_train_epochs=10,\n",
    "    weight_decay=0.01,\n",
    "    report_to=\"wandb\",              # enable logging to W&B\n",
    "    logging_strategy='steps',\n",
    "    logging_steps=100,              # we will log every 100 steps\n",
    "    evaluation_strategy='steps',    # check evaluation metrics on a given # of steps\n",
    "    eval_steps=100,                 # we will perform evaluation every 100 steps\n",
    "    eval_accumulation_steps=1,      # report evaluation results after each step\n",
    "    metric_for_best_model='f1',\n",
    "    load_best_model_at_end=False\n",
    ")\n",
    "\n",
    "# automatically log model to W&B at the end\n",
    "%env WANDB_LOG_MODEL=true\n",
    "\n",
    "trainer = Trainer(\n",
    "    model=model,\n",
    "    args=training_args,\n",
    "    train_dataset=train_ds_tk,\n",
    "    eval_dataset=val_ds_tk,\n",
    "    tokenizer=tokenizer,\n",
    "    data_collator=data_collator,\n",
    "    compute_metrics=compute_metrics\n",
    ")\n",
    "\n",
    "trainer.train()\n",
    "wandb.finish()"
   ]
  },
  {
   "cell_type": "code",
   "execution_count": 18,
   "id": "d53c8037",
   "metadata": {},
   "outputs": [
    {
     "name": "stderr",
     "output_type": "stream",
     "text": [
      "Some weights of RobertaForSequenceClassification were not initialized from the model checkpoint at cardiffnlp/twitter-roberta-base-sentiment and are newly initialized because the shapes did not match:\n",
      "- classifier.out_proj.weight: found shape torch.Size([3, 768]) in the checkpoint and torch.Size([2, 768]) in the model instantiated\n",
      "- classifier.out_proj.bias: found shape torch.Size([3]) in the checkpoint and torch.Size([2]) in the model instantiated\n",
      "You should probably TRAIN this model on a down-stream task to be able to use it for predictions and inference.\n"
     ]
    },
    {
     "name": "stdout",
     "output_type": "stream",
     "text": [
      "env: WANDB_LOG_MODEL=true\n"
     ]
    },
    {
     "name": "stderr",
     "output_type": "stream",
     "text": [
      "/Users/tarunbirgambhir/miniforge3/envs/tensorflow/lib/python3.10/site-packages/transformers/optimization.py:407: FutureWarning: This implementation of AdamW is deprecated and will be removed in a future version. Use the PyTorch implementation torch.optim.AdamW instead, or set `no_deprecation_warning=True` to disable this warning\n",
      "  warnings.warn(\n"
     ]
    },
    {
     "name": "stdout",
     "output_type": "stream",
     "text": [
      "huggingface/tokenizers: The current process just got forked, after parallelism has already been used. Disabling parallelism to avoid deadlocks...\n",
      "To disable this warning, you can either:\n",
      "\t- Avoid using `tokenizers` before the fork if possible\n",
      "\t- Explicitly set the environment variable TOKENIZERS_PARALLELISM=(true | false)\n"
     ]
    },
    {
     "data": {
      "text/html": [
       "Tracking run with wandb version 0.15.3"
      ],
      "text/plain": [
       "<IPython.core.display.HTML object>"
      ]
     },
     "metadata": {},
     "output_type": "display_data"
    },
    {
     "data": {
      "text/html": [
       "Run data is saved locally in <code>/Users/tarunbirgambhir/Downloads/Natural Language Processing with Disaster Tweets/notebook/wandb/run-20230604_230837-ilvnhpqm</code>"
      ],
      "text/plain": [
       "<IPython.core.display.HTML object>"
      ]
     },
     "metadata": {},
     "output_type": "display_data"
    },
    {
     "data": {
      "text/html": [
       "Syncing run <strong><a href='https://wandb.ai/tarun0131/huggingface/runs/ilvnhpqm' target=\"_blank\">silver-sound-12</a></strong> to <a href='https://wandb.ai/tarun0131/huggingface' target=\"_blank\">Weights & Biases</a> (<a href='https://wandb.me/run' target=\"_blank\">docs</a>)<br/>"
      ],
      "text/plain": [
       "<IPython.core.display.HTML object>"
      ]
     },
     "metadata": {},
     "output_type": "display_data"
    },
    {
     "data": {
      "text/html": [
       " View project at <a href='https://wandb.ai/tarun0131/huggingface' target=\"_blank\">https://wandb.ai/tarun0131/huggingface</a>"
      ],
      "text/plain": [
       "<IPython.core.display.HTML object>"
      ]
     },
     "metadata": {},
     "output_type": "display_data"
    },
    {
     "data": {
      "text/html": [
       " View run at <a href='https://wandb.ai/tarun0131/huggingface/runs/ilvnhpqm' target=\"_blank\">https://wandb.ai/tarun0131/huggingface/runs/ilvnhpqm</a>"
      ],
      "text/plain": [
       "<IPython.core.display.HTML object>"
      ]
     },
     "metadata": {},
     "output_type": "display_data"
    },
    {
     "data": {
      "application/vnd.jupyter.widget-view+json": {
       "model_id": "8de1b0cad03243ec8c7be2e49b3568e9",
       "version_major": 2,
       "version_minor": 0
      },
      "text/plain": [
       "  0%|          | 0/4760 [00:00<?, ?it/s]"
      ]
     },
     "metadata": {},
     "output_type": "display_data"
    },
    {
     "name": "stdout",
     "output_type": "stream",
     "text": [
      "{'loss': 0.5193, 'learning_rate': 9.789915966386554e-06, 'epoch': 0.21}\n",
      "{'loss': 0.3895, 'learning_rate': 9.579831932773111e-06, 'epoch': 0.42}\n",
      "{'loss': 0.4126, 'learning_rate': 9.369747899159664e-06, 'epoch': 0.63}\n",
      "{'loss': 0.3835, 'learning_rate': 9.15966386554622e-06, 'epoch': 0.84}\n",
      "{'loss': 0.378, 'learning_rate': 8.949579831932775e-06, 'epoch': 1.05}\n",
      "{'loss': 0.3192, 'learning_rate': 8.739495798319328e-06, 'epoch': 1.26}\n",
      "{'loss': 0.3483, 'learning_rate': 8.529411764705883e-06, 'epoch': 1.47}\n",
      "{'loss': 0.3585, 'learning_rate': 8.319327731092438e-06, 'epoch': 1.68}\n",
      "{'loss': 0.3601, 'learning_rate': 8.109243697478992e-06, 'epoch': 1.89}\n",
      "{'loss': 0.292, 'learning_rate': 7.899159663865547e-06, 'epoch': 2.1}\n",
      "{'loss': 0.2984, 'learning_rate': 7.689075630252102e-06, 'epoch': 2.31}\n",
      "{'loss': 0.2822, 'learning_rate': 7.478991596638656e-06, 'epoch': 2.52}\n",
      "{'loss': 0.3154, 'learning_rate': 7.268907563025211e-06, 'epoch': 2.73}\n",
      "{'loss': 0.2746, 'learning_rate': 7.058823529411766e-06, 'epoch': 2.94}\n",
      "{'loss': 0.2392, 'learning_rate': 6.84873949579832e-06, 'epoch': 3.15}\n",
      "{'loss': 0.2341, 'learning_rate': 6.638655462184874e-06, 'epoch': 3.36}\n",
      "{'loss': 0.2513, 'learning_rate': 6.4285714285714295e-06, 'epoch': 3.57}\n",
      "{'loss': 0.2249, 'learning_rate': 6.218487394957984e-06, 'epoch': 3.78}\n",
      "{'loss': 0.2492, 'learning_rate': 6.008403361344538e-06, 'epoch': 3.99}\n",
      "{'loss': 0.1828, 'learning_rate': 5.798319327731093e-06, 'epoch': 4.2}\n",
      "{'loss': 0.2247, 'learning_rate': 5.588235294117647e-06, 'epoch': 4.41}\n",
      "{'loss': 0.1872, 'learning_rate': 5.378151260504202e-06, 'epoch': 4.62}\n",
      "{'loss': 0.209, 'learning_rate': 5.168067226890757e-06, 'epoch': 4.83}\n",
      "{'loss': 0.19, 'learning_rate': 4.957983193277311e-06, 'epoch': 5.04}\n",
      "{'loss': 0.1665, 'learning_rate': 4.747899159663865e-06, 'epoch': 5.25}\n",
      "{'loss': 0.1744, 'learning_rate': 4.5378151260504205e-06, 'epoch': 5.46}\n",
      "{'loss': 0.1611, 'learning_rate': 4.327731092436976e-06, 'epoch': 5.67}\n",
      "{'loss': 0.1859, 'learning_rate': 4.11764705882353e-06, 'epoch': 5.88}\n",
      "{'loss': 0.1351, 'learning_rate': 3.907563025210084e-06, 'epoch': 6.09}\n",
      "{'loss': 0.1656, 'learning_rate': 3.6974789915966393e-06, 'epoch': 6.3}\n",
      "{'loss': 0.1557, 'learning_rate': 3.4873949579831936e-06, 'epoch': 6.51}\n",
      "{'loss': 0.1634, 'learning_rate': 3.2773109243697483e-06, 'epoch': 6.72}\n",
      "{'loss': 0.142, 'learning_rate': 3.067226890756303e-06, 'epoch': 6.93}\n",
      "{'loss': 0.1252, 'learning_rate': 2.8571428571428573e-06, 'epoch': 7.14}\n",
      "{'loss': 0.141, 'learning_rate': 2.647058823529412e-06, 'epoch': 7.35}\n",
      "{'loss': 0.1262, 'learning_rate': 2.4369747899159667e-06, 'epoch': 7.56}\n",
      "{'loss': 0.1583, 'learning_rate': 2.2268907563025214e-06, 'epoch': 7.77}\n",
      "{'loss': 0.1345, 'learning_rate': 2.0168067226890756e-06, 'epoch': 7.98}\n",
      "{'loss': 0.1348, 'learning_rate': 1.8067226890756303e-06, 'epoch': 8.19}\n",
      "{'loss': 0.0933, 'learning_rate': 1.5966386554621848e-06, 'epoch': 8.4}\n",
      "{'loss': 0.1424, 'learning_rate': 1.3865546218487397e-06, 'epoch': 8.61}\n",
      "{'loss': 0.1078, 'learning_rate': 1.1764705882352942e-06, 'epoch': 8.82}\n",
      "{'loss': 0.118, 'learning_rate': 9.66386554621849e-07, 'epoch': 9.03}\n",
      "{'loss': 0.1255, 'learning_rate': 7.563025210084034e-07, 'epoch': 9.24}\n",
      "{'loss': 0.0885, 'learning_rate': 5.46218487394958e-07, 'epoch': 9.45}\n",
      "{'loss': 0.0996, 'learning_rate': 3.361344537815126e-07, 'epoch': 9.66}\n",
      "{'loss': 0.1032, 'learning_rate': 1.2605042016806723e-07, 'epoch': 9.87}\n",
      "{'train_runtime': 4007.4688, 'train_samples_per_second': 18.997, 'train_steps_per_second': 1.188, 'train_loss': 0.21696754122982506, 'epoch': 10.0}\n"
     ]
    },
    {
     "data": {
      "text/html": [
       "Waiting for W&B process to finish... <strong style=\"color:green\">(success).</strong>"
      ],
      "text/plain": [
       "<IPython.core.display.HTML object>"
      ]
     },
     "metadata": {},
     "output_type": "display_data"
    },
    {
     "name": "stderr",
     "output_type": "stream",
     "text": [
      "wandb: Network error (TransientError), entering retry loop.\n"
     ]
    },
    {
     "data": {
      "text/html": [
       "<style>\n",
       "    table.wandb td:nth-child(1) { padding: 0 10px; text-align: left ; width: auto;} td:nth-child(2) {text-align: left ; width: 100%}\n",
       "    .wandb-row { display: flex; flex-direction: row; flex-wrap: wrap; justify-content: flex-start; width: 100% }\n",
       "    .wandb-col { display: flex; flex-direction: column; flex-basis: 100%; flex: 1; padding: 10px; }\n",
       "    </style>\n",
       "<div class=\"wandb-row\"><div class=\"wandb-col\"><h3>Run history:</h3><br/><table class=\"wandb\"><tr><td>train/epoch</td><td>▁▁▁▁▂▂▂▂▂▃▃▃▃▃▃▄▄▄▄▄▅▅▅▅▅▆▆▆▆▆▆▇▇▇▇▇▇███</td></tr><tr><td>train/global_step</td><td>▁▁▁▁▂▂▂▂▂▃▃▃▃▃▃▄▄▄▄▄▅▅▅▅▅▆▆▆▆▆▆▇▇▇▇▇▇███</td></tr><tr><td>train/learning_rate</td><td>████▇▇▇▇▇▆▆▆▆▆▆▅▅▅▅▅▅▄▄▄▄▄▃▃▃▃▃▃▂▂▂▂▂▁▁▁</td></tr><tr><td>train/loss</td><td>█▆▆▆▆▅▅▅▄▄▄▅▃▃▄▃▄▃▃▃▃▂▂▃▂▂▂▂▂▂▂▂▂▂▂▁▁▂▁▁</td></tr><tr><td>train/total_flos</td><td>▁</td></tr><tr><td>train/train_loss</td><td>▁</td></tr><tr><td>train/train_runtime</td><td>▁</td></tr><tr><td>train/train_samples_per_second</td><td>▁</td></tr><tr><td>train/train_steps_per_second</td><td>▁</td></tr></table><br/></div><div class=\"wandb-col\"><h3>Run summary:</h3><br/><table class=\"wandb\"><tr><td>train/epoch</td><td>10.0</td></tr><tr><td>train/global_step</td><td>4760</td></tr><tr><td>train/learning_rate</td><td>0.0</td></tr><tr><td>train/loss</td><td>0.1032</td></tr><tr><td>train/total_flos</td><td>1417655727387960.0</td></tr><tr><td>train/train_loss</td><td>0.21697</td></tr><tr><td>train/train_runtime</td><td>4007.4688</td></tr><tr><td>train/train_samples_per_second</td><td>18.997</td></tr><tr><td>train/train_steps_per_second</td><td>1.188</td></tr></table><br/></div></div>"
      ],
      "text/plain": [
       "<IPython.core.display.HTML object>"
      ]
     },
     "metadata": {},
     "output_type": "display_data"
    },
    {
     "data": {
      "text/html": [
       " View run <strong style=\"color:#cdcd00\">silver-sound-12</strong> at: <a href='https://wandb.ai/tarun0131/huggingface/runs/ilvnhpqm' target=\"_blank\">https://wandb.ai/tarun0131/huggingface/runs/ilvnhpqm</a><br/>Synced 6 W&B file(s), 0 media file(s), 8 artifact file(s) and 0 other file(s)"
      ],
      "text/plain": [
       "<IPython.core.display.HTML object>"
      ]
     },
     "metadata": {},
     "output_type": "display_data"
    },
    {
     "data": {
      "text/html": [
       "Find logs at: <code>./wandb/run-20230604_230837-ilvnhpqm/logs</code>"
      ],
      "text/plain": [
       "<IPython.core.display.HTML object>"
      ]
     },
     "metadata": {},
     "output_type": "display_data"
    }
   ],
   "source": [
    "# Reinitializing model for final training\n",
    "model = AutoModelForSequenceClassification.from_pretrained(model_name, num_labels=2, ignore_mismatched_sizes=True)\n",
    "\n",
    "device = torch.device(\"mps\") if torch.backends.mps.is_available() else torch.device(\"cpu\")\n",
    "model.to(device)\n",
    "\n",
    "# Combine the training and validation datasets\n",
    "train_ds_complete_tk = concatenate_datasets([train_ds_tk, val_ds_tk])\n",
    "\n",
    "# Model training on entire dataset\n",
    "training_args = TrainingArguments(\n",
    "    output_dir=\"./results\", \n",
    "    learning_rate=1e-5,\n",
    "    per_device_train_batch_size=16,\n",
    "    per_device_eval_batch_size=16,\n",
    "    num_train_epochs=10,   \n",
    "    weight_decay=0.01,\n",
    "    report_to=\"wandb\",\n",
    "    logging_strategy='steps',\n",
    "    logging_steps=100,\n",
    ")\n",
    "\n",
    "%env WANDB_LOG_MODEL=true\n",
    "\n",
    "trainer = Trainer(\n",
    "    model=model,\n",
    "    args=training_args,\n",
    "    train_dataset=train_ds_complete_tk,  # Use the full dataset\n",
    "    tokenizer=tokenizer,\n",
    "    data_collator=data_collator,\n",
    "    compute_metrics=compute_metrics\n",
    ")\n",
    "\n",
    "trainer.train()\n",
    "wandb.finish()\n"
   ]
  },
  {
   "cell_type": "code",
   "execution_count": 19,
   "id": "ffb6e8e1",
   "metadata": {
    "execution": {
     "iopub.execute_input": "2023-06-03T21:45:25.111916Z",
     "iopub.status.busy": "2023-06-03T21:45:25.110309Z",
     "iopub.status.idle": "2023-06-03T21:45:27.674693Z",
     "shell.execute_reply": "2023-06-03T21:45:27.673690Z"
    },
    "papermill": {
     "duration": 2.577983,
     "end_time": "2023-06-03T21:45:27.677019",
     "exception": false,
     "start_time": "2023-06-03T21:45:25.099036",
     "status": "completed"
    },
    "tags": []
   },
   "outputs": [
    {
     "name": "stderr",
     "output_type": "stream",
     "text": [
      "Xformers is not installed correctly. If you want to use memorry_efficient_attention to accelerate training use the following command to install Xformers\n",
      "pip install xformers.\n"
     ]
    }
   ],
   "source": [
    "# pipeline to create the predictions file\n",
    "from transformers import TextClassificationPipeline\n",
    "\n",
    "inference_on_test_pipe = TextClassificationPipeline(model=model.to('cpu'), tokenizer=tokenizer)"
   ]
  },
  {
   "cell_type": "code",
   "execution_count": 20,
   "id": "2a28e9c8",
   "metadata": {
    "execution": {
     "iopub.execute_input": "2023-06-03T21:45:27.699811Z",
     "iopub.status.busy": "2023-06-03T21:45:27.699484Z",
     "iopub.status.idle": "2023-06-03T21:46:08.838259Z",
     "shell.execute_reply": "2023-06-03T21:46:08.837262Z"
    },
    "papermill": {
     "duration": 41.153236,
     "end_time": "2023-06-03T21:46:08.841057",
     "exception": false,
     "start_time": "2023-06-03T21:45:27.687821",
     "status": "completed"
    },
    "tags": []
   },
   "outputs": [],
   "source": [
    "test_df = pd.read_csv('../data/test.csv')\n",
    "test_clean_text = clean_text(test_df['text'].to_list())\n",
    "scores = inference_on_test_pipe(test_clean_text)"
   ]
  },
  {
   "cell_type": "code",
   "execution_count": 21,
   "id": "38a7e1f2",
   "metadata": {
    "execution": {
     "iopub.execute_input": "2023-06-03T21:46:08.865992Z",
     "iopub.status.busy": "2023-06-03T21:46:08.864142Z",
     "iopub.status.idle": "2023-06-03T21:46:08.887643Z",
     "shell.execute_reply": "2023-06-03T21:46:08.886685Z"
    },
    "papermill": {
     "duration": 0.037189,
     "end_time": "2023-06-03T21:46:08.889826",
     "exception": false,
     "start_time": "2023-06-03T21:46:08.852637",
     "status": "completed"
    },
    "tags": []
   },
   "outputs": [],
   "source": [
    "processed_scores = [int(s['label'].split('_')[1]) for s in scores]\n",
    "test_df['target'] = processed_scores\n",
    "df = test_df[['id', 'target']]\n",
    "df.to_csv('../submissions.csv',index=False)"
   ]
  },
  {
   "cell_type": "code",
   "execution_count": null,
   "id": "5b39e575",
   "metadata": {
    "papermill": {
     "duration": 0.010339,
     "end_time": "2023-06-03T21:46:08.910637",
     "exception": false,
     "start_time": "2023-06-03T21:46:08.900298",
     "status": "completed"
    },
    "tags": []
   },
   "outputs": [],
   "source": []
  }
 ],
 "metadata": {
  "kernelspec": {
   "display_name": "Python 3 (ipykernel)",
   "language": "python",
   "name": "python3"
  },
  "language_info": {
   "codemirror_mode": {
    "name": "ipython",
    "version": 3
   },
   "file_extension": ".py",
   "mimetype": "text/x-python",
   "name": "python",
   "nbconvert_exporter": "python",
   "pygments_lexer": "ipython3",
   "version": "3.10.10"
  },
  "papermill": {
   "default_parameters": {},
   "duration": 595.904764,
   "end_time": "2023-06-03T21:46:11.912309",
   "environment_variables": {},
   "exception": null,
   "input_path": "__notebook__.ipynb",
   "output_path": "__notebook__.ipynb",
   "parameters": {},
   "start_time": "2023-06-03T21:36:16.007545",
   "version": "2.4.0"
  },
  "widgets": {
   "application/vnd.jupyter.widget-state+json": {
    "state": {
     "001259d34e3c46b3ac2f384d715b1ee9": {
      "model_module": "@jupyter-widgets/controls",
      "model_module_version": "1.5.0",
      "model_name": "HTMLModel",
      "state": {
       "_dom_classes": [],
       "_model_module": "@jupyter-widgets/controls",
       "_model_module_version": "1.5.0",
       "_model_name": "HTMLModel",
       "_view_count": null,
       "_view_module": "@jupyter-widgets/controls",
       "_view_module_version": "1.5.0",
       "_view_name": "HTMLView",
       "description": "",
       "description_tooltip": null,
       "layout": "IPY_MODEL_04807b2ce962482a935b52ca84f8ca93",
       "placeholder": "​",
       "style": "IPY_MODEL_7de287d6503b43c6b98bf2c484b230ff",
       "value": "100%"
      }
     },
     "01349a58299847b5966fd953d18d59c6": {
      "model_module": "@jupyter-widgets/controls",
      "model_module_version": "1.5.0",
      "model_name": "HBoxModel",
      "state": {
       "_dom_classes": [],
       "_model_module": "@jupyter-widgets/controls",
       "_model_module_version": "1.5.0",
       "_model_name": "HBoxModel",
       "_view_count": null,
       "_view_module": "@jupyter-widgets/controls",
       "_view_module_version": "1.5.0",
       "_view_name": "HBoxView",
       "box_style": "",
       "children": [
        "IPY_MODEL_03e7c8e6c4c64d15a8c4dcd1e02f2abd",
        "IPY_MODEL_18f565722b324e6a978dca7e68b9cff6",
        "IPY_MODEL_3f66b6f64e5c44faa22a520eeddf114f"
       ],
       "layout": "IPY_MODEL_6479c9b75575488fa998f509c3f3a26c"
      }
     },
     "03e7c8e6c4c64d15a8c4dcd1e02f2abd": {
      "model_module": "@jupyter-widgets/controls",
      "model_module_version": "1.5.0",
      "model_name": "HTMLModel",
      "state": {
       "_dom_classes": [],
       "_model_module": "@jupyter-widgets/controls",
       "_model_module_version": "1.5.0",
       "_model_name": "HTMLModel",
       "_view_count": null,
       "_view_module": "@jupyter-widgets/controls",
       "_view_module_version": "1.5.0",
       "_view_name": "HTMLView",
       "description": "",
       "description_tooltip": null,
       "layout": "IPY_MODEL_b49c6500c48d4f2cbe5dc2b96e23eb4a",
       "placeholder": "​",
       "style": "IPY_MODEL_a29a829e08554dafa05d7a8e05dc8942",
       "value": "Downloading (…)cial_tokens_map.json: 100%"
      }
     },
     "04807b2ce962482a935b52ca84f8ca93": {
      "model_module": "@jupyter-widgets/base",
      "model_module_version": "1.2.0",
      "model_name": "LayoutModel",
      "state": {
       "_model_module": "@jupyter-widgets/base",
       "_model_module_version": "1.2.0",
       "_model_name": "LayoutModel",
       "_view_count": null,
       "_view_module": "@jupyter-widgets/base",
       "_view_module_version": "1.2.0",
       "_view_name": "LayoutView",
       "align_content": null,
       "align_items": null,
       "align_self": null,
       "border": null,
       "bottom": null,
       "display": null,
       "flex": null,
       "flex_flow": null,
       "grid_area": null,
       "grid_auto_columns": null,
       "grid_auto_flow": null,
       "grid_auto_rows": null,
       "grid_column": null,
       "grid_gap": null,
       "grid_row": null,
       "grid_template_areas": null,
       "grid_template_columns": null,
       "grid_template_rows": null,
       "height": null,
       "justify_content": null,
       "justify_items": null,
       "left": null,
       "margin": null,
       "max_height": null,
       "max_width": null,
       "min_height": null,
       "min_width": null,
       "object_fit": null,
       "object_position": null,
       "order": null,
       "overflow": null,
       "overflow_x": null,
       "overflow_y": null,
       "padding": null,
       "right": null,
       "top": null,
       "visibility": null,
       "width": null
      }
     },
     "058accd76d2c432aa39aec0c20d86f5c": {
      "model_module": "@jupyter-widgets/controls",
      "model_module_version": "1.5.0",
      "model_name": "HTMLModel",
      "state": {
       "_dom_classes": [],
       "_model_module": "@jupyter-widgets/controls",
       "_model_module_version": "1.5.0",
       "_model_name": "HTMLModel",
       "_view_count": null,
       "_view_module": "@jupyter-widgets/controls",
       "_view_module_version": "1.5.0",
       "_view_name": "HTMLView",
       "description": "",
       "description_tooltip": null,
       "layout": "IPY_MODEL_fa45e4ed5e624db79b8ff1dd29eba616",
       "placeholder": "​",
       "style": "IPY_MODEL_97f794d0814a4b779f13f67157faa9c9",
       "value": " 899k/899k [00:00&lt;00:00, 2.76MB/s]"
      }
     },
     "0f5e8c7fd78e4dda97a1b9366113ed81": {
      "model_module": "@jupyter-widgets/base",
      "model_module_version": "1.2.0",
      "model_name": "LayoutModel",
      "state": {
       "_model_module": "@jupyter-widgets/base",
       "_model_module_version": "1.2.0",
       "_model_name": "LayoutModel",
       "_view_count": null,
       "_view_module": "@jupyter-widgets/base",
       "_view_module_version": "1.2.0",
       "_view_name": "LayoutView",
       "align_content": null,
       "align_items": null,
       "align_self": null,
       "border": null,
       "bottom": null,
       "display": null,
       "flex": null,
       "flex_flow": null,
       "grid_area": null,
       "grid_auto_columns": null,
       "grid_auto_flow": null,
       "grid_auto_rows": null,
       "grid_column": null,
       "grid_gap": null,
       "grid_row": null,
       "grid_template_areas": null,
       "grid_template_columns": null,
       "grid_template_rows": null,
       "height": null,
       "justify_content": null,
       "justify_items": null,
       "left": null,
       "margin": null,
       "max_height": null,
       "max_width": null,
       "min_height": null,
       "min_width": null,
       "object_fit": null,
       "object_position": null,
       "order": null,
       "overflow": null,
       "overflow_x": null,
       "overflow_y": null,
       "padding": null,
       "right": null,
       "top": null,
       "visibility": null,
       "width": null
      }
     },
     "11170733032549abbfb68d12a8f6bf1b": {
      "model_module": "@jupyter-widgets/controls",
      "model_module_version": "1.5.0",
      "model_name": "DescriptionStyleModel",
      "state": {
       "_model_module": "@jupyter-widgets/controls",
       "_model_module_version": "1.5.0",
       "_model_name": "DescriptionStyleModel",
       "_view_count": null,
       "_view_module": "@jupyter-widgets/base",
       "_view_module_version": "1.2.0",
       "_view_name": "StyleView",
       "description_width": ""
      }
     },
     "120667ff3e644ce8b44ffcb885204b07": {
      "model_module": "@jupyter-widgets/base",
      "model_module_version": "1.2.0",
      "model_name": "LayoutModel",
      "state": {
       "_model_module": "@jupyter-widgets/base",
       "_model_module_version": "1.2.0",
       "_model_name": "LayoutModel",
       "_view_count": null,
       "_view_module": "@jupyter-widgets/base",
       "_view_module_version": "1.2.0",
       "_view_name": "LayoutView",
       "align_content": null,
       "align_items": null,
       "align_self": null,
       "border": null,
       "bottom": null,
       "display": null,
       "flex": null,
       "flex_flow": null,
       "grid_area": null,
       "grid_auto_columns": null,
       "grid_auto_flow": null,
       "grid_auto_rows": null,
       "grid_column": null,
       "grid_gap": null,
       "grid_row": null,
       "grid_template_areas": null,
       "grid_template_columns": null,
       "grid_template_rows": null,
       "height": null,
       "justify_content": null,
       "justify_items": null,
       "left": null,
       "margin": null,
       "max_height": null,
       "max_width": null,
       "min_height": null,
       "min_width": null,
       "object_fit": null,
       "object_position": null,
       "order": null,
       "overflow": null,
       "overflow_x": null,
       "overflow_y": null,
       "padding": null,
       "right": null,
       "top": null,
       "visibility": null,
       "width": null
      }
     },
     "133a3d0fb2484b83b774365e6d9747e9": {
      "model_module": "@jupyter-widgets/controls",
      "model_module_version": "1.5.0",
      "model_name": "ProgressStyleModel",
      "state": {
       "_model_module": "@jupyter-widgets/controls",
       "_model_module_version": "1.5.0",
       "_model_name": "ProgressStyleModel",
       "_view_count": null,
       "_view_module": "@jupyter-widgets/base",
       "_view_module_version": "1.2.0",
       "_view_name": "StyleView",
       "bar_color": null,
       "description_width": ""
      }
     },
     "15dbbe08dcf24f0e81a0db9e9d5a08ef": {
      "model_module": "@jupyter-widgets/controls",
      "model_module_version": "1.5.0",
      "model_name": "HBoxModel",
      "state": {
       "_dom_classes": [],
       "_model_module": "@jupyter-widgets/controls",
       "_model_module_version": "1.5.0",
       "_model_name": "HBoxModel",
       "_view_count": null,
       "_view_module": "@jupyter-widgets/controls",
       "_view_module_version": "1.5.0",
       "_view_name": "HBoxView",
       "box_style": "",
       "children": [
        "IPY_MODEL_8953f2c23f364ba7bf9dd349f88f8b0f",
        "IPY_MODEL_2b274940cf5e44c4b21e6e0cf1e49a68",
        "IPY_MODEL_b7ecf5baff1f4a899a9c80d07ba110de"
       ],
       "layout": "IPY_MODEL_897f75bc09fc46d08fd900554f3c6a68"
      }
     },
     "16fb2b7af5654faa93d85bd5acc3abf3": {
      "model_module": "@jupyter-widgets/controls",
      "model_module_version": "1.5.0",
      "model_name": "DescriptionStyleModel",
      "state": {
       "_model_module": "@jupyter-widgets/controls",
       "_model_module_version": "1.5.0",
       "_model_name": "DescriptionStyleModel",
       "_view_count": null,
       "_view_module": "@jupyter-widgets/base",
       "_view_module_version": "1.2.0",
       "_view_name": "StyleView",
       "description_width": ""
      }
     },
     "18f565722b324e6a978dca7e68b9cff6": {
      "model_module": "@jupyter-widgets/controls",
      "model_module_version": "1.5.0",
      "model_name": "FloatProgressModel",
      "state": {
       "_dom_classes": [],
       "_model_module": "@jupyter-widgets/controls",
       "_model_module_version": "1.5.0",
       "_model_name": "FloatProgressModel",
       "_view_count": null,
       "_view_module": "@jupyter-widgets/controls",
       "_view_module_version": "1.5.0",
       "_view_name": "ProgressView",
       "bar_style": "success",
       "description": "",
       "description_tooltip": null,
       "layout": "IPY_MODEL_5f4af54d1321422b9d0d9e34212944f8",
       "max": 150,
       "min": 0,
       "orientation": "horizontal",
       "style": "IPY_MODEL_35aecab04c21450ea1b12790488aa651",
       "value": 150
      }
     },
     "1c7c62917a804822af0d1941be345d98": {
      "model_module": "@jupyter-widgets/controls",
      "model_module_version": "1.5.0",
      "model_name": "HTMLModel",
      "state": {
       "_dom_classes": [],
       "_model_module": "@jupyter-widgets/controls",
       "_model_module_version": "1.5.0",
       "_model_name": "HTMLModel",
       "_view_count": null,
       "_view_module": "@jupyter-widgets/controls",
       "_view_module_version": "1.5.0",
       "_view_name": "HTMLView",
       "description": "",
       "description_tooltip": null,
       "layout": "IPY_MODEL_4abb6ba838c247f084ce1dc948ff9325",
       "placeholder": "​",
       "style": "IPY_MODEL_ee5fc1334e1f46e5bcccbd440748624c",
       "value": " 747/747 [00:00&lt;00:00, 38.1kB/s]"
      }
     },
     "23b0e56a0178476fb1370c7f1a6638a5": {
      "model_module": "@jupyter-widgets/base",
      "model_module_version": "1.2.0",
      "model_name": "LayoutModel",
      "state": {
       "_model_module": "@jupyter-widgets/base",
       "_model_module_version": "1.2.0",
       "_model_name": "LayoutModel",
       "_view_count": null,
       "_view_module": "@jupyter-widgets/base",
       "_view_module_version": "1.2.0",
       "_view_name": "LayoutView",
       "align_content": null,
       "align_items": null,
       "align_self": null,
       "border": null,
       "bottom": null,
       "display": null,
       "flex": null,
       "flex_flow": null,
       "grid_area": null,
       "grid_auto_columns": null,
       "grid_auto_flow": null,
       "grid_auto_rows": null,
       "grid_column": null,
       "grid_gap": null,
       "grid_row": null,
       "grid_template_areas": null,
       "grid_template_columns": null,
       "grid_template_rows": null,
       "height": null,
       "justify_content": null,
       "justify_items": null,
       "left": null,
       "margin": null,
       "max_height": null,
       "max_width": null,
       "min_height": null,
       "min_width": null,
       "object_fit": null,
       "object_position": null,
       "order": null,
       "overflow": null,
       "overflow_x": null,
       "overflow_y": null,
       "padding": null,
       "right": null,
       "top": null,
       "visibility": null,
       "width": null
      }
     },
     "2950fcc212654aedbec57cb8036bb410": {
      "model_module": "@jupyter-widgets/controls",
      "model_module_version": "1.5.0",
      "model_name": "DescriptionStyleModel",
      "state": {
       "_model_module": "@jupyter-widgets/controls",
       "_model_module_version": "1.5.0",
       "_model_name": "DescriptionStyleModel",
       "_view_count": null,
       "_view_module": "@jupyter-widgets/base",
       "_view_module_version": "1.2.0",
       "_view_name": "StyleView",
       "description_width": ""
      }
     },
     "2b274940cf5e44c4b21e6e0cf1e49a68": {
      "model_module": "@jupyter-widgets/controls",
      "model_module_version": "1.5.0",
      "model_name": "FloatProgressModel",
      "state": {
       "_dom_classes": [],
       "_model_module": "@jupyter-widgets/controls",
       "_model_module_version": "1.5.0",
       "_model_name": "FloatProgressModel",
       "_view_count": null,
       "_view_module": "@jupyter-widgets/controls",
       "_view_module_version": "1.5.0",
       "_view_name": "ProgressView",
       "bar_style": "success",
       "description": "",
       "description_tooltip": null,
       "layout": "IPY_MODEL_5468b9a653a44327a6b262936a7825b3",
       "max": 498679497,
       "min": 0,
       "orientation": "horizontal",
       "style": "IPY_MODEL_ae63df524d244a3f8bb8b21c665b4cec",
       "value": 498679497
      }
     },
     "2b471a16730c41fcbb328df349771923": {
      "model_module": "@jupyter-widgets/controls",
      "model_module_version": "1.5.0",
      "model_name": "DescriptionStyleModel",
      "state": {
       "_model_module": "@jupyter-widgets/controls",
       "_model_module_version": "1.5.0",
       "_model_name": "DescriptionStyleModel",
       "_view_count": null,
       "_view_module": "@jupyter-widgets/base",
       "_view_module_version": "1.2.0",
       "_view_name": "StyleView",
       "description_width": ""
      }
     },
     "2e567acedb71457c94dc66fb6685b12b": {
      "model_module": "@jupyter-widgets/controls",
      "model_module_version": "1.5.0",
      "model_name": "HTMLModel",
      "state": {
       "_dom_classes": [],
       "_model_module": "@jupyter-widgets/controls",
       "_model_module_version": "1.5.0",
       "_model_name": "HTMLModel",
       "_view_count": null,
       "_view_module": "@jupyter-widgets/controls",
       "_view_module_version": "1.5.0",
       "_view_name": "HTMLView",
       "description": "",
       "description_tooltip": null,
       "layout": "IPY_MODEL_e585202618f04113ae17b6e11f632cb4",
       "placeholder": "​",
       "style": "IPY_MODEL_ea3cc8d22c3945fcb72ee7084a1380ee",
       "value": "Downloading (…)lve/main/config.json: 100%"
      }
     },
     "35aecab04c21450ea1b12790488aa651": {
      "model_module": "@jupyter-widgets/controls",
      "model_module_version": "1.5.0",
      "model_name": "ProgressStyleModel",
      "state": {
       "_model_module": "@jupyter-widgets/controls",
       "_model_module_version": "1.5.0",
       "_model_name": "ProgressStyleModel",
       "_view_count": null,
       "_view_module": "@jupyter-widgets/base",
       "_view_module_version": "1.2.0",
       "_view_name": "StyleView",
       "bar_color": null,
       "description_width": ""
      }
     },
     "3dfe162662d7411cb97029ceb9beedd5": {
      "model_module": "@jupyter-widgets/controls",
      "model_module_version": "1.5.0",
      "model_name": "HTMLModel",
      "state": {
       "_dom_classes": [],
       "_model_module": "@jupyter-widgets/controls",
       "_model_module_version": "1.5.0",
       "_model_name": "HTMLModel",
       "_view_count": null,
       "_view_module": "@jupyter-widgets/controls",
       "_view_module_version": "1.5.0",
       "_view_name": "HTMLView",
       "description": "",
       "description_tooltip": null,
       "layout": "IPY_MODEL_c45da7b61bed47db8c1a9727e2aa5c28",
       "placeholder": "​",
       "style": "IPY_MODEL_480e89d0ff3045a89473c9cf35ec34fb",
       "value": " 2/2 [00:00&lt;00:00, 14.92ba/s]"
      }
     },
     "3f66b6f64e5c44faa22a520eeddf114f": {
      "model_module": "@jupyter-widgets/controls",
      "model_module_version": "1.5.0",
      "model_name": "HTMLModel",
      "state": {
       "_dom_classes": [],
       "_model_module": "@jupyter-widgets/controls",
       "_model_module_version": "1.5.0",
       "_model_name": "HTMLModel",
       "_view_count": null,
       "_view_module": "@jupyter-widgets/controls",
       "_view_module_version": "1.5.0",
       "_view_name": "HTMLView",
       "description": "",
       "description_tooltip": null,
       "layout": "IPY_MODEL_842fa19af8b648c595cba8f5fec85778",
       "placeholder": "​",
       "style": "IPY_MODEL_b5f2fc9bed824ad2b05299852d953115",
       "value": " 150/150 [00:00&lt;00:00, 10.9kB/s]"
      }
     },
     "44d8a86e8fb644c196c22edd28ca43d2": {
      "model_module": "@jupyter-widgets/controls",
      "model_module_version": "1.5.0",
      "model_name": "DescriptionStyleModel",
      "state": {
       "_model_module": "@jupyter-widgets/controls",
       "_model_module_version": "1.5.0",
       "_model_name": "DescriptionStyleModel",
       "_view_count": null,
       "_view_module": "@jupyter-widgets/base",
       "_view_module_version": "1.2.0",
       "_view_name": "StyleView",
       "description_width": ""
      }
     },
     "466c2a3fa492427abdf3ed0c38dcdc94": {
      "model_module": "@jupyter-widgets/base",
      "model_module_version": "1.2.0",
      "model_name": "LayoutModel",
      "state": {
       "_model_module": "@jupyter-widgets/base",
       "_model_module_version": "1.2.0",
       "_model_name": "LayoutModel",
       "_view_count": null,
       "_view_module": "@jupyter-widgets/base",
       "_view_module_version": "1.2.0",
       "_view_name": "LayoutView",
       "align_content": null,
       "align_items": null,
       "align_self": null,
       "border": null,
       "bottom": null,
       "display": null,
       "flex": null,
       "flex_flow": null,
       "grid_area": null,
       "grid_auto_columns": null,
       "grid_auto_flow": null,
       "grid_auto_rows": null,
       "grid_column": null,
       "grid_gap": null,
       "grid_row": null,
       "grid_template_areas": null,
       "grid_template_columns": null,
       "grid_template_rows": null,
       "height": null,
       "justify_content": null,
       "justify_items": null,
       "left": null,
       "margin": null,
       "max_height": null,
       "max_width": null,
       "min_height": null,
       "min_width": null,
       "object_fit": null,
       "object_position": null,
       "order": null,
       "overflow": null,
       "overflow_x": null,
       "overflow_y": null,
       "padding": null,
       "right": null,
       "top": null,
       "visibility": null,
       "width": null
      }
     },
     "480e89d0ff3045a89473c9cf35ec34fb": {
      "model_module": "@jupyter-widgets/controls",
      "model_module_version": "1.5.0",
      "model_name": "DescriptionStyleModel",
      "state": {
       "_model_module": "@jupyter-widgets/controls",
       "_model_module_version": "1.5.0",
       "_model_name": "DescriptionStyleModel",
       "_view_count": null,
       "_view_module": "@jupyter-widgets/base",
       "_view_module_version": "1.2.0",
       "_view_name": "StyleView",
       "description_width": ""
      }
     },
     "4abb6ba838c247f084ce1dc948ff9325": {
      "model_module": "@jupyter-widgets/base",
      "model_module_version": "1.2.0",
      "model_name": "LayoutModel",
      "state": {
       "_model_module": "@jupyter-widgets/base",
       "_model_module_version": "1.2.0",
       "_model_name": "LayoutModel",
       "_view_count": null,
       "_view_module": "@jupyter-widgets/base",
       "_view_module_version": "1.2.0",
       "_view_name": "LayoutView",
       "align_content": null,
       "align_items": null,
       "align_self": null,
       "border": null,
       "bottom": null,
       "display": null,
       "flex": null,
       "flex_flow": null,
       "grid_area": null,
       "grid_auto_columns": null,
       "grid_auto_flow": null,
       "grid_auto_rows": null,
       "grid_column": null,
       "grid_gap": null,
       "grid_row": null,
       "grid_template_areas": null,
       "grid_template_columns": null,
       "grid_template_rows": null,
       "height": null,
       "justify_content": null,
       "justify_items": null,
       "left": null,
       "margin": null,
       "max_height": null,
       "max_width": null,
       "min_height": null,
       "min_width": null,
       "object_fit": null,
       "object_position": null,
       "order": null,
       "overflow": null,
       "overflow_x": null,
       "overflow_y": null,
       "padding": null,
       "right": null,
       "top": null,
       "visibility": null,
       "width": null
      }
     },
     "4facc6f36da54907a0f51e5c8e48926b": {
      "model_module": "@jupyter-widgets/controls",
      "model_module_version": "1.5.0",
      "model_name": "FloatProgressModel",
      "state": {
       "_dom_classes": [],
       "_model_module": "@jupyter-widgets/controls",
       "_model_module_version": "1.5.0",
       "_model_name": "FloatProgressModel",
       "_view_count": null,
       "_view_module": "@jupyter-widgets/controls",
       "_view_module_version": "1.5.0",
       "_view_name": "ProgressView",
       "bar_style": "success",
       "description": "",
       "description_tooltip": null,
       "layout": "IPY_MODEL_863923a5670c434a80c1412e44cf98fd",
       "max": 456318,
       "min": 0,
       "orientation": "horizontal",
       "style": "IPY_MODEL_fa52db8b5f0948b88687259281b702f3",
       "value": 456318
      }
     },
     "51b34a37728c4cc88e016c7a20f178b6": {
      "model_module": "@jupyter-widgets/base",
      "model_module_version": "1.2.0",
      "model_name": "LayoutModel",
      "state": {
       "_model_module": "@jupyter-widgets/base",
       "_model_module_version": "1.2.0",
       "_model_name": "LayoutModel",
       "_view_count": null,
       "_view_module": "@jupyter-widgets/base",
       "_view_module_version": "1.2.0",
       "_view_name": "LayoutView",
       "align_content": null,
       "align_items": null,
       "align_self": null,
       "border": null,
       "bottom": null,
       "display": null,
       "flex": null,
       "flex_flow": null,
       "grid_area": null,
       "grid_auto_columns": null,
       "grid_auto_flow": null,
       "grid_auto_rows": null,
       "grid_column": null,
       "grid_gap": null,
       "grid_row": null,
       "grid_template_areas": null,
       "grid_template_columns": null,
       "grid_template_rows": null,
       "height": null,
       "justify_content": null,
       "justify_items": null,
       "left": null,
       "margin": null,
       "max_height": null,
       "max_width": null,
       "min_height": null,
       "min_width": null,
       "object_fit": null,
       "object_position": null,
       "order": null,
       "overflow": null,
       "overflow_x": null,
       "overflow_y": null,
       "padding": null,
       "right": null,
       "top": null,
       "visibility": null,
       "width": null
      }
     },
     "5468b9a653a44327a6b262936a7825b3": {
      "model_module": "@jupyter-widgets/base",
      "model_module_version": "1.2.0",
      "model_name": "LayoutModel",
      "state": {
       "_model_module": "@jupyter-widgets/base",
       "_model_module_version": "1.2.0",
       "_model_name": "LayoutModel",
       "_view_count": null,
       "_view_module": "@jupyter-widgets/base",
       "_view_module_version": "1.2.0",
       "_view_name": "LayoutView",
       "align_content": null,
       "align_items": null,
       "align_self": null,
       "border": null,
       "bottom": null,
       "display": null,
       "flex": null,
       "flex_flow": null,
       "grid_area": null,
       "grid_auto_columns": null,
       "grid_auto_flow": null,
       "grid_auto_rows": null,
       "grid_column": null,
       "grid_gap": null,
       "grid_row": null,
       "grid_template_areas": null,
       "grid_template_columns": null,
       "grid_template_rows": null,
       "height": null,
       "justify_content": null,
       "justify_items": null,
       "left": null,
       "margin": null,
       "max_height": null,
       "max_width": null,
       "min_height": null,
       "min_width": null,
       "object_fit": null,
       "object_position": null,
       "order": null,
       "overflow": null,
       "overflow_x": null,
       "overflow_y": null,
       "padding": null,
       "right": null,
       "top": null,
       "visibility": null,
       "width": null
      }
     },
     "5a5e8a51f89746519e6de7e6a8f779d3": {
      "model_module": "@jupyter-widgets/controls",
      "model_module_version": "1.5.0",
      "model_name": "FloatProgressModel",
      "state": {
       "_dom_classes": [],
       "_model_module": "@jupyter-widgets/controls",
       "_model_module_version": "1.5.0",
       "_model_name": "FloatProgressModel",
       "_view_count": null,
       "_view_module": "@jupyter-widgets/controls",
       "_view_module_version": "1.5.0",
       "_view_name": "ProgressView",
       "bar_style": "success",
       "description": "",
       "description_tooltip": null,
       "layout": "IPY_MODEL_d54ed3480fd543f6bf64e59ec898b2be",
       "max": 747,
       "min": 0,
       "orientation": "horizontal",
       "style": "IPY_MODEL_133a3d0fb2484b83b774365e6d9747e9",
       "value": 747
      }
     },
     "5f4af54d1321422b9d0d9e34212944f8": {
      "model_module": "@jupyter-widgets/base",
      "model_module_version": "1.2.0",
      "model_name": "LayoutModel",
      "state": {
       "_model_module": "@jupyter-widgets/base",
       "_model_module_version": "1.2.0",
       "_model_name": "LayoutModel",
       "_view_count": null,
       "_view_module": "@jupyter-widgets/base",
       "_view_module_version": "1.2.0",
       "_view_name": "LayoutView",
       "align_content": null,
       "align_items": null,
       "align_self": null,
       "border": null,
       "bottom": null,
       "display": null,
       "flex": null,
       "flex_flow": null,
       "grid_area": null,
       "grid_auto_columns": null,
       "grid_auto_flow": null,
       "grid_auto_rows": null,
       "grid_column": null,
       "grid_gap": null,
       "grid_row": null,
       "grid_template_areas": null,
       "grid_template_columns": null,
       "grid_template_rows": null,
       "height": null,
       "justify_content": null,
       "justify_items": null,
       "left": null,
       "margin": null,
       "max_height": null,
       "max_width": null,
       "min_height": null,
       "min_width": null,
       "object_fit": null,
       "object_position": null,
       "order": null,
       "overflow": null,
       "overflow_x": null,
       "overflow_y": null,
       "padding": null,
       "right": null,
       "top": null,
       "visibility": null,
       "width": null
      }
     },
     "60fad6f22dde4661a001768332b6e0dc": {
      "model_module": "@jupyter-widgets/controls",
      "model_module_version": "1.5.0",
      "model_name": "HTMLModel",
      "state": {
       "_dom_classes": [],
       "_model_module": "@jupyter-widgets/controls",
       "_model_module_version": "1.5.0",
       "_model_name": "HTMLModel",
       "_view_count": null,
       "_view_module": "@jupyter-widgets/controls",
       "_view_module_version": "1.5.0",
       "_view_name": "HTMLView",
       "description": "",
       "description_tooltip": null,
       "layout": "IPY_MODEL_94f4b976e7cc449a8bcd6e7f197c1731",
       "placeholder": "​",
       "style": "IPY_MODEL_11170733032549abbfb68d12a8f6bf1b",
       "value": " 7/7 [00:00&lt;00:00, 12.28ba/s]"
      }
     },
     "6479c9b75575488fa998f509c3f3a26c": {
      "model_module": "@jupyter-widgets/base",
      "model_module_version": "1.2.0",
      "model_name": "LayoutModel",
      "state": {
       "_model_module": "@jupyter-widgets/base",
       "_model_module_version": "1.2.0",
       "_model_name": "LayoutModel",
       "_view_count": null,
       "_view_module": "@jupyter-widgets/base",
       "_view_module_version": "1.2.0",
       "_view_name": "LayoutView",
       "align_content": null,
       "align_items": null,
       "align_self": null,
       "border": null,
       "bottom": null,
       "display": null,
       "flex": null,
       "flex_flow": null,
       "grid_area": null,
       "grid_auto_columns": null,
       "grid_auto_flow": null,
       "grid_auto_rows": null,
       "grid_column": null,
       "grid_gap": null,
       "grid_row": null,
       "grid_template_areas": null,
       "grid_template_columns": null,
       "grid_template_rows": null,
       "height": null,
       "justify_content": null,
       "justify_items": null,
       "left": null,
       "margin": null,
       "max_height": null,
       "max_width": null,
       "min_height": null,
       "min_width": null,
       "object_fit": null,
       "object_position": null,
       "order": null,
       "overflow": null,
       "overflow_x": null,
       "overflow_y": null,
       "padding": null,
       "right": null,
       "top": null,
       "visibility": null,
       "width": null
      }
     },
     "684285d955af47e9a1d4d32170b3d208": {
      "model_module": "@jupyter-widgets/controls",
      "model_module_version": "1.5.0",
      "model_name": "HTMLModel",
      "state": {
       "_dom_classes": [],
       "_model_module": "@jupyter-widgets/controls",
       "_model_module_version": "1.5.0",
       "_model_name": "HTMLModel",
       "_view_count": null,
       "_view_module": "@jupyter-widgets/controls",
       "_view_module_version": "1.5.0",
       "_view_name": "HTMLView",
       "description": "",
       "description_tooltip": null,
       "layout": "IPY_MODEL_6e6eba87c6b24531ba34c2fe5066ecc7",
       "placeholder": "​",
       "style": "IPY_MODEL_2950fcc212654aedbec57cb8036bb410",
       "value": " 456k/456k [00:00&lt;00:00, 1.89MB/s]"
      }
     },
     "6e6eba87c6b24531ba34c2fe5066ecc7": {
      "model_module": "@jupyter-widgets/base",
      "model_module_version": "1.2.0",
      "model_name": "LayoutModel",
      "state": {
       "_model_module": "@jupyter-widgets/base",
       "_model_module_version": "1.2.0",
       "_model_name": "LayoutModel",
       "_view_count": null,
       "_view_module": "@jupyter-widgets/base",
       "_view_module_version": "1.2.0",
       "_view_name": "LayoutView",
       "align_content": null,
       "align_items": null,
       "align_self": null,
       "border": null,
       "bottom": null,
       "display": null,
       "flex": null,
       "flex_flow": null,
       "grid_area": null,
       "grid_auto_columns": null,
       "grid_auto_flow": null,
       "grid_auto_rows": null,
       "grid_column": null,
       "grid_gap": null,
       "grid_row": null,
       "grid_template_areas": null,
       "grid_template_columns": null,
       "grid_template_rows": null,
       "height": null,
       "justify_content": null,
       "justify_items": null,
       "left": null,
       "margin": null,
       "max_height": null,
       "max_width": null,
       "min_height": null,
       "min_width": null,
       "object_fit": null,
       "object_position": null,
       "order": null,
       "overflow": null,
       "overflow_x": null,
       "overflow_y": null,
       "padding": null,
       "right": null,
       "top": null,
       "visibility": null,
       "width": null
      }
     },
     "7a6a2eff1ba54b8fb7cdc22536738aee": {
      "model_module": "@jupyter-widgets/controls",
      "model_module_version": "1.5.0",
      "model_name": "FloatProgressModel",
      "state": {
       "_dom_classes": [],
       "_model_module": "@jupyter-widgets/controls",
       "_model_module_version": "1.5.0",
       "_model_name": "FloatProgressModel",
       "_view_count": null,
       "_view_module": "@jupyter-widgets/controls",
       "_view_module_version": "1.5.0",
       "_view_name": "ProgressView",
       "bar_style": "success",
       "description": "",
       "description_tooltip": null,
       "layout": "IPY_MODEL_aa2e045435af4baeb853782fa29ba004",
       "max": 898822,
       "min": 0,
       "orientation": "horizontal",
       "style": "IPY_MODEL_fd1bb9f67d7c40f490848101c84e8482",
       "value": 898822
      }
     },
     "7de287d6503b43c6b98bf2c484b230ff": {
      "model_module": "@jupyter-widgets/controls",
      "model_module_version": "1.5.0",
      "model_name": "DescriptionStyleModel",
      "state": {
       "_model_module": "@jupyter-widgets/controls",
       "_model_module_version": "1.5.0",
       "_model_name": "DescriptionStyleModel",
       "_view_count": null,
       "_view_module": "@jupyter-widgets/base",
       "_view_module_version": "1.2.0",
       "_view_name": "StyleView",
       "description_width": ""
      }
     },
     "8250f6cfb3fe4fcbb94fe96bb927e954": {
      "model_module": "@jupyter-widgets/controls",
      "model_module_version": "1.5.0",
      "model_name": "FloatProgressModel",
      "state": {
       "_dom_classes": [],
       "_model_module": "@jupyter-widgets/controls",
       "_model_module_version": "1.5.0",
       "_model_name": "FloatProgressModel",
       "_view_count": null,
       "_view_module": "@jupyter-widgets/controls",
       "_view_module_version": "1.5.0",
       "_view_name": "ProgressView",
       "bar_style": "success",
       "description": "",
       "description_tooltip": null,
       "layout": "IPY_MODEL_23b0e56a0178476fb1370c7f1a6638a5",
       "max": 2,
       "min": 0,
       "orientation": "horizontal",
       "style": "IPY_MODEL_c6ac315309b74ad1b792c45527e0dc61",
       "value": 2
      }
     },
     "839e9ced3cf944e1ad18dd7f7f873e30": {
      "model_module": "@jupyter-widgets/base",
      "model_module_version": "1.2.0",
      "model_name": "LayoutModel",
      "state": {
       "_model_module": "@jupyter-widgets/base",
       "_model_module_version": "1.2.0",
       "_model_name": "LayoutModel",
       "_view_count": null,
       "_view_module": "@jupyter-widgets/base",
       "_view_module_version": "1.2.0",
       "_view_name": "LayoutView",
       "align_content": null,
       "align_items": null,
       "align_self": null,
       "border": null,
       "bottom": null,
       "display": null,
       "flex": null,
       "flex_flow": null,
       "grid_area": null,
       "grid_auto_columns": null,
       "grid_auto_flow": null,
       "grid_auto_rows": null,
       "grid_column": null,
       "grid_gap": null,
       "grid_row": null,
       "grid_template_areas": null,
       "grid_template_columns": null,
       "grid_template_rows": null,
       "height": null,
       "justify_content": null,
       "justify_items": null,
       "left": null,
       "margin": null,
       "max_height": null,
       "max_width": null,
       "min_height": null,
       "min_width": null,
       "object_fit": null,
       "object_position": null,
       "order": null,
       "overflow": null,
       "overflow_x": null,
       "overflow_y": null,
       "padding": null,
       "right": null,
       "top": null,
       "visibility": null,
       "width": null
      }
     },
     "83d6a151774f4b89a4f2d0e14cca90c6": {
      "model_module": "@jupyter-widgets/controls",
      "model_module_version": "1.5.0",
      "model_name": "HBoxModel",
      "state": {
       "_dom_classes": [],
       "_model_module": "@jupyter-widgets/controls",
       "_model_module_version": "1.5.0",
       "_model_name": "HBoxModel",
       "_view_count": null,
       "_view_module": "@jupyter-widgets/controls",
       "_view_module_version": "1.5.0",
       "_view_name": "HBoxView",
       "box_style": "",
       "children": [
        "IPY_MODEL_001259d34e3c46b3ac2f384d715b1ee9",
        "IPY_MODEL_8ff1fd70166241e3af129bfbcc52c759",
        "IPY_MODEL_60fad6f22dde4661a001768332b6e0dc"
       ],
       "layout": "IPY_MODEL_e756649a57e64d0ea3846bc1dd218f00"
      }
     },
     "8425acec2faf478d9b41f0cd055e0f5b": {
      "model_module": "@jupyter-widgets/controls",
      "model_module_version": "1.5.0",
      "model_name": "HBoxModel",
      "state": {
       "_dom_classes": [],
       "_model_module": "@jupyter-widgets/controls",
       "_model_module_version": "1.5.0",
       "_model_name": "HBoxModel",
       "_view_count": null,
       "_view_module": "@jupyter-widgets/controls",
       "_view_module_version": "1.5.0",
       "_view_name": "HBoxView",
       "box_style": "",
       "children": [
        "IPY_MODEL_cffdfe42c661465b964b0b100ae146e0",
        "IPY_MODEL_7a6a2eff1ba54b8fb7cdc22536738aee",
        "IPY_MODEL_058accd76d2c432aa39aec0c20d86f5c"
       ],
       "layout": "IPY_MODEL_839e9ced3cf944e1ad18dd7f7f873e30"
      }
     },
     "842fa19af8b648c595cba8f5fec85778": {
      "model_module": "@jupyter-widgets/base",
      "model_module_version": "1.2.0",
      "model_name": "LayoutModel",
      "state": {
       "_model_module": "@jupyter-widgets/base",
       "_model_module_version": "1.2.0",
       "_model_name": "LayoutModel",
       "_view_count": null,
       "_view_module": "@jupyter-widgets/base",
       "_view_module_version": "1.2.0",
       "_view_name": "LayoutView",
       "align_content": null,
       "align_items": null,
       "align_self": null,
       "border": null,
       "bottom": null,
       "display": null,
       "flex": null,
       "flex_flow": null,
       "grid_area": null,
       "grid_auto_columns": null,
       "grid_auto_flow": null,
       "grid_auto_rows": null,
       "grid_column": null,
       "grid_gap": null,
       "grid_row": null,
       "grid_template_areas": null,
       "grid_template_columns": null,
       "grid_template_rows": null,
       "height": null,
       "justify_content": null,
       "justify_items": null,
       "left": null,
       "margin": null,
       "max_height": null,
       "max_width": null,
       "min_height": null,
       "min_width": null,
       "object_fit": null,
       "object_position": null,
       "order": null,
       "overflow": null,
       "overflow_x": null,
       "overflow_y": null,
       "padding": null,
       "right": null,
       "top": null,
       "visibility": null,
       "width": null
      }
     },
     "863923a5670c434a80c1412e44cf98fd": {
      "model_module": "@jupyter-widgets/base",
      "model_module_version": "1.2.0",
      "model_name": "LayoutModel",
      "state": {
       "_model_module": "@jupyter-widgets/base",
       "_model_module_version": "1.2.0",
       "_model_name": "LayoutModel",
       "_view_count": null,
       "_view_module": "@jupyter-widgets/base",
       "_view_module_version": "1.2.0",
       "_view_name": "LayoutView",
       "align_content": null,
       "align_items": null,
       "align_self": null,
       "border": null,
       "bottom": null,
       "display": null,
       "flex": null,
       "flex_flow": null,
       "grid_area": null,
       "grid_auto_columns": null,
       "grid_auto_flow": null,
       "grid_auto_rows": null,
       "grid_column": null,
       "grid_gap": null,
       "grid_row": null,
       "grid_template_areas": null,
       "grid_template_columns": null,
       "grid_template_rows": null,
       "height": null,
       "justify_content": null,
       "justify_items": null,
       "left": null,
       "margin": null,
       "max_height": null,
       "max_width": null,
       "min_height": null,
       "min_width": null,
       "object_fit": null,
       "object_position": null,
       "order": null,
       "overflow": null,
       "overflow_x": null,
       "overflow_y": null,
       "padding": null,
       "right": null,
       "top": null,
       "visibility": null,
       "width": null
      }
     },
     "8953f2c23f364ba7bf9dd349f88f8b0f": {
      "model_module": "@jupyter-widgets/controls",
      "model_module_version": "1.5.0",
      "model_name": "HTMLModel",
      "state": {
       "_dom_classes": [],
       "_model_module": "@jupyter-widgets/controls",
       "_model_module_version": "1.5.0",
       "_model_name": "HTMLModel",
       "_view_count": null,
       "_view_module": "@jupyter-widgets/controls",
       "_view_module_version": "1.5.0",
       "_view_name": "HTMLView",
       "description": "",
       "description_tooltip": null,
       "layout": "IPY_MODEL_0f5e8c7fd78e4dda97a1b9366113ed81",
       "placeholder": "​",
       "style": "IPY_MODEL_d7e7d729cffb4b38b30457093dfc0d1c",
       "value": "Downloading pytorch_model.bin: 100%"
      }
     },
     "897f75bc09fc46d08fd900554f3c6a68": {
      "model_module": "@jupyter-widgets/base",
      "model_module_version": "1.2.0",
      "model_name": "LayoutModel",
      "state": {
       "_model_module": "@jupyter-widgets/base",
       "_model_module_version": "1.2.0",
       "_model_name": "LayoutModel",
       "_view_count": null,
       "_view_module": "@jupyter-widgets/base",
       "_view_module_version": "1.2.0",
       "_view_name": "LayoutView",
       "align_content": null,
       "align_items": null,
       "align_self": null,
       "border": null,
       "bottom": null,
       "display": null,
       "flex": null,
       "flex_flow": null,
       "grid_area": null,
       "grid_auto_columns": null,
       "grid_auto_flow": null,
       "grid_auto_rows": null,
       "grid_column": null,
       "grid_gap": null,
       "grid_row": null,
       "grid_template_areas": null,
       "grid_template_columns": null,
       "grid_template_rows": null,
       "height": null,
       "justify_content": null,
       "justify_items": null,
       "left": null,
       "margin": null,
       "max_height": null,
       "max_width": null,
       "min_height": null,
       "min_width": null,
       "object_fit": null,
       "object_position": null,
       "order": null,
       "overflow": null,
       "overflow_x": null,
       "overflow_y": null,
       "padding": null,
       "right": null,
       "top": null,
       "visibility": null,
       "width": null
      }
     },
     "8ff1fd70166241e3af129bfbcc52c759": {
      "model_module": "@jupyter-widgets/controls",
      "model_module_version": "1.5.0",
      "model_name": "FloatProgressModel",
      "state": {
       "_dom_classes": [],
       "_model_module": "@jupyter-widgets/controls",
       "_model_module_version": "1.5.0",
       "_model_name": "FloatProgressModel",
       "_view_count": null,
       "_view_module": "@jupyter-widgets/controls",
       "_view_module_version": "1.5.0",
       "_view_name": "ProgressView",
       "bar_style": "success",
       "description": "",
       "description_tooltip": null,
       "layout": "IPY_MODEL_466c2a3fa492427abdf3ed0c38dcdc94",
       "max": 7,
       "min": 0,
       "orientation": "horizontal",
       "style": "IPY_MODEL_b5ec18e25ef640fabe4135e5645bb96c",
       "value": 7
      }
     },
     "94f4b976e7cc449a8bcd6e7f197c1731": {
      "model_module": "@jupyter-widgets/base",
      "model_module_version": "1.2.0",
      "model_name": "LayoutModel",
      "state": {
       "_model_module": "@jupyter-widgets/base",
       "_model_module_version": "1.2.0",
       "_model_name": "LayoutModel",
       "_view_count": null,
       "_view_module": "@jupyter-widgets/base",
       "_view_module_version": "1.2.0",
       "_view_name": "LayoutView",
       "align_content": null,
       "align_items": null,
       "align_self": null,
       "border": null,
       "bottom": null,
       "display": null,
       "flex": null,
       "flex_flow": null,
       "grid_area": null,
       "grid_auto_columns": null,
       "grid_auto_flow": null,
       "grid_auto_rows": null,
       "grid_column": null,
       "grid_gap": null,
       "grid_row": null,
       "grid_template_areas": null,
       "grid_template_columns": null,
       "grid_template_rows": null,
       "height": null,
       "justify_content": null,
       "justify_items": null,
       "left": null,
       "margin": null,
       "max_height": null,
       "max_width": null,
       "min_height": null,
       "min_width": null,
       "object_fit": null,
       "object_position": null,
       "order": null,
       "overflow": null,
       "overflow_x": null,
       "overflow_y": null,
       "padding": null,
       "right": null,
       "top": null,
       "visibility": null,
       "width": null
      }
     },
     "97f794d0814a4b779f13f67157faa9c9": {
      "model_module": "@jupyter-widgets/controls",
      "model_module_version": "1.5.0",
      "model_name": "DescriptionStyleModel",
      "state": {
       "_model_module": "@jupyter-widgets/controls",
       "_model_module_version": "1.5.0",
       "_model_name": "DescriptionStyleModel",
       "_view_count": null,
       "_view_module": "@jupyter-widgets/base",
       "_view_module_version": "1.2.0",
       "_view_name": "StyleView",
       "description_width": ""
      }
     },
     "a29a829e08554dafa05d7a8e05dc8942": {
      "model_module": "@jupyter-widgets/controls",
      "model_module_version": "1.5.0",
      "model_name": "DescriptionStyleModel",
      "state": {
       "_model_module": "@jupyter-widgets/controls",
       "_model_module_version": "1.5.0",
       "_model_name": "DescriptionStyleModel",
       "_view_count": null,
       "_view_module": "@jupyter-widgets/base",
       "_view_module_version": "1.2.0",
       "_view_name": "StyleView",
       "description_width": ""
      }
     },
     "a3208b51652544e19aff0463870693d9": {
      "model_module": "@jupyter-widgets/base",
      "model_module_version": "1.2.0",
      "model_name": "LayoutModel",
      "state": {
       "_model_module": "@jupyter-widgets/base",
       "_model_module_version": "1.2.0",
       "_model_name": "LayoutModel",
       "_view_count": null,
       "_view_module": "@jupyter-widgets/base",
       "_view_module_version": "1.2.0",
       "_view_name": "LayoutView",
       "align_content": null,
       "align_items": null,
       "align_self": null,
       "border": null,
       "bottom": null,
       "display": null,
       "flex": null,
       "flex_flow": null,
       "grid_area": null,
       "grid_auto_columns": null,
       "grid_auto_flow": null,
       "grid_auto_rows": null,
       "grid_column": null,
       "grid_gap": null,
       "grid_row": null,
       "grid_template_areas": null,
       "grid_template_columns": null,
       "grid_template_rows": null,
       "height": null,
       "justify_content": null,
       "justify_items": null,
       "left": null,
       "margin": null,
       "max_height": null,
       "max_width": null,
       "min_height": null,
       "min_width": null,
       "object_fit": null,
       "object_position": null,
       "order": null,
       "overflow": null,
       "overflow_x": null,
       "overflow_y": null,
       "padding": null,
       "right": null,
       "top": null,
       "visibility": null,
       "width": null
      }
     },
     "aa2e045435af4baeb853782fa29ba004": {
      "model_module": "@jupyter-widgets/base",
      "model_module_version": "1.2.0",
      "model_name": "LayoutModel",
      "state": {
       "_model_module": "@jupyter-widgets/base",
       "_model_module_version": "1.2.0",
       "_model_name": "LayoutModel",
       "_view_count": null,
       "_view_module": "@jupyter-widgets/base",
       "_view_module_version": "1.2.0",
       "_view_name": "LayoutView",
       "align_content": null,
       "align_items": null,
       "align_self": null,
       "border": null,
       "bottom": null,
       "display": null,
       "flex": null,
       "flex_flow": null,
       "grid_area": null,
       "grid_auto_columns": null,
       "grid_auto_flow": null,
       "grid_auto_rows": null,
       "grid_column": null,
       "grid_gap": null,
       "grid_row": null,
       "grid_template_areas": null,
       "grid_template_columns": null,
       "grid_template_rows": null,
       "height": null,
       "justify_content": null,
       "justify_items": null,
       "left": null,
       "margin": null,
       "max_height": null,
       "max_width": null,
       "min_height": null,
       "min_width": null,
       "object_fit": null,
       "object_position": null,
       "order": null,
       "overflow": null,
       "overflow_x": null,
       "overflow_y": null,
       "padding": null,
       "right": null,
       "top": null,
       "visibility": null,
       "width": null
      }
     },
     "ae63df524d244a3f8bb8b21c665b4cec": {
      "model_module": "@jupyter-widgets/controls",
      "model_module_version": "1.5.0",
      "model_name": "ProgressStyleModel",
      "state": {
       "_model_module": "@jupyter-widgets/controls",
       "_model_module_version": "1.5.0",
       "_model_name": "ProgressStyleModel",
       "_view_count": null,
       "_view_module": "@jupyter-widgets/base",
       "_view_module_version": "1.2.0",
       "_view_name": "StyleView",
       "bar_color": null,
       "description_width": ""
      }
     },
     "b06de9c437c74e19a0aac6fdfd4269ce": {
      "model_module": "@jupyter-widgets/controls",
      "model_module_version": "1.5.0",
      "model_name": "HBoxModel",
      "state": {
       "_dom_classes": [],
       "_model_module": "@jupyter-widgets/controls",
       "_model_module_version": "1.5.0",
       "_model_name": "HBoxModel",
       "_view_count": null,
       "_view_module": "@jupyter-widgets/controls",
       "_view_module_version": "1.5.0",
       "_view_name": "HBoxView",
       "box_style": "",
       "children": [
        "IPY_MODEL_e8355ef6c5564167a70e92b068988d64",
        "IPY_MODEL_8250f6cfb3fe4fcbb94fe96bb927e954",
        "IPY_MODEL_3dfe162662d7411cb97029ceb9beedd5"
       ],
       "layout": "IPY_MODEL_51b34a37728c4cc88e016c7a20f178b6"
      }
     },
     "b2a8a11bdf904c2f9e9a958177d85d77": {
      "model_module": "@jupyter-widgets/base",
      "model_module_version": "1.2.0",
      "model_name": "LayoutModel",
      "state": {
       "_model_module": "@jupyter-widgets/base",
       "_model_module_version": "1.2.0",
       "_model_name": "LayoutModel",
       "_view_count": null,
       "_view_module": "@jupyter-widgets/base",
       "_view_module_version": "1.2.0",
       "_view_name": "LayoutView",
       "align_content": null,
       "align_items": null,
       "align_self": null,
       "border": null,
       "bottom": null,
       "display": null,
       "flex": null,
       "flex_flow": null,
       "grid_area": null,
       "grid_auto_columns": null,
       "grid_auto_flow": null,
       "grid_auto_rows": null,
       "grid_column": null,
       "grid_gap": null,
       "grid_row": null,
       "grid_template_areas": null,
       "grid_template_columns": null,
       "grid_template_rows": null,
       "height": null,
       "justify_content": null,
       "justify_items": null,
       "left": null,
       "margin": null,
       "max_height": null,
       "max_width": null,
       "min_height": null,
       "min_width": null,
       "object_fit": null,
       "object_position": null,
       "order": null,
       "overflow": null,
       "overflow_x": null,
       "overflow_y": null,
       "padding": null,
       "right": null,
       "top": null,
       "visibility": null,
       "width": null
      }
     },
     "b49c6500c48d4f2cbe5dc2b96e23eb4a": {
      "model_module": "@jupyter-widgets/base",
      "model_module_version": "1.2.0",
      "model_name": "LayoutModel",
      "state": {
       "_model_module": "@jupyter-widgets/base",
       "_model_module_version": "1.2.0",
       "_model_name": "LayoutModel",
       "_view_count": null,
       "_view_module": "@jupyter-widgets/base",
       "_view_module_version": "1.2.0",
       "_view_name": "LayoutView",
       "align_content": null,
       "align_items": null,
       "align_self": null,
       "border": null,
       "bottom": null,
       "display": null,
       "flex": null,
       "flex_flow": null,
       "grid_area": null,
       "grid_auto_columns": null,
       "grid_auto_flow": null,
       "grid_auto_rows": null,
       "grid_column": null,
       "grid_gap": null,
       "grid_row": null,
       "grid_template_areas": null,
       "grid_template_columns": null,
       "grid_template_rows": null,
       "height": null,
       "justify_content": null,
       "justify_items": null,
       "left": null,
       "margin": null,
       "max_height": null,
       "max_width": null,
       "min_height": null,
       "min_width": null,
       "object_fit": null,
       "object_position": null,
       "order": null,
       "overflow": null,
       "overflow_x": null,
       "overflow_y": null,
       "padding": null,
       "right": null,
       "top": null,
       "visibility": null,
       "width": null
      }
     },
     "b5ec18e25ef640fabe4135e5645bb96c": {
      "model_module": "@jupyter-widgets/controls",
      "model_module_version": "1.5.0",
      "model_name": "ProgressStyleModel",
      "state": {
       "_model_module": "@jupyter-widgets/controls",
       "_model_module_version": "1.5.0",
       "_model_name": "ProgressStyleModel",
       "_view_count": null,
       "_view_module": "@jupyter-widgets/base",
       "_view_module_version": "1.2.0",
       "_view_name": "StyleView",
       "bar_color": null,
       "description_width": ""
      }
     },
     "b5f2fc9bed824ad2b05299852d953115": {
      "model_module": "@jupyter-widgets/controls",
      "model_module_version": "1.5.0",
      "model_name": "DescriptionStyleModel",
      "state": {
       "_model_module": "@jupyter-widgets/controls",
       "_model_module_version": "1.5.0",
       "_model_name": "DescriptionStyleModel",
       "_view_count": null,
       "_view_module": "@jupyter-widgets/base",
       "_view_module_version": "1.2.0",
       "_view_name": "StyleView",
       "description_width": ""
      }
     },
     "b7ecf5baff1f4a899a9c80d07ba110de": {
      "model_module": "@jupyter-widgets/controls",
      "model_module_version": "1.5.0",
      "model_name": "HTMLModel",
      "state": {
       "_dom_classes": [],
       "_model_module": "@jupyter-widgets/controls",
       "_model_module_version": "1.5.0",
       "_model_name": "HTMLModel",
       "_view_count": null,
       "_view_module": "@jupyter-widgets/controls",
       "_view_module_version": "1.5.0",
       "_view_name": "HTMLView",
       "description": "",
       "description_tooltip": null,
       "layout": "IPY_MODEL_a3208b51652544e19aff0463870693d9",
       "placeholder": "​",
       "style": "IPY_MODEL_44d8a86e8fb644c196c22edd28ca43d2",
       "value": " 499M/499M [00:01&lt;00:00, 412MB/s]"
      }
     },
     "be8db30c8d9347479cc09913e248d530": {
      "model_module": "@jupyter-widgets/controls",
      "model_module_version": "1.5.0",
      "model_name": "HBoxModel",
      "state": {
       "_dom_classes": [],
       "_model_module": "@jupyter-widgets/controls",
       "_model_module_version": "1.5.0",
       "_model_name": "HBoxModel",
       "_view_count": null,
       "_view_module": "@jupyter-widgets/controls",
       "_view_module_version": "1.5.0",
       "_view_name": "HBoxView",
       "box_style": "",
       "children": [
        "IPY_MODEL_2e567acedb71457c94dc66fb6685b12b",
        "IPY_MODEL_5a5e8a51f89746519e6de7e6a8f779d3",
        "IPY_MODEL_1c7c62917a804822af0d1941be345d98"
       ],
       "layout": "IPY_MODEL_dfd16b35461643f2a86b3a4e88450a53"
      }
     },
     "c45da7b61bed47db8c1a9727e2aa5c28": {
      "model_module": "@jupyter-widgets/base",
      "model_module_version": "1.2.0",
      "model_name": "LayoutModel",
      "state": {
       "_model_module": "@jupyter-widgets/base",
       "_model_module_version": "1.2.0",
       "_model_name": "LayoutModel",
       "_view_count": null,
       "_view_module": "@jupyter-widgets/base",
       "_view_module_version": "1.2.0",
       "_view_name": "LayoutView",
       "align_content": null,
       "align_items": null,
       "align_self": null,
       "border": null,
       "bottom": null,
       "display": null,
       "flex": null,
       "flex_flow": null,
       "grid_area": null,
       "grid_auto_columns": null,
       "grid_auto_flow": null,
       "grid_auto_rows": null,
       "grid_column": null,
       "grid_gap": null,
       "grid_row": null,
       "grid_template_areas": null,
       "grid_template_columns": null,
       "grid_template_rows": null,
       "height": null,
       "justify_content": null,
       "justify_items": null,
       "left": null,
       "margin": null,
       "max_height": null,
       "max_width": null,
       "min_height": null,
       "min_width": null,
       "object_fit": null,
       "object_position": null,
       "order": null,
       "overflow": null,
       "overflow_x": null,
       "overflow_y": null,
       "padding": null,
       "right": null,
       "top": null,
       "visibility": null,
       "width": null
      }
     },
     "c6ac315309b74ad1b792c45527e0dc61": {
      "model_module": "@jupyter-widgets/controls",
      "model_module_version": "1.5.0",
      "model_name": "ProgressStyleModel",
      "state": {
       "_model_module": "@jupyter-widgets/controls",
       "_model_module_version": "1.5.0",
       "_model_name": "ProgressStyleModel",
       "_view_count": null,
       "_view_module": "@jupyter-widgets/base",
       "_view_module_version": "1.2.0",
       "_view_name": "StyleView",
       "bar_color": null,
       "description_width": ""
      }
     },
     "cffdfe42c661465b964b0b100ae146e0": {
      "model_module": "@jupyter-widgets/controls",
      "model_module_version": "1.5.0",
      "model_name": "HTMLModel",
      "state": {
       "_dom_classes": [],
       "_model_module": "@jupyter-widgets/controls",
       "_model_module_version": "1.5.0",
       "_model_name": "HTMLModel",
       "_view_count": null,
       "_view_module": "@jupyter-widgets/controls",
       "_view_module_version": "1.5.0",
       "_view_name": "HTMLView",
       "description": "",
       "description_tooltip": null,
       "layout": "IPY_MODEL_dc41b8bc61a84dfebf1b415bf704c612",
       "placeholder": "​",
       "style": "IPY_MODEL_2b471a16730c41fcbb328df349771923",
       "value": "Downloading (…)olve/main/vocab.json: 100%"
      }
     },
     "d54ed3480fd543f6bf64e59ec898b2be": {
      "model_module": "@jupyter-widgets/base",
      "model_module_version": "1.2.0",
      "model_name": "LayoutModel",
      "state": {
       "_model_module": "@jupyter-widgets/base",
       "_model_module_version": "1.2.0",
       "_model_name": "LayoutModel",
       "_view_count": null,
       "_view_module": "@jupyter-widgets/base",
       "_view_module_version": "1.2.0",
       "_view_name": "LayoutView",
       "align_content": null,
       "align_items": null,
       "align_self": null,
       "border": null,
       "bottom": null,
       "display": null,
       "flex": null,
       "flex_flow": null,
       "grid_area": null,
       "grid_auto_columns": null,
       "grid_auto_flow": null,
       "grid_auto_rows": null,
       "grid_column": null,
       "grid_gap": null,
       "grid_row": null,
       "grid_template_areas": null,
       "grid_template_columns": null,
       "grid_template_rows": null,
       "height": null,
       "justify_content": null,
       "justify_items": null,
       "left": null,
       "margin": null,
       "max_height": null,
       "max_width": null,
       "min_height": null,
       "min_width": null,
       "object_fit": null,
       "object_position": null,
       "order": null,
       "overflow": null,
       "overflow_x": null,
       "overflow_y": null,
       "padding": null,
       "right": null,
       "top": null,
       "visibility": null,
       "width": null
      }
     },
     "d7e7d729cffb4b38b30457093dfc0d1c": {
      "model_module": "@jupyter-widgets/controls",
      "model_module_version": "1.5.0",
      "model_name": "DescriptionStyleModel",
      "state": {
       "_model_module": "@jupyter-widgets/controls",
       "_model_module_version": "1.5.0",
       "_model_name": "DescriptionStyleModel",
       "_view_count": null,
       "_view_module": "@jupyter-widgets/base",
       "_view_module_version": "1.2.0",
       "_view_name": "StyleView",
       "description_width": ""
      }
     },
     "d84389513cb643ce94eb7a9db5dd5dd3": {
      "model_module": "@jupyter-widgets/base",
      "model_module_version": "1.2.0",
      "model_name": "LayoutModel",
      "state": {
       "_model_module": "@jupyter-widgets/base",
       "_model_module_version": "1.2.0",
       "_model_name": "LayoutModel",
       "_view_count": null,
       "_view_module": "@jupyter-widgets/base",
       "_view_module_version": "1.2.0",
       "_view_name": "LayoutView",
       "align_content": null,
       "align_items": null,
       "align_self": null,
       "border": null,
       "bottom": null,
       "display": null,
       "flex": null,
       "flex_flow": null,
       "grid_area": null,
       "grid_auto_columns": null,
       "grid_auto_flow": null,
       "grid_auto_rows": null,
       "grid_column": null,
       "grid_gap": null,
       "grid_row": null,
       "grid_template_areas": null,
       "grid_template_columns": null,
       "grid_template_rows": null,
       "height": null,
       "justify_content": null,
       "justify_items": null,
       "left": null,
       "margin": null,
       "max_height": null,
       "max_width": null,
       "min_height": null,
       "min_width": null,
       "object_fit": null,
       "object_position": null,
       "order": null,
       "overflow": null,
       "overflow_x": null,
       "overflow_y": null,
       "padding": null,
       "right": null,
       "top": null,
       "visibility": null,
       "width": null
      }
     },
     "dc41b8bc61a84dfebf1b415bf704c612": {
      "model_module": "@jupyter-widgets/base",
      "model_module_version": "1.2.0",
      "model_name": "LayoutModel",
      "state": {
       "_model_module": "@jupyter-widgets/base",
       "_model_module_version": "1.2.0",
       "_model_name": "LayoutModel",
       "_view_count": null,
       "_view_module": "@jupyter-widgets/base",
       "_view_module_version": "1.2.0",
       "_view_name": "LayoutView",
       "align_content": null,
       "align_items": null,
       "align_self": null,
       "border": null,
       "bottom": null,
       "display": null,
       "flex": null,
       "flex_flow": null,
       "grid_area": null,
       "grid_auto_columns": null,
       "grid_auto_flow": null,
       "grid_auto_rows": null,
       "grid_column": null,
       "grid_gap": null,
       "grid_row": null,
       "grid_template_areas": null,
       "grid_template_columns": null,
       "grid_template_rows": null,
       "height": null,
       "justify_content": null,
       "justify_items": null,
       "left": null,
       "margin": null,
       "max_height": null,
       "max_width": null,
       "min_height": null,
       "min_width": null,
       "object_fit": null,
       "object_position": null,
       "order": null,
       "overflow": null,
       "overflow_x": null,
       "overflow_y": null,
       "padding": null,
       "right": null,
       "top": null,
       "visibility": null,
       "width": null
      }
     },
     "dfd16b35461643f2a86b3a4e88450a53": {
      "model_module": "@jupyter-widgets/base",
      "model_module_version": "1.2.0",
      "model_name": "LayoutModel",
      "state": {
       "_model_module": "@jupyter-widgets/base",
       "_model_module_version": "1.2.0",
       "_model_name": "LayoutModel",
       "_view_count": null,
       "_view_module": "@jupyter-widgets/base",
       "_view_module_version": "1.2.0",
       "_view_name": "LayoutView",
       "align_content": null,
       "align_items": null,
       "align_self": null,
       "border": null,
       "bottom": null,
       "display": null,
       "flex": null,
       "flex_flow": null,
       "grid_area": null,
       "grid_auto_columns": null,
       "grid_auto_flow": null,
       "grid_auto_rows": null,
       "grid_column": null,
       "grid_gap": null,
       "grid_row": null,
       "grid_template_areas": null,
       "grid_template_columns": null,
       "grid_template_rows": null,
       "height": null,
       "justify_content": null,
       "justify_items": null,
       "left": null,
       "margin": null,
       "max_height": null,
       "max_width": null,
       "min_height": null,
       "min_width": null,
       "object_fit": null,
       "object_position": null,
       "order": null,
       "overflow": null,
       "overflow_x": null,
       "overflow_y": null,
       "padding": null,
       "right": null,
       "top": null,
       "visibility": null,
       "width": null
      }
     },
     "e10f3b537e9a4fe1bd154ba0181551d5": {
      "model_module": "@jupyter-widgets/controls",
      "model_module_version": "1.5.0",
      "model_name": "HTMLModel",
      "state": {
       "_dom_classes": [],
       "_model_module": "@jupyter-widgets/controls",
       "_model_module_version": "1.5.0",
       "_model_name": "HTMLModel",
       "_view_count": null,
       "_view_module": "@jupyter-widgets/controls",
       "_view_module_version": "1.5.0",
       "_view_name": "HTMLView",
       "description": "",
       "description_tooltip": null,
       "layout": "IPY_MODEL_120667ff3e644ce8b44ffcb885204b07",
       "placeholder": "​",
       "style": "IPY_MODEL_16fb2b7af5654faa93d85bd5acc3abf3",
       "value": "Downloading (…)olve/main/merges.txt: 100%"
      }
     },
     "e1aa7f28702344efbbaf269ff3337a6f": {
      "model_module": "@jupyter-widgets/controls",
      "model_module_version": "1.5.0",
      "model_name": "HBoxModel",
      "state": {
       "_dom_classes": [],
       "_model_module": "@jupyter-widgets/controls",
       "_model_module_version": "1.5.0",
       "_model_name": "HBoxModel",
       "_view_count": null,
       "_view_module": "@jupyter-widgets/controls",
       "_view_module_version": "1.5.0",
       "_view_name": "HBoxView",
       "box_style": "",
       "children": [
        "IPY_MODEL_e10f3b537e9a4fe1bd154ba0181551d5",
        "IPY_MODEL_4facc6f36da54907a0f51e5c8e48926b",
        "IPY_MODEL_684285d955af47e9a1d4d32170b3d208"
       ],
       "layout": "IPY_MODEL_d84389513cb643ce94eb7a9db5dd5dd3"
      }
     },
     "e585202618f04113ae17b6e11f632cb4": {
      "model_module": "@jupyter-widgets/base",
      "model_module_version": "1.2.0",
      "model_name": "LayoutModel",
      "state": {
       "_model_module": "@jupyter-widgets/base",
       "_model_module_version": "1.2.0",
       "_model_name": "LayoutModel",
       "_view_count": null,
       "_view_module": "@jupyter-widgets/base",
       "_view_module_version": "1.2.0",
       "_view_name": "LayoutView",
       "align_content": null,
       "align_items": null,
       "align_self": null,
       "border": null,
       "bottom": null,
       "display": null,
       "flex": null,
       "flex_flow": null,
       "grid_area": null,
       "grid_auto_columns": null,
       "grid_auto_flow": null,
       "grid_auto_rows": null,
       "grid_column": null,
       "grid_gap": null,
       "grid_row": null,
       "grid_template_areas": null,
       "grid_template_columns": null,
       "grid_template_rows": null,
       "height": null,
       "justify_content": null,
       "justify_items": null,
       "left": null,
       "margin": null,
       "max_height": null,
       "max_width": null,
       "min_height": null,
       "min_width": null,
       "object_fit": null,
       "object_position": null,
       "order": null,
       "overflow": null,
       "overflow_x": null,
       "overflow_y": null,
       "padding": null,
       "right": null,
       "top": null,
       "visibility": null,
       "width": null
      }
     },
     "e756649a57e64d0ea3846bc1dd218f00": {
      "model_module": "@jupyter-widgets/base",
      "model_module_version": "1.2.0",
      "model_name": "LayoutModel",
      "state": {
       "_model_module": "@jupyter-widgets/base",
       "_model_module_version": "1.2.0",
       "_model_name": "LayoutModel",
       "_view_count": null,
       "_view_module": "@jupyter-widgets/base",
       "_view_module_version": "1.2.0",
       "_view_name": "LayoutView",
       "align_content": null,
       "align_items": null,
       "align_self": null,
       "border": null,
       "bottom": null,
       "display": null,
       "flex": null,
       "flex_flow": null,
       "grid_area": null,
       "grid_auto_columns": null,
       "grid_auto_flow": null,
       "grid_auto_rows": null,
       "grid_column": null,
       "grid_gap": null,
       "grid_row": null,
       "grid_template_areas": null,
       "grid_template_columns": null,
       "grid_template_rows": null,
       "height": null,
       "justify_content": null,
       "justify_items": null,
       "left": null,
       "margin": null,
       "max_height": null,
       "max_width": null,
       "min_height": null,
       "min_width": null,
       "object_fit": null,
       "object_position": null,
       "order": null,
       "overflow": null,
       "overflow_x": null,
       "overflow_y": null,
       "padding": null,
       "right": null,
       "top": null,
       "visibility": null,
       "width": null
      }
     },
     "e8355ef6c5564167a70e92b068988d64": {
      "model_module": "@jupyter-widgets/controls",
      "model_module_version": "1.5.0",
      "model_name": "HTMLModel",
      "state": {
       "_dom_classes": [],
       "_model_module": "@jupyter-widgets/controls",
       "_model_module_version": "1.5.0",
       "_model_name": "HTMLModel",
       "_view_count": null,
       "_view_module": "@jupyter-widgets/controls",
       "_view_module_version": "1.5.0",
       "_view_name": "HTMLView",
       "description": "",
       "description_tooltip": null,
       "layout": "IPY_MODEL_b2a8a11bdf904c2f9e9a958177d85d77",
       "placeholder": "​",
       "style": "IPY_MODEL_eddc37e2aa05435491615f25f72723e7",
       "value": "100%"
      }
     },
     "ea3cc8d22c3945fcb72ee7084a1380ee": {
      "model_module": "@jupyter-widgets/controls",
      "model_module_version": "1.5.0",
      "model_name": "DescriptionStyleModel",
      "state": {
       "_model_module": "@jupyter-widgets/controls",
       "_model_module_version": "1.5.0",
       "_model_name": "DescriptionStyleModel",
       "_view_count": null,
       "_view_module": "@jupyter-widgets/base",
       "_view_module_version": "1.2.0",
       "_view_name": "StyleView",
       "description_width": ""
      }
     },
     "eddc37e2aa05435491615f25f72723e7": {
      "model_module": "@jupyter-widgets/controls",
      "model_module_version": "1.5.0",
      "model_name": "DescriptionStyleModel",
      "state": {
       "_model_module": "@jupyter-widgets/controls",
       "_model_module_version": "1.5.0",
       "_model_name": "DescriptionStyleModel",
       "_view_count": null,
       "_view_module": "@jupyter-widgets/base",
       "_view_module_version": "1.2.0",
       "_view_name": "StyleView",
       "description_width": ""
      }
     },
     "ee5fc1334e1f46e5bcccbd440748624c": {
      "model_module": "@jupyter-widgets/controls",
      "model_module_version": "1.5.0",
      "model_name": "DescriptionStyleModel",
      "state": {
       "_model_module": "@jupyter-widgets/controls",
       "_model_module_version": "1.5.0",
       "_model_name": "DescriptionStyleModel",
       "_view_count": null,
       "_view_module": "@jupyter-widgets/base",
       "_view_module_version": "1.2.0",
       "_view_name": "StyleView",
       "description_width": ""
      }
     },
     "fa45e4ed5e624db79b8ff1dd29eba616": {
      "model_module": "@jupyter-widgets/base",
      "model_module_version": "1.2.0",
      "model_name": "LayoutModel",
      "state": {
       "_model_module": "@jupyter-widgets/base",
       "_model_module_version": "1.2.0",
       "_model_name": "LayoutModel",
       "_view_count": null,
       "_view_module": "@jupyter-widgets/base",
       "_view_module_version": "1.2.0",
       "_view_name": "LayoutView",
       "align_content": null,
       "align_items": null,
       "align_self": null,
       "border": null,
       "bottom": null,
       "display": null,
       "flex": null,
       "flex_flow": null,
       "grid_area": null,
       "grid_auto_columns": null,
       "grid_auto_flow": null,
       "grid_auto_rows": null,
       "grid_column": null,
       "grid_gap": null,
       "grid_row": null,
       "grid_template_areas": null,
       "grid_template_columns": null,
       "grid_template_rows": null,
       "height": null,
       "justify_content": null,
       "justify_items": null,
       "left": null,
       "margin": null,
       "max_height": null,
       "max_width": null,
       "min_height": null,
       "min_width": null,
       "object_fit": null,
       "object_position": null,
       "order": null,
       "overflow": null,
       "overflow_x": null,
       "overflow_y": null,
       "padding": null,
       "right": null,
       "top": null,
       "visibility": null,
       "width": null
      }
     },
     "fa52db8b5f0948b88687259281b702f3": {
      "model_module": "@jupyter-widgets/controls",
      "model_module_version": "1.5.0",
      "model_name": "ProgressStyleModel",
      "state": {
       "_model_module": "@jupyter-widgets/controls",
       "_model_module_version": "1.5.0",
       "_model_name": "ProgressStyleModel",
       "_view_count": null,
       "_view_module": "@jupyter-widgets/base",
       "_view_module_version": "1.2.0",
       "_view_name": "StyleView",
       "bar_color": null,
       "description_width": ""
      }
     },
     "fd1bb9f67d7c40f490848101c84e8482": {
      "model_module": "@jupyter-widgets/controls",
      "model_module_version": "1.5.0",
      "model_name": "ProgressStyleModel",
      "state": {
       "_model_module": "@jupyter-widgets/controls",
       "_model_module_version": "1.5.0",
       "_model_name": "ProgressStyleModel",
       "_view_count": null,
       "_view_module": "@jupyter-widgets/base",
       "_view_module_version": "1.2.0",
       "_view_name": "StyleView",
       "bar_color": null,
       "description_width": ""
      }
     }
    },
    "version_major": 2,
    "version_minor": 0
   }
  }
 },
 "nbformat": 4,
 "nbformat_minor": 5
}
